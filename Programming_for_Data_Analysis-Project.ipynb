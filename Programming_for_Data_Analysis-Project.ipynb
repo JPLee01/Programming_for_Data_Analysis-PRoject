{
 "cells": [
  {
   "cell_type": "markdown",
   "metadata": {},
   "source": [
    "<img align=\"centre\" width=\"750\" height=\"750\" img src=\"https://i0.wp.com/www.creatingentrepreneursinfood.eu/wp-content/uploads/2017/02/GMIT-logo.png\">"
   ]
  },
  {
   "cell_type": "markdown",
   "metadata": {},
   "source": [
    "# Project - Programming for Data Analysis \n",
    "\n",
    "* **Author:** John Paul Lee\n",
    "* **Github:** JPLee01\n",
    "* **Email:** G00387906@gmit.ie\n",
    "* **Created:** 26-11-2020, **Last update:** 21-12-2020\n",
    "* Programming of Data Analysis: Simulation of real-world data using *numpy.random* package Project 2020\n",
    "****\n",
    "This Jupyter Notebook has been created to simulate a data set of real-world data using the *numpy.random* packge in Python. This notebook will investigate the types of variables involved, their likely distributions, and their relationships with each other. While also synthesising/simulating the data set as closely matching the properties as possible.\n",
    "\n",
    "**Lecturer:** Dr. Brian McGinley\n",
    "\n",
    "The Project instructions can be found [here](https://github.com/JPLee01/Programming_for_Data_Analysis-Project/blob/main/Project%20Instructions.pdf)\n",
    "****"
   ]
  },
  {
   "cell_type": "markdown",
   "metadata": {},
   "source": [
    "As part of the project this notebook will deal with four main tasks:\n",
    "1. Choose a real-world phenomenon that can be measured and for which you could collect at least one-hundred data points across at least four different variables.\n",
    "2. Investigate the types of variables involved, their likely distributions, and their relationships with each other.\n",
    "3. Synthesise/simulate a data set as closely matching their properties as possible.\n",
    "4. Detail your research and implement the simulation in a Jupyter notebook – the data set itself can simply be displayed in an output cell within the notebook."
   ]
  },
  {
   "cell_type": "markdown",
   "metadata": {},
   "source": [
    "## Preliminaries\n",
    "Prior to dealing with each task we first need to import a number of libraries. We need to import the NumPy library as it is essential to synthesise the data set. The Pandas libary will also be imported to allow for analysis of the dat set. The matplotlib and seaborn libaries will also need to be imported to allow for the creation of visualisations in the notebook."
   ]
  },
  {
   "cell_type": "code",
   "execution_count": 1,
   "metadata": {},
   "outputs": [],
   "source": [
    "# Import numpy to allow for simulation of the data set.\n",
    "# Import pandas to allow for analysis of the dat set. \n",
    "# Import matplotlib.pyplot and seaborn for the creation of visualisations\n",
    "import numpy as np\n",
    "import pandas as pd\n",
    "import matplotlib.pyplot as plt\n",
    "import seaborn as sns"
   ]
  },
  {
   "cell_type": "markdown",
   "metadata": {},
   "source": [
    "Also as we will be displaying Plots in this Jupyter Notebook we will implement the *inline* magic command to allow the Plots to be rendered inline within the Notebook.<sup>[1]</sup>"
   ]
  },
  {
   "cell_type": "code",
   "execution_count": 2,
   "metadata": {},
   "outputs": [],
   "source": [
    "#Inline Magic command implemented to ensure that the Plots are rendered inline\n",
    "%matplotlib inline"
   ]
  },
  {
   "cell_type": "markdown",
   "metadata": {},
   "source": [
    "To ensure uniformity throughout the Juypter Notebook in terms of the the Seaborn Plots display the *style* and *palette* fuction will be set.\n",
    "\n",
    "The *style* function will be set to *darkgrid*. This will allow for optimal measurments of Plots as the darkened background with the built in grid lines will be best displayed against the white background of the Juypter Notebook.<sup>[2]</sup> \n",
    "\n",
    "The *palette* fuction will be set to *bright* as it will allow for clear distinction of multiple outputs within one Plot.<sup>[3]</sup> "
   ]
  },
  {
   "cell_type": "code",
   "execution_count": 3,
   "metadata": {},
   "outputs": [],
   "source": [
    "#Setting of Seaborn dispays to enure uniformity throughout the Juypter Notebook\n",
    "#Darkplot style selected to allow for optimal measurments of Plots\n",
    "sns.set_style(\"darkgrid\")\n",
    "#Bright colour palette selected to allow for clear distinction of multiple outputs within one Plot \n",
    "sns.set_palette(\"bright\")"
   ]
  },
  {
   "cell_type": "markdown",
   "metadata": {},
   "source": [
    "To ensure the random arrays produced throughout the project will not change after every iteration of the designated cell or kernel the pseudo random number generator will be seeded.<sup>[4]</sup> While some may argue this results in the pseudo-random numbers becoming pre-determined, this consistency is important as it ensures the data entered in several plots throughout the project remains correct after every iteration.<sup>[5]</sup> It should also be noted that the number 111 for the seed has been chosen at random. "
   ]
  },
  {
   "cell_type": "code",
   "execution_count": 4,
   "metadata": {},
   "outputs": [],
   "source": [
    "np.random.seed(111)"
   ]
  },
  {
   "cell_type": "markdown",
   "metadata": {},
   "source": [
    "<img align=\"centre\" width=\"550\" height=\"450\" img src=\"https://vosizneias.com/wp-content/uploads/2020/05/now-BBDPGmkv-screentime1jpg-1210-680.jpg\">"
   ]
  },
  {
   "cell_type": "markdown",
   "metadata": {},
   "source": [
    "## Background\n",
    "This project will focus on the real-world phenomenon of the use of mobile devices by children. With the recent closures of Irish National Schools due to COVID19<sup>[6]</sup> childrens classes were moved online with resulted in their scren time increasing greatly.<sup>[7]</sup> This increase in screen time garnered alot of attention and provoked debate on the potential negative long term effects it may have on children.<sup>[8]</sup>\n",
    "\n",
    "This project aims to explore the relationships between a childs age, gender, screen time and the number of apps they use. The project will also attempt to be able to predict if a childs screen time will effect their long term health. As a result the four variables the project will focus on will be:\n",
    "1. Childs Age\n",
    "2. Gender\n",
    "3. Screen Time\n",
    "4. Number of Apps\n",
    "\n",
    "As this topic is a relatively new phenomenon and new research is being produced regurarly, the author will not base the project soley around one single source of infomration but will instead draw on a wide array of literature (journals, articles, studies etc.) to shape and influence the variables and the data set. \n",
    "\n",
    "The reason this topic was chosen by the author is that it is an area in which the author is activly interested in. As an expectant father, the author is acutely aware that todays generation are exposed to more mobile devices at a younger age than ever before. The author is conscious that while there are benefits to children using mobile devices, there are also potential negative effects and it is something which the author would like to explore. "
   ]
  },
  {
   "cell_type": "markdown",
   "metadata": {},
   "source": [
    "## Construction of Variables\n",
    "This section will focus on the construction of the variables chosen for the data set. \n",
    "\n",
    "While the instructions for the project state that the real-world phenomenon should contain at least one-hundred data points, the author feels that given the topics wide range of childrens ages, one-hundred data points is perhaps too small a sample size and may lead to an increase the margin of error or variability of the data set.<sup>[9]</sup> As a result, the author will draw inspiration from the Sellcell<sup>[10]</sup>, GSMA (Global System for Mobile Communications Association)<sup>[11]</sup> and Hosokawa<sup>[12]</sup> studies into this area which used samples sizes of 1135, 890 (average per country) and 1642 respectively. The result will mean that the a sample size of 1250 (the average of the above three studies rounded up) will be used for the project. It is hope this sample size will be able to offer confidence in the findings and also redue the margin of error."
   ]
  },
  {
   "cell_type": "markdown",
   "metadata": {},
   "source": [
    "### 1. Age\n",
    "While it should be assumed that the age category for a person to be classed as a child is common knowledge, in realtiy it is quiet different. As seen in Paul Cullens article<sup>[13]</sup> difference of opinion exisits on when a person is classified as a child and adult. In order to avoid confusion the project will use the Central Statistics Office's (CSO) age groups from the 2016 Census<sup>[14]</sup> (most recent) in it's age category for children. This will result in persons under the age of 18 being classed as childern with three further sub-categories being employed to differentiate the children based on their stage of education; Pre-school (0-5 years), Primary (5-13 years) and Secondary (13-18 years). \n",
    "\n",
    "As the author wishes for the project to remain as unbiased as possible, the distribution of the ages across the sample size will be determined by the numpy.random.randint function. This function is chosen as it returns random integers from the discrete uniform distribution, therefore ensuring each age has the same likelihhod of occuring.<sup>[15]</sup> This distribution the author feels is very important as it will ensure the data set is not dominated by one particular age."
   ]
  },
  {
   "cell_type": "code",
   "execution_count": 5,
   "metadata": {
    "scrolled": true
   },
   "outputs": [
    {
     "data": {
      "text/plain": [
       "array([12,  9,  2, ..., 17,  9, 15])"
      ]
     },
     "execution_count": 5,
     "metadata": {},
     "output_type": "execute_result"
    }
   ],
   "source": [
    "#Generate the random set of ages for the project (19 is entered into the code to allow for the distribution to be between 0 and 18, inclusive) \n",
    "age = np.random.randint(0,19, 1250)\n",
    "age"
   ]
  },
  {
   "cell_type": "code",
   "execution_count": 6,
   "metadata": {},
   "outputs": [
    {
     "data": {
      "text/plain": [
       "8.9536"
      ]
     },
     "execution_count": 6,
     "metadata": {},
     "output_type": "execute_result"
    }
   ],
   "source": [
    "#Average age of the sample\n",
    "np.mean(age)"
   ]
  },
  {
   "cell_type": "code",
   "execution_count": 7,
   "metadata": {},
   "outputs": [
    {
     "data": {
      "text/plain": [
       "9.0"
      ]
     },
     "execution_count": 7,
     "metadata": {},
     "output_type": "execute_result"
    }
   ],
   "source": [
    "#Median age of the sample\n",
    "np.median(age)"
   ]
  },
  {
   "cell_type": "code",
   "execution_count": 8,
   "metadata": {
    "scrolled": true
   },
   "outputs": [
    {
     "data": {
      "image/png": "[encoded data removed]",
      "text/plain": [
       "<Figure size 432x288 with 1 Axes>"
      ]
     },
     "metadata": {},
     "output_type": "display_data"
    }
   ],
   "source": [
    "plt.hist(age)\n",
    "plt.title('Age of Sample')\n",
    "plt.xlabel('Age in years')\n",
    "plt.ylabel('Number')\n",
    "plt.grid()"
   ]
  },
  {
   "cell_type": "code",
   "execution_count": 9,
   "metadata": {
    "scrolled": true
   },
   "outputs": [
    {
     "data": {
      "image/png": "[encoded data removed]",
      "text/plain": [
       "<Figure size 432x288 with 1 Axes>"
      ]
     },
     "metadata": {},
     "output_type": "display_data"
    }
   ],
   "source": [
    "#Plotting of the Age Distribution by Sub-Categories\n",
    "plt.hist(age, bins= [0,5,13,18])\n",
    "plt.title('Age of Sample by Sub-Categories')\n",
    "plt.xlabel('Age in years')\n",
    "plt.ylabel('Number')\n",
    "plt.grid()"
   ]
  },
  {
   "cell_type": "markdown",
   "metadata": {},
   "source": [
    "As we can see from the above first plot, the distribution of the ages accross the sample size quiet even apart from the 6-8 age caregory which seems to include on average 40 respondents less than the other age ranges. When the ages are further divided into the sub-catergories we see in the second plot that the Primary (5-13 years) contains the majority of respondents (500) versus the other two sub-catergories; Pre-school (0-5 years) (300) and Secondary (13-18 years) (400).\n",
    "\n",
    "While the above two plots may appear to show bias towards or against a certain age range this in fact purley the result of the visualtion in which the bins are displayed. This hypothecial bias can be seen to take a different turn when the age range is displayed with a bin representing every year (i.e 1,2,3 etc). In the below plot we can see that now it appreas there is a \n",
    "\n",
    "This can also be seen by the average age of the sample being 9.0632 which exceptionally close to the median age of the sample (9). \n"
   ]
  },
  {
   "cell_type": "code",
   "execution_count": 10,
   "metadata": {},
   "outputs": [
    {
     "data": {
      "image/png": "[encoded data removed]",
      "text/plain": [
       "<Figure size 432x288 with 1 Axes>"
      ]
     },
     "metadata": {},
     "output_type": "display_data"
    }
   ],
   "source": [
    "#Plotting of the Age Distribution by Sub-Categories\n",
    "plt.hist(age, bins= [0,1,2,3,4,5,6,7,8,9,10,11,12,13,14,15,16,17,18])\n",
    "plt.title('Age by Sub-Categories')\n",
    "plt.xlabel('Age in years')\n",
    "plt.ylabel('Number')\n",
    "plt.grid()"
   ]
  },
  {
   "cell_type": "markdown",
   "metadata": {},
   "source": [
    "### 2. Gender\n",
    "For the purpose of this project the author will treat gender as a binary categorical variable, i.e. a varible that has two values, male and female. It should be noted that categorical data can also take on numerical values, this could be for example 0 = female and 1 = male.\n",
    "\n",
    "The distribution for this variable will be calculated using the numpy.random.choice function. This function returns a returns a randomly selected sample from the specified sequence.<sup>[16]</sup> The specified sequence for the numpy.random.choice function will be the choice between the two genders i.e. Male or Female. In order to ensure realism, the gender breakdown for the project will follow the same breakdown as the 2016 census. According to the 2016 census there were 978 males for every 1,000 females.<sup>[17]</sup> This gives a probability for the numpy.random.choice function as male = .495 (49.55) and female = .505 (50.55)."
   ]
  },
  {
   "cell_type": "code",
   "execution_count": 11,
   "metadata": {
    "scrolled": true
   },
   "outputs": [
    {
     "data": {
      "text/plain": [
       "array(['Male', 'Male', 'Female', ..., 'Male', 'Female', 'Male'],\n",
       "      dtype='<U6')"
      ]
     },
     "execution_count": 11,
     "metadata": {},
     "output_type": "execute_result"
    }
   ],
   "source": [
    "Gender = ['Male', 'Female'] \n",
    "g = np.random.choice(Gender, 1250, p=[0.495, 0.505])\n",
    "g"
   ]
  },
  {
   "cell_type": "markdown",
   "metadata": {},
   "source": [
    "As we can see above an array is produced stating if the gender is male or female. This array can also be produced numerically where 1 = male and 0 = female. "
   ]
  },
  {
   "cell_type": "code",
   "execution_count": 12,
   "metadata": {
    "scrolled": true
   },
   "outputs": [
    {
     "data": {
      "text/plain": [
       "array([0, 1, 0, ..., 1, 0, 0])"
      ]
     },
     "execution_count": 12,
     "metadata": {},
     "output_type": "execute_result"
    }
   ],
   "source": [
    "Gender_Num = [1, 0]\n",
    "w = np.random.choice(Gender_Num, 1250, p=[0.495, 0.505])\n",
    "w"
   ]
  },
  {
   "cell_type": "markdown",
   "metadata": {},
   "source": [
    "From this array we can implement the the numpy.count_nonzero function<sup>[18]</sup> to count the number of 1 (male) and 0 (female) figures in the array. This will allow us to see the breakdown of males and females in the sample set. "
   ]
  },
  {
   "cell_type": "code",
   "execution_count": 13,
   "metadata": {
    "scrolled": false
   },
   "outputs": [
    {
     "name": "stdout",
     "output_type": "stream",
     "text": [
      "Number of Males:  617\n",
      "Number of Females:  633\n"
     ]
    }
   ],
   "source": [
    "print(\"Number of Males: \", np.count_nonzero(w == 1))\n",
    "print(\"Number of Females: \", np.count_nonzero(w == 0))"
   ]
  },
  {
   "cell_type": "markdown",
   "metadata": {},
   "source": [
    "As we can see above the breakdown of males and females in the sample set is 622 and 628 respectively. This can be visually represented using the matplotlib.pyplot.pie function.<sup>[19]</sup>"
   ]
  },
  {
   "cell_type": "code",
   "execution_count": 14,
   "metadata": {},
   "outputs": [
    {
     "data": {
      "image/png": "[encoded data removed]",
      "text/plain": [
       "<Figure size 576x576 with 1 Axes>"
      ]
     },
     "metadata": {},
     "output_type": "display_data"
    }
   ],
   "source": [
    "labels = 'Male', 'Female'\n",
    "sizes = [617, 633]\n",
    "explode = (0, 0.1)\n",
    "\n",
    "fig1, ax1 = plt.subplots(figsize=(8,8))\n",
    "ax1.pie(sizes, explode=explode, labels=labels, autopct='%1.1f%%',\n",
    "        shadow=True, startangle=90)\n",
    "ax1.axis('equal')\n",
    "plt.title('Gender Breakdown')\n",
    "plt.show()"
   ]
  },
  {
   "cell_type": "markdown",
   "metadata": {},
   "source": [
    "As we can see from the above Pie Chart in precentage terms the breakdown for males and females in the sample set is 49.4% vs. 50.6% respectively. It should be noted that the breakdown is extremely close to the breakdown recored in the 2016 Census (males 49.55% vs. females 50.55%)."
   ]
  },
  {
   "cell_type": "markdown",
   "metadata": {},
   "source": [
    "### 3. Screen Time\n",
    "As earlier stated screen time has become a hot topic with regards to children. Even prior to COVID19 academics were conducting stidies which pointed to worrying effects of increased screen time.<sup>[20]</sup> Needless to say as a result of COVID and the move to online learning childrens screen time increased, in some cases as much as 70%, during lockdown.<sup>[21]</sup>\n",
    "\n",
    "Due to the fluid nature of this area, the author for the purpose of this project,  will refer to four seperate studies which looked as the area of childrens screen time. The earlier mentioned Sellcell study<sup>[10]</sup> in it's analysis concluded that on average children are speaning spending 30 hours a week on mobile devices. While a Childwise study<sup>[22]</sup> found that on average children spend about three hours and 20 minutes each day on mobile devices. A study by the Henry J. Kaiser Family Foundation<sup>[23]</sup> found the figure much higher at on average 7 hours 38 minutes a day. The American Heart Association<sup>[24]</sup> in thier research found the figure similiar to the Henry J. Kaiser Family Foundation research at on average seven hours a day. While the above studies have a large disparity in their calculations it should be noted that these studies were conducted in different countries (UK and USA), and were conducted at different periods e.g. American Heart Association 2018, Childwise 2020.\n",
    "\n",
    "In terms of the distribution the author feels that a childs screen time follows a normal distribution pattern. According to Weisstein<sup>[25]</sup> a normal distribution is a symmetric distribution where most of the observations cluster around the central peak and the probabilities for values further away from the mean taper off equally in both directions. This definition of a normal distribution fits into the criteria of childrens screen time where the central peak would be the average time a childs spends on mobile devices and distribution either side would cater for the childern who spend more or less time than the average on mobile devices.\n",
    "\n",
    "In order to ensure as broad a balanced calculation as possible the author will take an average of the above figures from the studies in thier calculations. This calculation, 38.9 hours a week, will be rounded up to 39 hours a week for ease of calculations. Also due to the all the above studies taking place prior to the COVID19 lockdowns (the Childwise study was undertaken in January 2020) the author will add 1 hour to the calculated average to account for the move to online learning during the lockdowns. This will give an average of 40 hours screen time a week for the purpose of the project. Through calculations and modeling<sup>[26]</sup> the author will apply a standard deviation of 10 which will ensure the averages from the above studies will be captured in the 68% of the area under the curve.\n"
   ]
  },
  {
   "cell_type": "code",
   "execution_count": 15,
   "metadata": {},
   "outputs": [
    {
     "data": {
      "text/plain": [
       "array([34.46082016, 23.19876751, 20.92084398, ..., 36.68957918,\n",
       "       26.87095564, 32.68476987])"
      ]
     },
     "execution_count": 15,
     "metadata": {},
     "output_type": "execute_result"
    }
   ],
   "source": [
    "#Construction of normal distribution, mean set to 40 and standard deviation set to 10\n",
    "s = np.random.normal(40, 10, 1250)\n",
    "s"
   ]
  },
  {
   "cell_type": "code",
   "execution_count": 16,
   "metadata": {},
   "outputs": [
    {
     "data": {
      "image/png": "[encoded data removed]",
      "text/plain": [
       "<Figure size 432x288 with 1 Axes>"
      ]
     },
     "metadata": {},
     "output_type": "display_data"
    }
   ],
   "source": [
    "sns.distplot(s)\n",
    "plt.title('Childrens Screen Time')\n",
    "plt.xlabel('Hours a Week')\n",
    "plt.ylabel('Frequency')\n",
    "plt.show()"
   ]
  },
  {
   "cell_type": "markdown",
   "metadata": {},
   "source": [
    "As we can see above the screen time distribution follows the normal distribution Bell Curve shape and accounts for the small proportion of the sample who either spend minimial or no time on mobile devices and those who spend large quantities of time on mobile devices.  "
   ]
  },
  {
   "cell_type": "markdown",
   "metadata": {},
   "source": [
    "### 4. Number of Apps\n",
    "The number of apps a chidren uses on thier mobile device will play a crucial part in the amount of time they spend on it. Research has suggested a direct link between the amount of apps a child engages with on thier mobile device and their amount of screen time.<sup>[27]</sup> However, studies have also drawn very different conclusions with regards to the number of apps children interact with on thier mobile device. Ofcom in their Children and parents: Media use and attitudes report 2019<sup>[28]</sup> discovered that on average children engage with 8 apps. This figure was also backed up by Act for Youth research.<sup>[29]</sup> However Forresters research<sup>[30]</sup> suggets that figure is lower at 5 apps. Bentley et al.<sup>[31]</sup> placed the figure higher at 10 apps, and Madden et al.<sup>[32]</sup> place the figure as low as 3 apps. \n",
    "\n",
    "Similiar to the screen time studies it should be noted that the above studies were conducted over the period of 2013-2019. As a result of this, the author, feels that perhaps the conclusions drawn in the 2013 research (3 apps) might not be fully indicative of todays tech reliant society. As a result the author will place greater weighting in the most recent studies (2019) which calculated the average number of apps at 8 and 10 respectively. The author feels this weighting will better relfect todays childerns interaction with apps.\n",
    "\n",
    "Similiar to the Gender distribution calculation, the author will implement the numpy.random.choice function to calculate the Number of Apps distribution. The author will set the range to between 1 and 10 to signify the amount of apps. Also due to the above observations with regards to the studies, the author increase the weighting the inline with the number of apps i.e. the probability of interacting with 2 apps will be lower than the probability of interacting with 8 apps. The author will also place the second highest weighting (0.17) to 8 apps and the highest (0.18) to 10 apps to reflect the 2019 studies."
   ]
  },
  {
   "cell_type": "code",
   "execution_count": 17,
   "metadata": {
    "scrolled": true
   },
   "outputs": [
    {
     "data": {
      "text/plain": [
       "array([ 8,  4,  4, ...,  9, 10,  5])"
      ]
     },
     "execution_count": 17,
     "metadata": {},
     "output_type": "execute_result"
    }
   ],
   "source": [
    "app_num = [1,2,3,4,5,6,7,8,9,10]\n",
    "apps = np.random.choice(app_num, 1250, p=[0.01,0.03,0.06,0.07,0.09,0.10,0.13,0.17,0.16,0.18])\n",
    "apps"
   ]
  },
  {
   "cell_type": "code",
   "execution_count": 18,
   "metadata": {
    "scrolled": false
   },
   "outputs": [
    {
     "data": {
      "image/png": "[encoded data removed]",
      "text/plain": [
       "<Figure size 432x288 with 1 Axes>"
      ]
     },
     "metadata": {},
     "output_type": "display_data"
    }
   ],
   "source": [
    "#Distribution Plot of the above calculation to identify the type of distribution\n",
    "sns.distplot(apps)\n",
    "plt.title('Childrens Number of Apps')\n",
    "plt.xlabel('Numbeer of Apps')\n",
    "plt.ylabel('Frequency')\n",
    "plt.show()"
   ]
  },
  {
   "cell_type": "markdown",
   "metadata": {},
   "source": [
    "From the above calculation and visulation through the seaborn.distplot function<sup>[33]</sup> it can be seen that the kernel density estimation (KDE) follows something of a binomial distribution. By definition a binomial distribution is a probability distribution that describes the outcome of n independent trials in an experiment. Each trial is assumed to have only two outcomes, either success or failure and have a probability associated with success and failure.<sup>[34]</sup> However as the above conditions do not fit the criteria for a binomial distribution i.e. the above calculation has ten different outcomes (1-10 apps) and would not be classed as success or failure, the author will investigate the calculations further.\n",
    "\n",
    "I allow for further calculations the author will first identify the total figure for each outcome e.g. total figure for number of children who interact with 2 Apps. The author will then plot these results on a bar chart. It is hoped plotting these results in the form of a bar chart will give a clearer picture to the type of distribution the calculations take. "
   ]
  },
  {
   "cell_type": "code",
   "execution_count": 19,
   "metadata": {},
   "outputs": [
    {
     "name": "stdout",
     "output_type": "stream",
     "text": [
      "Number of Children who interact with 1 App:  12\n",
      "Number of Children who interact with 2 Apps:  42\n",
      "Number of Children who interact with 3 Apps:  70\n",
      "Number of Children who interact with 4 Apps:  97\n",
      "Number of Children who interact with 5 Apps:  111\n",
      "Number of Children who interact with 6 Apps:  134\n",
      "Number of Children who interact with 7 Apps:  159\n",
      "Number of Children who interact with 8 Apps:  200\n",
      "Number of Children who interact with 9 Apps:  200\n",
      "Number of Children who interact with 10 Apps:  225\n"
     ]
    }
   ],
   "source": [
    "#Calculation of the total figures for each outcome\n",
    "print(\"Number of Children who interact with 1 App: \", np.count_nonzero(apps == 1))\n",
    "print(\"Number of Children who interact with 2 Apps: \", np.count_nonzero(apps == 2))\n",
    "print(\"Number of Children who interact with 3 Apps: \", np.count_nonzero(apps == 3))\n",
    "print(\"Number of Children who interact with 4 Apps: \", np.count_nonzero(apps == 4))\n",
    "print(\"Number of Children who interact with 5 Apps: \", np.count_nonzero(apps == 5))\n",
    "print(\"Number of Children who interact with 6 Apps: \", np.count_nonzero(apps == 6))\n",
    "print(\"Number of Children who interact with 7 Apps: \", np.count_nonzero(apps == 7))\n",
    "print(\"Number of Children who interact with 8 Apps: \", np.count_nonzero(apps == 8))\n",
    "print(\"Number of Children who interact with 9 Apps: \", np.count_nonzero(apps == 9))\n",
    "print(\"Number of Children who interact with 10 Apps: \", np.count_nonzero(apps == 10))"
   ]
  },
  {
   "cell_type": "code",
   "execution_count": 20,
   "metadata": {
    "scrolled": true
   },
   "outputs": [
    {
     "data": {
      "image/png": "[encoded data removed]",
      "text/plain": [
       "<Figure size 432x288 with 1 Axes>"
      ]
     },
     "metadata": {},
     "output_type": "display_data"
    }
   ],
   "source": [
    "#Plotting of the above figures on a bar chart\n",
    "fig = plt.figure()\n",
    "ax = fig.add_axes([0,0,1,1])\n",
    "app = ['1', '2', '3', '4', '5', '6', '7', '8', '9', '10']\n",
    "data= [12,42,70,97,111,134,159,200,200,225]\n",
    "ax.bar(app,data)\n",
    "plt.title('Number of Apps Children Interact With')\n",
    "plt.xlabel('Number of Apps')\n",
    "plt.ylabel('Total Number')\n",
    "plt.show()"
   ]
  },
  {
   "cell_type": "markdown",
   "metadata": {},
   "source": [
    "From the futher calculations and visulation it can be argued that the distribution for the number of apps children interact with follows a skewed distribution. A skewed distribution is a distribution where the data is not spread evenly (i.e. normally distributed) and is clustered at one end.<sup>[35]</sup> \n",
    "\n",
    "A skewed distribution can be either positively or negatively skewed depending on the shape of the distribution. This can be seen in the image below.\n",
    "\n",
    "<img align=\"centre\" width=\"550\" height=\"550\" img src=\"https://upload.wikimedia.org/wikipedia/commons/f/f8/Negative_and_positive_skew_diagrams_%28English%29.svg\">\n",
    "\n",
    "From comparing the distribution with the above image we can see the distribution for the number of apps children interact with follows a left (or negative) skewed distribution. In a negitive skew the mass of the distribution is concentrated on the right of the figure, this means the left tail is longer.<sup>[36]</sup> Unlike normally distributed data where all measures of central tendency (mean and median) equal each other, with negatively skewed data, the measures are dispersed. The general relationship between the central tendency measures in a negatively skewed distribution is that the mean will be less than the median.<sup>[37]</sup> \n",
    "\n",
    "Negatively skewed distributions can be found in areas such as finance particulary returns on investments and income.<sup>[38]</sup>  The below image of US household income percentiles in 2019 follows a negatively skewed distribution:\n",
    "\n",
    "<img align=\"centre\" width=\"550\" height=\"550\" img src=\"https://fourpillarfreedom.com/wp-content/uploads/2019/12/incomePercentiles1.jpg\">\n",
    "\n",
    "The author will now calculate the mean and median of the number of apps children interact with."
   ]
  },
  {
   "cell_type": "code",
   "execution_count": 21,
   "metadata": {},
   "outputs": [
    {
     "data": {
      "text/plain": [
       "7.0528"
      ]
     },
     "execution_count": 21,
     "metadata": {},
     "output_type": "execute_result"
    }
   ],
   "source": [
    "#Average number of apps\n",
    "np.mean(apps)"
   ]
  },
  {
   "cell_type": "code",
   "execution_count": 22,
   "metadata": {},
   "outputs": [
    {
     "data": {
      "text/plain": [
       "7.5"
      ]
     },
     "execution_count": 22,
     "metadata": {},
     "output_type": "execute_result"
    }
   ],
   "source": [
    "#Median number of apps\n",
    "np.median(apps)"
   ]
  },
  {
   "cell_type": "markdown",
   "metadata": {},
   "source": [
    "As we can see from the above calculations the mean and median for the number of apps children interact with, follows the negatively skewed distribution. \n",
    "\n",
    "However, another distribution which personnel could argue the number of apps children interact with follows, is the power law distribution. This is due to the fact that as seen in the calculations below the power law distribution is exceptionally similiar to the negatively skewed distribution for the number of apps children interact with. "
   ]
  },
  {
   "cell_type": "code",
   "execution_count": 23,
   "metadata": {},
   "outputs": [
    {
     "data": {
      "image/png": "[encoded data removed]",
      "text/plain": [
       "<Figure size 432x288 with 1 Axes>"
      ]
     },
     "metadata": {},
     "output_type": "display_data"
    }
   ],
   "source": [
    "#Craton of a Power Law distribution for the number of apps children interact with\n",
    "power = np.random.power(10, size=1250)\n",
    "power\n",
    "\n",
    "#Visualation of the above Power Law distribution\n",
    "sns.distplot(power)\n",
    "plt.title('Power Law Distribution - Childrens Number of Apps')\n",
    "plt.xlabel('Frequency')\n",
    "plt.ylabel('Number of Apps')\n",
    "plt.show()"
   ]
  },
  {
   "cell_type": "markdown",
   "metadata": {},
   "source": [
    "It should be noted however, that by definition, the power law distribution is a distribution in which a relative change in one quantity gives rise to a proportional relative change in the other quantity, independent of the initial size of those quantities.<sup>[39]</sup> An example of this would be a square, where if you double the length of a side (from 2 to 4 inches) then the area will quadruple (from 4 to 16 inches squared).<sup>[40]</sup> This definition does not fit in with the distibution for the number of apps children interact with as the change in quantity is not proportional and is only the result of weightings determined by the author.\n",
    "\n",
    "Also a rule of thumb for the power law distribution is the Pareto Principle which states that \"20% of the input creates 80% of the result.\"<sup>[41]</sup> From calculation it can be seen that 20% of the input (8 or more apps) does not create 80% of the result (200+200+225=625, 625/1250=50%)."
   ]
  },
  {
   "cell_type": "markdown",
   "metadata": {},
   "source": [
    "## Construction of the Data Set and Analysis\n",
    "This section will focus on the construction of the data set and it's analysis. To do this the author will first create the data set using the Pandas DataFrame function with the four variables discussed above.<sup>[42]</sup>"
   ]
  },
  {
   "cell_type": "markdown",
   "metadata": {},
   "source": [
    "### Construction of the Data Set"
   ]
  },
  {
   "cell_type": "code",
   "execution_count": null,
   "metadata": {},
   "outputs": [],
   "source": []
  },
  {
   "cell_type": "code",
   "execution_count": 24,
   "metadata": {
    "scrolled": false
   },
   "outputs": [
    {
     "data": {
      "text/html": [
       "<div>\n",
       "<style scoped>\n",
       "    .dataframe tbody tr th:only-of-type {\n",
       "        vertical-align: middle;\n",
       "    }\n",
       "\n",
       "    .dataframe tbody tr th {\n",
       "        vertical-align: top;\n",
       "    }\n",
       "\n",
       "    .dataframe thead th {\n",
       "        text-align: right;\n",
       "    }\n",
       "</style>\n",
       "<table border=\"1\" class=\"dataframe\">\n",
       "  <thead>\n",
       "    <tr style=\"text-align: right;\">\n",
       "      <th></th>\n",
       "      <th>Age</th>\n",
       "      <th>Gender</th>\n",
       "      <th>Screen Time</th>\n",
       "      <th>Number of Apps</th>\n",
       "    </tr>\n",
       "  </thead>\n",
       "  <tbody>\n",
       "    <tr>\n",
       "      <th>1</th>\n",
       "      <td>12</td>\n",
       "      <td>Male</td>\n",
       "      <td>34.460820</td>\n",
       "      <td>8</td>\n",
       "    </tr>\n",
       "    <tr>\n",
       "      <th>2</th>\n",
       "      <td>9</td>\n",
       "      <td>Male</td>\n",
       "      <td>23.198768</td>\n",
       "      <td>4</td>\n",
       "    </tr>\n",
       "    <tr>\n",
       "      <th>3</th>\n",
       "      <td>2</td>\n",
       "      <td>Female</td>\n",
       "      <td>20.920844</td>\n",
       "      <td>4</td>\n",
       "    </tr>\n",
       "    <tr>\n",
       "      <th>4</th>\n",
       "      <td>18</td>\n",
       "      <td>Male</td>\n",
       "      <td>12.963944</td>\n",
       "      <td>6</td>\n",
       "    </tr>\n",
       "    <tr>\n",
       "      <th>5</th>\n",
       "      <td>8</td>\n",
       "      <td>Female</td>\n",
       "      <td>37.836273</td>\n",
       "      <td>4</td>\n",
       "    </tr>\n",
       "    <tr>\n",
       "      <th>...</th>\n",
       "      <td>...</td>\n",
       "      <td>...</td>\n",
       "      <td>...</td>\n",
       "      <td>...</td>\n",
       "    </tr>\n",
       "    <tr>\n",
       "      <th>1246</th>\n",
       "      <td>2</td>\n",
       "      <td>Female</td>\n",
       "      <td>51.242702</td>\n",
       "      <td>9</td>\n",
       "    </tr>\n",
       "    <tr>\n",
       "      <th>1247</th>\n",
       "      <td>18</td>\n",
       "      <td>Male</td>\n",
       "      <td>19.852501</td>\n",
       "      <td>6</td>\n",
       "    </tr>\n",
       "    <tr>\n",
       "      <th>1248</th>\n",
       "      <td>17</td>\n",
       "      <td>Male</td>\n",
       "      <td>36.689579</td>\n",
       "      <td>9</td>\n",
       "    </tr>\n",
       "    <tr>\n",
       "      <th>1249</th>\n",
       "      <td>9</td>\n",
       "      <td>Female</td>\n",
       "      <td>26.870956</td>\n",
       "      <td>10</td>\n",
       "    </tr>\n",
       "    <tr>\n",
       "      <th>1250</th>\n",
       "      <td>15</td>\n",
       "      <td>Male</td>\n",
       "      <td>32.684770</td>\n",
       "      <td>5</td>\n",
       "    </tr>\n",
       "  </tbody>\n",
       "</table>\n",
       "<p>1250 rows × 4 columns</p>\n",
       "</div>"
      ],
      "text/plain": [
       "      Age  Gender  Screen Time  Number of Apps\n",
       "1      12    Male    34.460820               8\n",
       "2       9    Male    23.198768               4\n",
       "3       2  Female    20.920844               4\n",
       "4      18    Male    12.963944               6\n",
       "5       8  Female    37.836273               4\n",
       "...   ...     ...          ...             ...\n",
       "1246    2  Female    51.242702               9\n",
       "1247   18    Male    19.852501               6\n",
       "1248   17    Male    36.689579               9\n",
       "1249    9  Female    26.870956              10\n",
       "1250   15    Male    32.684770               5\n",
       "\n",
       "[1250 rows x 4 columns]"
      ]
     },
     "execution_count": 24,
     "metadata": {},
     "output_type": "execute_result"
    }
   ],
   "source": [
    "#Cretion of Data Set using the Four Variables\n",
    "b = pd.DataFrame({'Age': age, 'Gender': g, 'Screen Time': s, 'Number of Apps': apps})\n",
    "#Set numbering of Data Set to Start at 1\n",
    "b.index = np.arange(1, len(b) + 1)\n",
    "b"
   ]
  },
  {
   "cell_type": "markdown",
   "metadata": {},
   "source": [
    "As we can see the above data set includes the 1250 samples across the four varialbes. It can be seen however that the screen time results are displayed in results up to six decimal places. For ease of analysis and visualisations the author will use the numpy.around function<sup>[43]</sup> round the screen time results to two decimal places."
   ]
  },
  {
   "cell_type": "code",
   "execution_count": 25,
   "metadata": {
    "scrolled": true
   },
   "outputs": [
    {
     "data": {
      "text/plain": [
       "array([34.46, 23.2 , 20.92, ..., 36.69, 26.87, 32.68])"
      ]
     },
     "execution_count": 25,
     "metadata": {},
     "output_type": "execute_result"
    }
   ],
   "source": [
    "#Rounding of the Screen Time results to two decimal places\n",
    "s1 =np.around(s, 2)\n",
    "s1"
   ]
  },
  {
   "cell_type": "markdown",
   "metadata": {},
   "source": [
    "These new results will now replace the original screen time results in the data set."
   ]
  },
  {
   "cell_type": "code",
   "execution_count": 26,
   "metadata": {
    "scrolled": false
   },
   "outputs": [
    {
     "data": {
      "text/html": [
       "<div>\n",
       "<style scoped>\n",
       "    .dataframe tbody tr th:only-of-type {\n",
       "        vertical-align: middle;\n",
       "    }\n",
       "\n",
       "    .dataframe tbody tr th {\n",
       "        vertical-align: top;\n",
       "    }\n",
       "\n",
       "    .dataframe thead th {\n",
       "        text-align: right;\n",
       "    }\n",
       "</style>\n",
       "<table border=\"1\" class=\"dataframe\">\n",
       "  <thead>\n",
       "    <tr style=\"text-align: right;\">\n",
       "      <th></th>\n",
       "      <th>Age</th>\n",
       "      <th>Gender</th>\n",
       "      <th>Screen Time</th>\n",
       "      <th>Number of Apps</th>\n",
       "    </tr>\n",
       "  </thead>\n",
       "  <tbody>\n",
       "    <tr>\n",
       "      <th>1</th>\n",
       "      <td>12</td>\n",
       "      <td>Male</td>\n",
       "      <td>34.46</td>\n",
       "      <td>8</td>\n",
       "    </tr>\n",
       "    <tr>\n",
       "      <th>2</th>\n",
       "      <td>9</td>\n",
       "      <td>Male</td>\n",
       "      <td>23.20</td>\n",
       "      <td>4</td>\n",
       "    </tr>\n",
       "    <tr>\n",
       "      <th>3</th>\n",
       "      <td>2</td>\n",
       "      <td>Female</td>\n",
       "      <td>20.92</td>\n",
       "      <td>4</td>\n",
       "    </tr>\n",
       "    <tr>\n",
       "      <th>4</th>\n",
       "      <td>18</td>\n",
       "      <td>Male</td>\n",
       "      <td>12.96</td>\n",
       "      <td>6</td>\n",
       "    </tr>\n",
       "    <tr>\n",
       "      <th>5</th>\n",
       "      <td>8</td>\n",
       "      <td>Female</td>\n",
       "      <td>37.84</td>\n",
       "      <td>4</td>\n",
       "    </tr>\n",
       "    <tr>\n",
       "      <th>...</th>\n",
       "      <td>...</td>\n",
       "      <td>...</td>\n",
       "      <td>...</td>\n",
       "      <td>...</td>\n",
       "    </tr>\n",
       "    <tr>\n",
       "      <th>1246</th>\n",
       "      <td>2</td>\n",
       "      <td>Female</td>\n",
       "      <td>51.24</td>\n",
       "      <td>9</td>\n",
       "    </tr>\n",
       "    <tr>\n",
       "      <th>1247</th>\n",
       "      <td>18</td>\n",
       "      <td>Male</td>\n",
       "      <td>19.85</td>\n",
       "      <td>6</td>\n",
       "    </tr>\n",
       "    <tr>\n",
       "      <th>1248</th>\n",
       "      <td>17</td>\n",
       "      <td>Male</td>\n",
       "      <td>36.69</td>\n",
       "      <td>9</td>\n",
       "    </tr>\n",
       "    <tr>\n",
       "      <th>1249</th>\n",
       "      <td>9</td>\n",
       "      <td>Female</td>\n",
       "      <td>26.87</td>\n",
       "      <td>10</td>\n",
       "    </tr>\n",
       "    <tr>\n",
       "      <th>1250</th>\n",
       "      <td>15</td>\n",
       "      <td>Male</td>\n",
       "      <td>32.68</td>\n",
       "      <td>5</td>\n",
       "    </tr>\n",
       "  </tbody>\n",
       "</table>\n",
       "<p>1250 rows × 4 columns</p>\n",
       "</div>"
      ],
      "text/plain": [
       "      Age  Gender  Screen Time  Number of Apps\n",
       "1      12    Male        34.46               8\n",
       "2       9    Male        23.20               4\n",
       "3       2  Female        20.92               4\n",
       "4      18    Male        12.96               6\n",
       "5       8  Female        37.84               4\n",
       "...   ...     ...          ...             ...\n",
       "1246    2  Female        51.24               9\n",
       "1247   18    Male        19.85               6\n",
       "1248   17    Male        36.69               9\n",
       "1249    9  Female        26.87              10\n",
       "1250   15    Male        32.68               5\n",
       "\n",
       "[1250 rows x 4 columns]"
      ]
     },
     "execution_count": 26,
     "metadata": {},
     "output_type": "execute_result"
    }
   ],
   "source": [
    "#Cretion of Data Set using the Four Variables (including )\n",
    "b1 = pd.DataFrame({'Age': age, 'Gender': g, 'Screen Time': s1, 'Number of Apps': apps})\n",
    "#Set numbering of Data Set to Start at 1\n",
    "b1.index = np.arange(1, len(b) + 1)\n",
    "b1"
   ]
  },
  {
   "cell_type": "markdown",
   "metadata": {},
   "source": [
    "### Analysis of the Data Set"
   ]
  },
  {
   "cell_type": "code",
   "execution_count": null,
   "metadata": {},
   "outputs": [],
   "source": []
  },
  {
   "cell_type": "markdown",
   "metadata": {},
   "source": [
    "The author will now use the dataframe head, tail and describe commands to display the first 10 rows, last ten rows and the summary statistics of the data set.<sup>[44]</sup>"
   ]
  },
  {
   "cell_type": "code",
   "execution_count": 27,
   "metadata": {},
   "outputs": [
    {
     "name": "stdout",
     "output_type": "stream",
     "text": [
      "First 10 Rows of Data:\n",
      "    Age  Gender  Screen Time  Number of Apps\n",
      "1    12    Male        34.46               8\n",
      "2     9    Male        23.20               4\n",
      "3     2  Female        20.92               4\n",
      "4    18    Male        12.96               6\n",
      "5     8  Female        37.84               4\n",
      "6     7    Male        33.76               3\n",
      "7     7    Male        34.09               6\n",
      "8    12  Female        37.83               9\n",
      "9    10    Male        43.96              10\n",
      "10    1    Male        51.65               7 \n",
      "\n",
      "Last 10 Rows of Data:\n",
      "      Age  Gender  Screen Time  Number of Apps\n",
      "1241    6    Male        44.14               6\n",
      "1242    5  Female        44.56               9\n",
      "1243    5    Male        34.42               8\n",
      "1244    2    Male        31.17               5\n",
      "1245    8  Female        56.53               9\n",
      "1246    2  Female        51.24               9\n",
      "1247   18    Male        19.85               6\n",
      "1248   17    Male        36.69               9\n",
      "1249    9  Female        26.87              10\n",
      "1250   15    Male        32.68               5 \n",
      "\n",
      "Summary Statistics of the Data Set (Rounded to 2 Decimal Places):\n",
      "           Age  Screen Time  Number of Apps\n",
      "count  1250.00      1250.00         1250.00\n",
      "mean      8.95        39.86            7.05\n",
      "std       5.38        10.07            2.38\n",
      "min       0.00         7.53            1.00\n",
      "25%       5.00        32.75            5.00\n",
      "50%       9.00        40.16            7.50\n",
      "75%      14.00        46.64            9.00\n",
      "max      18.00        70.75           10.00 \n",
      "\n"
     ]
    }
   ],
   "source": [
    "#Display the first 10 rows of data from the data set using the Pandas.DataFrame.head command\n",
    "print(\"First 10 Rows of Data:\")\n",
    "print(b1.head(10), \"\\n\")\n",
    "#Display the last 10 rows of data from the data set using the Pandas.DataFrame.tail command\n",
    "print(\"Last 10 Rows of Data:\")\n",
    "print(b1.tail(10), \"\\n\")\n",
    "#Display the summary statistics (rounded to 2 Decimal Places) from the data set using the Pandas.DataFrame.describe command\n",
    "print(\"Summary Statistics of the Data Set (Rounded to 2 Decimal Places):\")\n",
    "print(round(b1.describe(),2),'\\n') "
   ]
  },
  {
   "cell_type": "markdown",
   "metadata": {},
   "source": [
    "Through the use of the dataframe head and tail commands the author is able to view the start and end of the data set to ensure there are no errors/missing data. Through the use of the and describe command the author is able to view the numerical statistics of the data set such as the mean and standard deviation of the age, screen time and number of apps variables. \n",
    "\n",
    "While the above commands are useful, for the author to truly investigate the data set, the correlation and the correlation coefficient between the variables must be explored. \n",
    "\n",
    "The term correlation referes to a statistical measure that expresses the strength of association between two or more variables and the direction of the relationships.<sup>[45]</sup> An example of a correlation would be between exercise and calories - the more time you spend exercising, the more calories you will burn. When measuring the correlation between variables it is assumed the association is linear, that one variable increases or decreases a fixed amount for a unit increase or decrease in the other.<sup>[46]</sup>\n",
    "\n",
    "The numerical correlation result is refered to as the correlation coefficient. The coefficient can take any values from -1 to 1. The interpretations of the values are:<sup>[47]</sup>\n",
    "\n",
    "* -1: Perfect negative correlation. The variables tend to move in opposite directions (i.e., when one variable increases, the other variable decreases).\n",
    "* 0: No correlation. The variables do not have a relationship with each other.\n",
    "* 1: Perfect positive correlation. The variables tend to move in the same direction (i.e., when one variable increases, the other variable also increases).\n",
    "\n",
    "Different correlation coefficient results can be seen in below image:\n",
    "\n",
    "<img align=\"centre\" width=\"550\" height=\"550\" img src=\"https://statistics.laerd.com/statistical-guides/img/pc/pearson-2-small.png\">\n",
    "\n",
    "It should also be noted that correlation is purley a mathematical calculation and does not imply causation between the variables.<sup>[48]</sup> \n",
    "\n",
    "In order to calculate the correlation coefficient of the variables in the data set the author will implement the pandas.DataFrame.corr function.<sup>[49]</sup> Due to it's common usage the author will use the Pearson’s correlation method in the calclations.<sup>[50]</sup>"
   ]
  },
  {
   "cell_type": "code",
   "execution_count": 28,
   "metadata": {
    "scrolled": true
   },
   "outputs": [
    {
     "name": "stdout",
     "output_type": "stream",
     "text": [
      "Correlation coefficient between the four variables in the data set:\n"
     ]
    },
    {
     "data": {
      "text/html": [
       "<div>\n",
       "<style scoped>\n",
       "    .dataframe tbody tr th:only-of-type {\n",
       "        vertical-align: middle;\n",
       "    }\n",
       "\n",
       "    .dataframe tbody tr th {\n",
       "        vertical-align: top;\n",
       "    }\n",
       "\n",
       "    .dataframe thead th {\n",
       "        text-align: right;\n",
       "    }\n",
       "</style>\n",
       "<table border=\"1\" class=\"dataframe\">\n",
       "  <thead>\n",
       "    <tr style=\"text-align: right;\">\n",
       "      <th></th>\n",
       "      <th>Age</th>\n",
       "      <th>Screen Time</th>\n",
       "      <th>Number of Apps</th>\n",
       "    </tr>\n",
       "  </thead>\n",
       "  <tbody>\n",
       "    <tr>\n",
       "      <th>Age</th>\n",
       "      <td>1.000000</td>\n",
       "      <td>0.045477</td>\n",
       "      <td>-0.001809</td>\n",
       "    </tr>\n",
       "    <tr>\n",
       "      <th>Screen Time</th>\n",
       "      <td>0.045477</td>\n",
       "      <td>1.000000</td>\n",
       "      <td>0.020028</td>\n",
       "    </tr>\n",
       "    <tr>\n",
       "      <th>Number of Apps</th>\n",
       "      <td>-0.001809</td>\n",
       "      <td>0.020028</td>\n",
       "      <td>1.000000</td>\n",
       "    </tr>\n",
       "  </tbody>\n",
       "</table>\n",
       "</div>"
      ],
      "text/plain": [
       "                     Age  Screen Time  Number of Apps\n",
       "Age             1.000000     0.045477       -0.001809\n",
       "Screen Time     0.045477     1.000000        0.020028\n",
       "Number of Apps -0.001809     0.020028        1.000000"
      ]
     },
     "execution_count": 28,
     "metadata": {},
     "output_type": "execute_result"
    }
   ],
   "source": [
    "#Display the correlation coefficient of the four variables in the data set\n",
    "print(\"Correlation coefficient between the four variables in the data set:\")\n",
    "b1.corr(method ='pearson')"
   ]
  },
  {
   "cell_type": "markdown",
   "metadata": {},
   "source": [
    "From the above calculations we can see that "
   ]
  },
  {
   "cell_type": "code",
   "execution_count": 29,
   "metadata": {},
   "outputs": [
    {
     "ename": "SyntaxError",
     "evalue": "invalid syntax (<ipython-input-29-5f2f5c41cd6c>, line 1)",
     "output_type": "error",
     "traceback": [
      "\u001b[0;36m  File \u001b[0;32m\"<ipython-input-29-5f2f5c41cd6c>\"\u001b[0;36m, line \u001b[0;32m1\u001b[0m\n\u001b[0;31m    USE A HEATMAP FOR THE TWO VARIABLES\u001b[0m\n\u001b[0m        ^\u001b[0m\n\u001b[0;31mSyntaxError\u001b[0m\u001b[0;31m:\u001b[0m invalid syntax\n"
     ]
    }
   ],
   "source": [
    "USE A HEATMAP FOR THE TWO VARIABLES "
   ]
  },
  {
   "cell_type": "markdown",
   "metadata": {},
   "source": [
    "Covariance \n",
    "\n",
    "Geeks for Geeks - Python | Pandas dataframe.cov(), <https://www.geeksforgeeks.org/python-pandas-dataframe-cov/>"
   ]
  },
  {
   "cell_type": "code",
   "execution_count": 31,
   "metadata": {
    "scrolled": true
   },
   "outputs": [
    {
     "name": "stdout",
     "output_type": "stream",
     "text": [
      "Covariance between the four variables in the data set:\n"
     ]
    },
    {
     "data": {
      "text/html": [
       "<div>\n",
       "<style scoped>\n",
       "    .dataframe tbody tr th:only-of-type {\n",
       "        vertical-align: middle;\n",
       "    }\n",
       "\n",
       "    .dataframe tbody tr th {\n",
       "        vertical-align: top;\n",
       "    }\n",
       "\n",
       "    .dataframe thead th {\n",
       "        text-align: right;\n",
       "    }\n",
       "</style>\n",
       "<table border=\"1\" class=\"dataframe\">\n",
       "  <thead>\n",
       "    <tr style=\"text-align: right;\">\n",
       "      <th></th>\n",
       "      <th>Age</th>\n",
       "      <th>Screen Time</th>\n",
       "      <th>Number of Apps</th>\n",
       "    </tr>\n",
       "  </thead>\n",
       "  <tbody>\n",
       "    <tr>\n",
       "      <th>Age</th>\n",
       "      <td>28.966620</td>\n",
       "      <td>2.464943</td>\n",
       "      <td>-0.023169</td>\n",
       "    </tr>\n",
       "    <tr>\n",
       "      <th>Screen Time</th>\n",
       "      <td>2.464943</td>\n",
       "      <td>101.420264</td>\n",
       "      <td>0.480022</td>\n",
       "    </tr>\n",
       "    <tr>\n",
       "      <th>Number of Apps</th>\n",
       "      <td>-0.023169</td>\n",
       "      <td>0.480022</td>\n",
       "      <td>5.664143</td>\n",
       "    </tr>\n",
       "  </tbody>\n",
       "</table>\n",
       "</div>"
      ],
      "text/plain": [
       "                      Age  Screen Time  Number of Apps\n",
       "Age             28.966620     2.464943       -0.023169\n",
       "Screen Time      2.464943   101.420264        0.480022\n",
       "Number of Apps  -0.023169     0.480022        5.664143"
      ]
     },
     "execution_count": 31,
     "metadata": {},
     "output_type": "execute_result"
    }
   ],
   "source": [
    "#Display the covariance of the four variables in the data set\n",
    "print(\"Covariance between the four variables in the data set:\")\n",
    "b1.cov()"
   ]
  },
  {
   "cell_type": "markdown",
   "metadata": {},
   "source": [
    "The issue with covariance is that it requires both variables to be measured on the same scale to get some meaning, i.e. covariance is not standardized and it’s interpretation is scale dependent. One cannot easily compare different covariance measurements unless the variables are all on the same scale. This is were correlation comes in.\n",
    "\n",
    "Ausero et al. - The Correlation Coefficient: An Overview, <https://www.tandfonline.com/doi/abs/10.1080/10408340500526766?src=recsys&journalCode=batc20>"
   ]
  },
  {
   "cell_type": "code",
   "execution_count": null,
   "metadata": {},
   "outputs": [],
   "source": [
    "regression"
   ]
  },
  {
   "cell_type": "code",
   "execution_count": null,
   "metadata": {
    "scrolled": true
   },
   "outputs": [],
   "source": [
    "pd.crosstab(index=b1['Age'], columns=b1['Screen Time'], margins=True)"
   ]
  },
  {
   "cell_type": "code",
   "execution_count": null,
   "metadata": {
    "scrolled": true
   },
   "outputs": [],
   "source": [
    "ax = sns.countplot(x=\"Screen Time\", hue=\"Age\", data=b1)\n",
    "ax.set_xticklabels(ax.get_xticklabels(), rotation=40, ha=\"right\")\n",
    "plt.tight_layout()\n",
    "plt.show()"
   ]
  },
  {
   "cell_type": "code",
   "execution_count": null,
   "metadata": {
    "scrolled": false
   },
   "outputs": [],
   "source": [
    "sns.scatterplot(data=b1, x=\"Age\", y=\"Screen Time\", hue=\"Gender\", size=g,\n",
    "    sizes=(2, 20), legend=\"full\")"
   ]
  },
  {
   "cell_type": "code",
   "execution_count": null,
   "metadata": {
    "scrolled": false
   },
   "outputs": [],
   "source": [
    "markers = {\"Male\": \"s\", \"Female\": \"X\"}\n",
    "sns.relplot(data=b1, x=\"Age\", y=\"Screen Time\", hue=\"Gender\", size=g,\n",
    "            sizes=(50, 250), markers=markers, alpha=.5, palette=\"muted\",\n",
    "            height=10)"
   ]
  },
  {
   "cell_type": "code",
   "execution_count": null,
   "metadata": {},
   "outputs": [],
   "source": [
    "sns.pairplot(b1, hue=\"Gender\", height=5)"
   ]
  },
  {
   "cell_type": "code",
   "execution_count": null,
   "metadata": {},
   "outputs": [],
   "source": [
    "def what_age(age):\n",
    "    if age <= 5:\n",
    "        return 'Pre-school'\n",
    "    if 5 <= age <= 13:\n",
    "        return 'Primary'\n",
    "    if 13 <= age <= 18:\n",
    "        return 'Secondary'\n",
    "    \n",
    "age"
   ]
  },
  {
   "cell_type": "code",
   "execution_count": null,
   "metadata": {
    "scrolled": true
   },
   "outputs": [],
   "source": [
    "print(\"Number of Children who: \", np.count_nonzero(age <= 5))"
   ]
  },
  {
   "cell_type": "code",
   "execution_count": null,
   "metadata": {},
   "outputs": [],
   "source": [
    "b = pd.DataFrame({'Age': age,\n",
    "                  'Age Category': age.apply(what_age),\n",
    "                  'Gender': g,\n",
    "                    'Screen Time': s,\n",
    "                  'Number of Apps': apps})\n",
    "b.index = np.arange(1, len(b) + 1)\n",
    "b"
   ]
  },
  {
   "cell_type": "markdown",
   "metadata": {},
   "source": [
    "## References\n",
    "----------------------------------------------------"
   ]
  },
  {
   "cell_type": "markdown",
   "metadata": {},
   "source": [
    "<a name=\"myfootnote1\">1</a>: Stack Overflow - Purpose of “%matplotlib inline”, <https://stackoverflow.com/questions/43027980/purpose-of-matplotlib-inline/43028034>\n",
    "\n",
    "<a name=\"myfootnote2\">2</a>: The Python Graph Gallery - 104 Seaborn Themes, <https://python-graph-gallery.com/104-seaborn-themes/>\n",
    "\n",
    "<a name=\"myfootnote3\">3</a>: Seaborn - Choosing color palettes, <https://seaborn.pydata.org/tutorial/color_palettes.html>\n",
    "\n",
    "<a name=\"myfootnote4\">4</a>: Stack Overflow - What does numpy.random.seed(0) do?, <https://stackoverflow.com/questions/21494489/what-does-numpy-random-seed0-do>\n",
    "\n",
    "<a name=\"myfootnote5\">5</a>: Debanjona Bhattacharjya - NumPy.Random.Seed(101) Explained, <https://medium.com/@debanjana.bhattacharyya9818/numpy-random-seed-101-explained-2e96ee3fd90b>\n",
    "\n",
    "<a name=\"myfootnote6\">6</a>: Department of Education - Covid-19 - Statement from the Department of Education and Skills, <https://www.education.ie/en/Press-Events/Press-Releases/2020-press-releases/12-march-2020-statement-from-the-department-of-education-and-skills.html>\n",
    "\n",
    "<a name=\"myfootnote7\">7</a>: C. Wong et al. - Digital Screen Time During COVID-19 Pandemic: Risk for a Further Myopia Boom?, <https://www.ncbi.nlm.nih.gov/pmc/articles/PMC7390728/>\n",
    "\n",
    "<a name=\"myfootnote8\">8</a>: Suzanne M. Egan and Chloe Beatty - How much screen time is too much for young children?, <https://www.rte.ie/brainstorm/2020/0518/1139039-children-screen-time/>\n",
    "\n",
    "<a name=\"myfootnote9\">9</a>: A. E. Simmons - The Disadvantages of a Small Sample Size, <https://sciencing.com/disadvantages-small-sample-size-8448532.html>\n",
    "\n",
    "<a name=\"myfootnote10\">10</a>: Sellcell - Kids Cell Phone Use Survey 2019 – Truth About Kids & Phones, <https://www.sellcell.com/blog/kids-cell-phone-use-survey-2019/>\n",
    "\n",
    "<a name=\"myfootnote11\">11</a>: GSMA - Children’s use of mobile phones - An international comparison 2013, <https://www.gsma.com/publicpolicy/wp-content/uploads/2016/09/GSMA2013_Report_ChildrensUseOfMobilePhones.pdf>\n",
    "\n",
    "<a name=\"myfootnote12\">12</a>: Rikuya Hosokawa - Association between mobile technology use and child adjustment in early elementary school age, <https://www.ncbi.nlm.nih.gov/pmc/articles/PMC6059409/>\n",
    "\n",
    "<a name=\"myfootnote13\">13</a>: Peter Cullen - Age Definition of Child Sought by Doctors at Conference, <https://www.irishtimes.com/news/health/age-definition-of-child-sought-by-doctors-at-conference-1.3056713>\n",
    "\n",
    "<a name=\"myfootnote14\">14</a>: CSO - Census of Population 2016 - Age Groups, <https://www.cso.ie/en/releasesandpublications/ep/p-cp3oy/cp3/agr/>\n",
    "\n",
    "<a name=\"myfootnote15\">15</a>: Numpy Manual Version 1.19 - numpy.random.randint, <https://numpy.org/doc/stable/reference/random/generated/numpy.random.randint.html>\n",
    "\n",
    "<a name=\"myfootnote16\">16</a>: Numpy Manual Version 1.19 - numpy.random.choice, <https://het.as.utexas.edu/HET/Software/Numpy/reference/generated/numpy.random.choice.html>\n",
    "\n",
    "<a name=\"myfootnote17\">17</a>: CSO - Census of Population 2016 - Age Structure and Sex Ration, <https://www.cso.ie/en/releasesandpublications/ep/p-cp3oy/cp3/assr/>\n",
    "\n",
    "<a name=\"myfootnote18\">18</a>: Numpy Manual Version 1.19 - numpy.count_nonzero, <https://numpy.org/doc/stable/reference/generated/numpy.count_nonzero.html>\n",
    "\n",
    "<a name=\"myfootnote19\">19</a>: Matplotlib Manual Version 3.3.3 - Basic Pie Chart, <https://matplotlib.org/3.3.3/gallery/pie_and_polar_charts/pie_features.html#sphx-glr-gallery-pie-and-polar-charts-pie-features-py>\n",
    "<a name=\"myfootnote20\">20</a>: Christine Carter - Is Screen Time Toxic for Teenagers?,<https://greatergood.berkeley.edu/article/item/is_screen_time_toxic_for_teenagers>\n",
    "\n",
    "<a name=\"myfootnote21\">21</a>: Cianan Brennan - Children's Screen Time and Social Media use up more than 70% during Pandemic, <https://www.irishexaminer.com/news/arid-40040207.html>\n",
    "\n",
    "<a name=\"myfootnote22\">22</a>: Childwise - Most children own mobile phone by age of seven, study finds, <https://www.theguardian.com/society/2020/jan/30/most-children-own-mobile-phone-by-age-of-seven-study-finds>\n",
    "\n",
    "<a name=\"myfootnote23\">23</a>: V. Rideout et al. - Generation M2: Media in the Lives of 8-18 Year Olds, <https://www.kff.org/wp-content/uploads/2013/01/8010.pdf>\n",
    "\n",
    "<a name=\"myfootnote24\">24</a>: Ashley Welch - Health experts say parents need to drastically cut kids' screen time, <https://www.cbsnews.com/news/parents-need-to-drastically-cut-kids-screen-time-devices-american-heart-association/>\n",
    "\n",
    "<a name=\"myfootnote25\">25</a>: EW Weisstein - What is a Normal distribution?, https://www.statisticshowto.com/probability-and-statistics/normal-distributions/\n",
    "\n",
    "<a name=\"myfootnote26\">26</a>: David Lane - Normal Distribution Calculator, <http://onlinestatbook.com/2/calculators/normal_dist.html> \n",
    "\n",
    "<a name=\"myfootnote27\">27</a>: Ciara O'Brien - How to limit your child’s screentime, <https://www.irishtimes.com/life-and-style/health-family/how-to-limit-your-child-s-screentime-1.3998606>\n",
    "\n",
    "<a name=\"myfootnote28\">28</a>: Ofcom - Children and parents: Media use and attitudes report 2019, <https://www.ofcom.org.uk/__data/assets/pdf_file/0023/190616/children-media-use-attitudes-2019-report.pdf>\n",
    "\n",
    "<a name=\"myfootnote29\">29</a>: Act for Youth - Youth Statistics: Internet & Social Media, <http://actforyouth.net/adolescence/demographics/internet.cfm>\n",
    "\n",
    "<a name=\"myfootnote30\">30</a>: Forrester - Mobile App Marketing Trends: Orchestrate Your Brand Presence, Beyond Your Own Apps, By Borrowing Mobile Moments 2015, <https://www.marketingdive.com/ex/mobilemarketer/cms/news/research/19673.html>\n",
    "\n",
    "<a name=\"myfootnote31\">31</a>: Bentley et al. - Three Hours a Day: Understanding Current Teen Practices of Smartphone Application Use, <https://arxiv.org/pdf/1510.05192.pdf>\n",
    "\n",
    "<a name=\"myfootnote32\">32</a>: Madden et al. - Teens and Mobile Apps Privacy: Main Findings, <https://www.pewresearch.org/internet/2013/08/22/main-findings-3/>\n",
    "\n",
    "<a name=\"myfootnote33\">33</a>: Seaborn Manual Version 0.11.1 - seaborn.distplot, <https://seaborn.pydata.org/generated/seaborn.distplot.html>\n",
    "\n",
    "<a name=\"myfootnote34\">34</a>: R Tutorial - Binomial Distribution, <http://www.r-tutor.com/elementary-statistics/probability-distributions/binomial-distribution>\n",
    "\n",
    "<a name=\"myfootnote35\">35</a>: Tutor2U - Skewed Distribution, <https://www.tutor2u.net/psychology/topics/skewed-distribution>\n",
    "\n",
    "<a name=\"myfootnote36\">36</a>: Stephanie Glen - Skewed Distribution: left skewed vs right skewed, <https://www.youtube.com/watch?v=24YCewQ8s3M>\n",
    "\n",
    "<a name=\"myfootnote37\">37</a>: Corporate Finance Institute - Negatively Skewed Distribution, <https://corporatefinanceinstitute.com/resources/knowledge/other/negatively-skewed-distribution/>\n",
    "\n",
    "<a name=\"myfootnote38\">38</a>: EW Weisstein - Skewed Distribution: Definition, Examples, <https://www.statisticshowto.com/probability-and-statistics/skewed-distribution/>\n",
    "\n",
    "<a name=\"myfootnote39\">39</a>: New England Complex Systems Institute - Concepts: Power Law, <https://necsi.edu/power-law>\n",
    "\n",
    "<a name=\"myfootnote40\">40</a>: EW Weisstein - Power Law and Power Law Distribution, <https://www.statisticshowto.com/power-law/>\n",
    "\n",
    "<a name=\"myfootnote41\">41</a>: Better Explained - Understanding the Pareto Principle (The 80/20 Rule), <https://betterexplained.com/articles/understanding-the-pareto-principle-the-8020-rule/>\n",
    "\n",
    "<a name=\"myfootnote42\">42</a>: Data to Fish - How to Create Pandas DataFrame in Python, <https://datatofish.com/create-pandas-dataframe/>\n",
    "\n",
    "<a name=\"myfootnote43\">43</a>: Numpy Manual Version 1.19 - numpy.around, <https://numpy.org/doc/stable/reference/generated/numpy.around.html>\n",
    "\n",
    "<a name=\"myfootnote44\">44</a>: Tutorials Point - Python Pandas: Basic Functionality, <https://www.tutorialspoint.com/python_pandas/python_pandas_basic_functionality.htm>\n",
    "\n",
    "<a name=\"myfootnote45\">45</a>: Statistics Solutions - Correlation (Pearson, Kendall, Spearman), <https://www.statisticssolutions.com/correlation-pearson-kendall-spearman/>\n",
    "\n",
    "<a name=\"myfootnote46\">46</a>: The BMJ - Correlation and regression, <https://www.bmj.com/about-bmj/resources-readers/publications/statistics-square-one/11-correlation-and-regression>\n",
    "\n",
    "<a name=\"myfootnote47\">47</a>: Corporate Finance Institute - Correlation, <https://corporatefinanceinstitute.com/resources/knowledge/finance/correlation/>\n",
    "\n",
    "<a name=\"myfootnote48\">48</a>: The BMJ - Correlation vs. Causation, <https://www.jmp.com/en_au/statistics-knowledge-portal/what-is-correlation/correlation-vs-causation.html>\n",
    "\n",
    "<a name=\"myfootnote49\">49</a>: Pandas Manual Version 1.2.0 - pandas.DataFrame.corr, <https://pandas.pydata.org/pandas-docs/stable/reference/api/pandas.DataFrame.corr.html>\n",
    "\n",
    "<a name=\"myfootnote50\">50</a>: Geeks for Geeks - Python | Pandas dataframe.corr(), <https://www.geeksforgeeks.org/python-pandas-dataframe-corr/>"
   ]
  },
  {
   "cell_type": "markdown",
   "metadata": {},
   "source": [
    "## Bibliography\n",
    "----------------------------------------------------"
   ]
  },
  {
   "cell_type": "markdown",
   "metadata": {},
   "source": [
    "Within the course of this project the following sources were also used for research purposes:\n",
    "\n",
    "* Keith Galli - Generating Mock Data with Python! (NumPy, Pandas, & Datetime Libraries), <https://www.youtube.com/watch?v=VJBY2eVtf7o>\n",
    "\n",
    "* Python-course.eu - Synthetical Test Data With Python,<https://www.python-course.eu/synthetical_test_data_with_python.php>\n",
    "\n",
    "* Catherine Scruggs - How to Determine the Sample Size in a Quantitative Research Study, <https://sciencing.com/determine-size-quantitative-research-study-8072459.html>\n",
    "\n",
    "* Sarah Littler - The Importance and Effect of Sample Size, <https://select-statistics.co.uk/blog/importance-effect-sample-size/>\n",
    "\n",
    "* Janux - 3.7.1. Discrete Uniform Probability Distribution, <https://www.youtube.com/watch?v=pc92J_DIwZo>\n",
    "\n",
    "* Grepper - Create Age-Groups in Pandas, <https://www.codegrepper.com/code-examples/python/create+age-groups+in+pandas>\n",
    "\n",
    "* Stack Overflow - How to map numeric data into categories / bins in Pandas dataframe, <https://stackoverflow.com/questions/49382207/how-to-map-numeric-data-into-categories-bins-in-pandas-dataframe>\n",
    "\n",
    "* Stack Overflow - In Python pandas, start row index from 1 instead of zero without creating additional column, <https://stackoverflow.com/questions/32249960/in-python-pandas-start-row-index-from-1-instead-of-zero-without-creating-additi/32249984>\n",
    "\n",
    "* Matplotlib Manual Version 3.1.2 - matplotlib.axes.Axes.hist, <https://matplotlib.org/3.1.1/api/_as_gen/matplotlib.axes.Axes.hist.html>\n",
    "\n",
    "* Statista - Population of Ireland by age group in 2019, <https://www.statista.com/statistics/710767/irish-population-by-age/>\n",
    "\n",
    "* Joshua Ebner - How To Use Numpy Random Choice, <https://www.sharpsightlabs.com/blog/numpy-random-choice/>\n",
    "\n",
    "* Stack Overflow - matplotlib: Controlling pie chart font color, line width, <https://stackoverflow.com/questions/1915871/matplotlib-controlling-pie-chart-font-color-line-width?lq=1>\n",
    "\n",
    "* Wolfram Mathworld - Normal Distribution, https://mathworld.wolfram.com/NormalDistribution.html\n",
    "\n",
    "* Jupyter Notebook - Markdown Cells, https://jupyter-notebook.readthedocs.io/en/stable/examples/Notebook/Working%20With%20Markdown%20Cells.html\n",
    "\n",
    "* Jim Frost - How to Identify the Distribution of Your Data, <https://statisticsbyjim.com/hypothesis-testing/identify-distribution-data/>\n",
    "\n",
    "* Analytics Vidhya - 6 Common Probability Distributions every data science professional should know, <https://www.analyticsvidhya.com/blog/2017/09/6-probability-distributions-data-science/>\n",
    "\n",
    "* Stack Overflow - Random experiment of Binomial distribution using stats in python, <https://stackoverflow.com/questions/55113404/random-experiment-of-binomial-distribution-using-stats-in-python>\n",
    "\n",
    "* Audrey Conklin - People spending 3.1 hours a day on smartphone apps: Study, <https://www.foxbusiness.com/technology/average-time-spent-phone-apps> \n",
    "\n",
    "* Sarah Perez - Time Spent In Apps Up 63 Percent Over Past Two Years, But Apps Used Monthly Show Little Change, <https://techcrunch.com/2015/06/11/time-spent-in-apps-up-63-percent-over-past-two-years-but-apps-used-monthly-shows-little-change/?_ga=2.136615664.1796286822.1608671755-1393211290.1608671755>\n",
    "\n",
    "* Ruth et al. - U.S. High School Teenager Mobile App Usage, <https://askwonder.com/research/customer-demographics-u-s-high-school-teenager-mobile-app-usage-jvhvea91v>\n",
    "\n",
    "* ESRI - Growing Up in Ireland: National Longitudinal Study of Children, <https://www.esri.ie/system/files?file=media/file-uploads/2015-07/BKMNEXT284.pdf>\n",
    "\n",
    "* Primary Times - I’ve Got Your Number: Mobile Phones and kids, <https://www.primarytimes.ie/news/2017/03/i-ve-got-your-number-mobile-phones-and-kids>\n",
    "\n",
    "* EW Weisstein - Exponential Distribution / Negative Exponential: Definition, Examples, <https://www.statisticshowto.com/exponential-distribution/>\n",
    "\n",
    "* Hossein Pishro-Nik - Exponential Distribution, <https://www.probabilitycourse.com/chapter4/4_2_2_exponential.php>\n",
    "\n",
    "* Wolfram Mathworld - Exponential Distribution, <https://mathworld.wolfram.com/ExponentialDistribution.html>\n",
    "\n",
    "* BC Campus - The Exponential Distribution, <https://opentextbc.ca/introstatopenstax/chapter/the-exponential-distribution/>\n",
    "\n",
    "* Stan Brown - Measures of Shape: Skewness and Kurtosis, <https://brownmath.com/stat/shape.htm>\n",
    "\n",
    "* James Chen - Skewness, <https://www.investopedia.com/terms/s/skewness.asp>\n",
    "\n",
    "* Science Direct - Power Law Distribution, <https://www.sciencedirect.com/topics/mathematics/power-law-distribution>\n",
    "\n",
    "* OpenStax - Descriptive Statistics: Skewness and the Mean, Median, and Mode, <https://cnx.org/contents/bE-w34Vi@9/Descriptive-Statistics-Skewness-and-the-Mean-Median-and-Mode>\n",
    "\n",
    "* Study.com - Skewed Distribution: Examples & Definition, <https://study.com/academy/lesson/skewed-distribution-examples-definition-quiz.html>\n",
    "\n",
    "* KDnuggets - Probability Distributions in Data Science , <https://www.kdnuggets.com/2020/02/probability-distributions-data-science.html>\n",
    "\n",
    "* EW Weisstein - Beta Distribution: Definition, Calculation, <https://www.statisticshowto.com/beta-distribution/>\n",
    "\n",
    "* Lumen - The Exponential Distribution, <https://courses.lumenlearning.com/introstats1/chapter/the-exponential-distribution/>\n",
    "\n",
    "* David Amos - How to Round Numbers in Python, <https://realpython.com/python-rounding/>\n",
    "\n",
    "* Natassha Selvaraj - A Beginner’s Guide to Data Analysis in Python, <https://towardsdatascience.com/a-beginners-guide-to-data-analysis-in-python-188706df5447>\n",
    "\n",
    "* Rebecca Vickery - Tips and Tricks for Fast Data Analysis in Python, <https://towardsdatascience.com/tips-and-tricks-for-fast-data-analysis-in-python-f108ad32fa90>\n",
    "\n",
    "* Christopher Bratkovics - Exploratory Data Analysis Tutorial in Python, <https://towardsdatascience.com/exploratory-data-analysis-tutorial-in-python-15602b417445>\n",
    "\n",
    "* EW Weisstein - Correlation Coefficient: Simple Definition, Formula, Easy Steps, <https://www.statisticshowto.com/probability-and-statistics/correlation-coefficient-formula/>\n",
    "\n",
    "*"
   ]
  }
 ],
 "metadata": {
  "kernelspec": {
   "display_name": "Python 3",
   "language": "python",
   "name": "python3"
  },
  "language_info": {
   "codemirror_mode": {
    "name": "ipython",
    "version": 3
   },
   "file_extension": ".py",
   "mimetype": "text/x-python",
   "name": "python",
   "nbconvert_exporter": "python",
   "pygments_lexer": "ipython3",
   "version": "3.8.2"
  }
 },
 "nbformat": 4,
 "nbformat_minor": 4
}
