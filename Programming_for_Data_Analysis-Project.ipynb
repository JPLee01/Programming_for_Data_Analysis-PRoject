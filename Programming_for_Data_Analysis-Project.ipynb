{
 "cells": [
  {
   "cell_type": "markdown",
   "metadata": {},
   "source": [
    "<img align=\"centre\" width=\"750\" height=\"750\" img src=\"https://i0.wp.com/www.creatingentrepreneursinfood.eu/wp-content/uploads/2017/02/GMIT-logo.png\">"
   ]
  },
  {
   "cell_type": "markdown",
   "metadata": {},
   "source": [
    "# Project - Programming for Data Analysis \n",
    "\n",
    "* **Author:** John Paul Lee\n",
    "* **Github:** JPLee01\n",
    "* **Email:** G00387906@gmit.ie\n",
    "* **Created:** 26-11-2020, **Last update:** 03-01-2021\n",
    "* Programming of Data Analysis: Simulation of real-world data using *numpy.random* package Project 2020\n",
    "****\n",
    "This Jupyter Notebook has been created to simulate a data set of real-world data using the *numpy.random* package in Python. This notebook will investigate the types of variables involved, there likely distributions and there relationships with each other. While also synthesising/simulating the data set as closely matching the properties as possible.\n",
    "\n",
    "**Lecturer:** Dr. Brian McGinley\n",
    "\n",
    "The Project instructions can be found [here](https://github.com/JPLee01/Programming_for_Data_Analysis-Project/blob/main/Project%20Instructions.pdf)\n",
    "****"
   ]
  },
  {
   "cell_type": "markdown",
   "metadata": {},
   "source": [
    "As part of the project this notebook will deal with four main tasks:\n",
    "1. Choose a real-world phenomenon that can be measured and for which you could collect at least one-hundred data points across at least four different variables.\n",
    "2. Investigate the types of variables involved, there likely distributions, and there relationships with each other.\n",
    "3. Synthesise/simulate a data set as closely matching there properties as possible.\n",
    "4. Detail your research and implement the simulation in a Jupyter notebook – the data set itself can simply be displayed in an output cell within the notebook."
   ]
  },
  {
   "cell_type": "markdown",
   "metadata": {},
   "source": [
    "## Preliminaries\n",
    "Prior to dealing with each task we first need to import a number of libraries. We need to import the NumPy library as it is essential to synthesise the data set. The Pandas library will also be imported to allow for analysis of the data set. The matplotlib and seaborn libraries will also need to be imported to allow for the creation of visualisations in the notebook. The sklearn library will need to be imported to allow for machine learning of the data set to take place towards the end of the project."
   ]
  },
  {
   "cell_type": "code",
   "execution_count": 1,
   "metadata": {},
   "outputs": [],
   "source": [
    "#Import numpy to allow for simulation of the data set.\n",
    "#Import pandas to allow for analysis of the data set. \n",
    "#Import matplotlib.pyplot and seaborn for the creation of visualisations\n",
    "#Import sklearn to allow for machine learning of the data set\n",
    "import numpy as np\n",
    "import pandas as pd\n",
    "import matplotlib.pyplot as plt\n",
    "import seaborn as sns\n",
    "import sklearn"
   ]
  },
  {
   "cell_type": "markdown",
   "metadata": {},
   "source": [
    "Also as we will be displaying Plots in this Jupyter Notebook we will implement the *inline* magic command to allow the Plots to be rendered inline within the Notebook.<sup>[1]</sup>"
   ]
  },
  {
   "cell_type": "code",
   "execution_count": 2,
   "metadata": {},
   "outputs": [],
   "source": [
    "#Inline Magic command implemented to ensure that the Plots are rendered inline\n",
    "%matplotlib inline"
   ]
  },
  {
   "cell_type": "markdown",
   "metadata": {},
   "source": [
    "To ensure uniformity throughout the Juypter Notebook in terms of the the Seaborn Plots display the *style* and *palette* fuction will be set.\n",
    "\n",
    "The *style* function will be set to *darkgrid*. This will allow for optimal measurements of Plots as the darkened background with the built in grid lines will be best displayed against the white background of the Juypter Notebook.<sup>[2]</sup> \n",
    "\n",
    "The *palette* fuction will be set to *bright* as it will allow for clear distinction of multiple outputs within one Plot.<sup>[3]</sup> "
   ]
  },
  {
   "cell_type": "code",
   "execution_count": 3,
   "metadata": {},
   "outputs": [],
   "source": [
    "#Setting of Seaborn dispays to enure uniformity throughout the Juypter Notebook\n",
    "#Darkplot style selected to allow for optimal measurments of Plots\n",
    "sns.set_style(\"darkgrid\")\n",
    "#Bright colour palette selected to allow for clear distinction of multiple outputs within one Plot \n",
    "sns.set_palette(\"bright\")"
   ]
  },
  {
   "cell_type": "markdown",
   "metadata": {},
   "source": [
    "To ensure the random arrays produced throughout the project will not change after every iteration of the designated cell or kernel the pseudo random number generator will be seeded.<sup>[4]</sup> While some may argue this results in the pseudo-random numbers becoming pre-determined, this consistency is important as it ensures the data entered in several plots throughout the project remains correct after every iteration.<sup>[5]</sup> It should also be noted that the number 111 for the seed has been chosen at random. "
   ]
  },
  {
   "cell_type": "code",
   "execution_count": 4,
   "metadata": {},
   "outputs": [],
   "source": [
    "np.random.seed(1)"
   ]
  },
  {
   "cell_type": "markdown",
   "metadata": {},
   "source": [
    "<img align=\"centre\" width=\"550\" height=\"450\" img src=\"https://vosizneias.com/wp-content/uploads/2020/05/now-BBDPGmkv-screentime1jpg-1210-680.jpg\">"
   ]
  },
  {
   "cell_type": "markdown",
   "metadata": {},
   "source": [
    "## Background\n",
    "This project will focus on the real-world phenomenon of the use of mobile devices by children. With the recent closures of Irish National Schools due to COVID19<sup>[6]</sup> childrens classes were moved online which resulted in their screen time increasing greatly.<sup>[7]</sup> This increase in screen time garnered alot of attention and provoked debate on the potential negative long term effects it may have on children.<sup>[8]</sup>\n",
    "\n",
    "This project aims to explore the relationships between a childs age, gender, screen time and the number of apps they use. The project will also attempt to be able to predict if a childs screen time will effect their long term health. As a result the four variables the project will focus on will be:\n",
    "1. Childs Age\n",
    "2. Gender\n",
    "3. Screen Time\n",
    "4. Number of Apps\n",
    "\n",
    "As this topic is a relatively new phenomenon and new research is being produced regurarly, the author will not base the project solely around one single source of information but will instead draw on a wide array of literature (journals, articles, studies etc.) to shape and influence the variables and the data set. \n",
    "\n",
    "The reason this topic was chosen by the author is that it is an area in which the author is activly interested in. As an expectant father, the author is acutely aware that todays generation are exposed to more mobile devices at a younger age than ever before. The author is conscious that while there are benefits to children using mobile devices, there are also potential negative effects and it is something which the author would like to explore. "
   ]
  },
  {
   "cell_type": "markdown",
   "metadata": {},
   "source": [
    "## Construction of Variables\n",
    "This section will focus on the construction of the variables chosen for the data set. \n",
    "\n",
    "While the instructions for the project state that the real-world phenomenon should contain at least one-hundred data points, the author feels that given the topics wide range of childrens ages, one-hundred data points is perhaps too small a sample size and may lead to an increase in the margin of error or variability of the data set.<sup>[9]</sup> As a result, the author will draw inspiration from the Sellcell<sup>[10]</sup>, GSMA (Global System for Mobile Communications Association)<sup>[11]</sup> and Hosokawa<sup>[12]</sup> studies into this area which used samples sizes of 1135, 890 (average per country) and 1642 respectively. The result will mean that a sample size of 1250 (the average of the above three studies rounded up) will be used for the project. It is hoped this sample size will be able to offer confidence in the findings and also reduce the margin of error."
   ]
  },
  {
   "cell_type": "markdown",
   "metadata": {},
   "source": [
    "### 1. Age\n",
    "While it should be assumed that the age category for a person to be classed as a child is common knowledge, in reality it is quite different. As seen in Paul Cullens article<sup>[13]</sup> a difference of opinion exists on when a person is classified as a child and an adult. In order to avoid confusion the project will use the Central Statistics Office's (CSO) age groups from the 2016 Census<sup>[14]</sup> (most recent) in it's age category for children. This will result in persons under the age of 18 being classed as childern with three further sub-categories being employed to differentiate the children based on their stage of education; Pre-school (0-5 years), Primary (5-13 years) and Secondary (13-18 years). \n",
    "\n",
    "As the author wishes for the project to remain as unbiased as possible, the distribution of the ages across the sample size will be determined by the numpy.random.randint function. This function is chosen as it returns random integers from the discrete uniform distribution, therefore ensuring each age has the same likelihood of occuring.<sup>[15]</sup> This distribution the author feels is very important as it will ensure the data set is not dominated by one particular age."
   ]
  },
  {
   "cell_type": "code",
   "execution_count": 5,
   "metadata": {
    "scrolled": true
   },
   "outputs": [
    {
     "data": {
      "text/plain": [
       "array([ 5, 11, 12, ..., 16,  8,  6])"
      ]
     },
     "execution_count": 5,
     "metadata": {},
     "output_type": "execute_result"
    }
   ],
   "source": [
    "#Generate the random set of ages for the project (19 is entered into the code to allow for the distribution to be between 0 and 18, inclusive) \n",
    "age = np.random.randint(0,19, 1250)\n",
    "age"
   ]
  },
  {
   "cell_type": "code",
   "execution_count": 6,
   "metadata": {},
   "outputs": [
    {
     "data": {
      "text/plain": [
       "8.8864"
      ]
     },
     "execution_count": 6,
     "metadata": {},
     "output_type": "execute_result"
    }
   ],
   "source": [
    "#Average age of the sample\n",
    "np.mean(age)"
   ]
  },
  {
   "cell_type": "code",
   "execution_count": 7,
   "metadata": {},
   "outputs": [
    {
     "data": {
      "text/plain": [
       "9.0"
      ]
     },
     "execution_count": 7,
     "metadata": {},
     "output_type": "execute_result"
    }
   ],
   "source": [
    "#Median age of the sample\n",
    "np.median(age)"
   ]
  },
  {
   "cell_type": "code",
   "execution_count": 8,
   "metadata": {
    "scrolled": true
   },
   "outputs": [
    {
     "data": {
      "image/png": "[encoded data removed]",
      "text/plain": [
       "<Figure size 432x288 with 1 Axes>"
      ]
     },
     "metadata": {},
     "output_type": "display_data"
    }
   ],
   "source": [
    "plt.hist(age)\n",
    "plt.title('Age of Sample')\n",
    "plt.xlabel('Age in years')\n",
    "plt.ylabel('Number')\n",
    "plt.grid()"
   ]
  },
  {
   "cell_type": "code",
   "execution_count": 9,
   "metadata": {
    "scrolled": true
   },
   "outputs": [
    {
     "data": {
      "image/png": "[encoded data removed]",
      "text/plain": [
       "<Figure size 432x288 with 1 Axes>"
      ]
     },
     "metadata": {},
     "output_type": "display_data"
    }
   ],
   "source": [
    "#Plotting of the Age Distribution by Sub-Categories\n",
    "plt.hist(age, bins= [0,5,13,18])\n",
    "plt.title('Age of Sample by Sub-Categories')\n",
    "plt.xlabel('Age in years')\n",
    "plt.ylabel('Number')\n",
    "plt.grid()"
   ]
  },
  {
   "cell_type": "markdown",
   "metadata": {},
   "source": [
    "As we can see from the above first plot, the distribution of the ages across the sample size are quite even apart from the 6-8 age caregory which seems to include on average 40 respondents less than the other age ranges. When the ages are further divided into the sub-catergories we see in the second plot that the Primary (5-13 years) contains the majority of respondents (500) versus the other two sub-catergories; Pre-school (0-5 years) (300) and Secondary (13-18 years) (400).\n",
    "\n",
    "While the above two plots may appear to show bias towards or against a certain age range this in fact purely the result of the visualtion in which the bins are displayed. This hypothecial bias can be seen to take a different turn when the age range is displayed with a bin representing every year (i.e 1,2,3 etc). In the below plot we can see that now it appears there is a bias towards 18 year olds. It should be noted that as there is no weighting towards or against an age in the construction of the age variable, the perceived bias is purely hypothecial.\n",
    "\n",
    "This can also be seen by the average age of the sample being 9.0632 which is exceptionally close to the median age of the sample (9). "
   ]
  },
  {
   "cell_type": "code",
   "execution_count": 10,
   "metadata": {},
   "outputs": [
    {
     "data": {
      "image/png": "[encoded data removed]",
      "text/plain": [
       "<Figure size 432x288 with 1 Axes>"
      ]
     },
     "metadata": {},
     "output_type": "display_data"
    }
   ],
   "source": [
    "#Plotting of the Age Distribution by Sub-Categories\n",
    "plt.hist(age, bins= [0,1,2,3,4,5,6,7,8,9,10,11,12,13,14,15,16,17,18])\n",
    "plt.title('Age by Sub-Categories')\n",
    "plt.xlabel('Age in years')\n",
    "plt.ylabel('Number')\n",
    "plt.grid()"
   ]
  },
  {
   "cell_type": "markdown",
   "metadata": {},
   "source": [
    "### 2. Gender\n",
    "For the purpose of this project the author will treat gender as a binary categorical variable, i.e. a varible that has two values, male and female. It should be noted that categorical data can also take on numerical values, this could be for example 0 = female and 1 = male.\n",
    "\n",
    "The distribution for this variable will be calculated using the numpy.random.choice function. This function returns  a randomly selected sample from the specified sequence.<sup>[16]</sup> The specified sequence for the numpy.random.choice function will be the choice between the two genders i.e. Male or Female. In order to ensure realism, the gender breakdown for the project will follow the same breakdown as the 2016 census. According to the 2016 census there were 978 males for every 1,000 females.<sup>[17]</sup> This gives a probability for the numpy.random.choice function as male = .495 (49.55) and female = .505 (50.55)."
   ]
  },
  {
   "cell_type": "code",
   "execution_count": 11,
   "metadata": {
    "scrolled": true
   },
   "outputs": [
    {
     "data": {
      "text/plain": [
       "array(['Female', 'Female', 'Female', ..., 'Male', 'Female', 'Male'],\n",
       "      dtype='<U6')"
      ]
     },
     "execution_count": 11,
     "metadata": {},
     "output_type": "execute_result"
    }
   ],
   "source": [
    "Gender = ['Male', 'Female'] \n",
    "gender = np.random.choice(Gender, 1250, p=[0.495, 0.505])\n",
    "gender"
   ]
  },
  {
   "cell_type": "markdown",
   "metadata": {},
   "source": [
    "From this array we can implement the the numpy.count_nonzero function<sup>[18]</sup> to count the number of male and female figures in the array. This will allow us to see the total amount of males and females in the sample set."
   ]
  },
  {
   "cell_type": "code",
   "execution_count": 12,
   "metadata": {},
   "outputs": [
    {
     "name": "stdout",
     "output_type": "stream",
     "text": [
      "Number of Males:  603\n",
      "Number of Females:  647\n"
     ]
    }
   ],
   "source": [
    "print(\"Number of Males: \", np.count_nonzero(gender == 'Male'))\n",
    "print(\"Number of Females: \", np.count_nonzero(gender == 'Female'))"
   ]
  },
  {
   "cell_type": "markdown",
   "metadata": {},
   "source": [
    "As we can see above the breakdown of males and females in the sample set is 603 and 647 respectively. This can be visually represented using the matplotlib.pyplot.pie function.<sup>[19]</sup>"
   ]
  },
  {
   "cell_type": "code",
   "execution_count": 13,
   "metadata": {},
   "outputs": [
    {
     "data": {
      "image/png": "[encoded data removed]",
      "text/plain": [
       "<Figure size 576x576 with 1 Axes>"
      ]
     },
     "metadata": {},
     "output_type": "display_data"
    }
   ],
   "source": [
    "labels = 'Male', 'Female'\n",
    "sizes = [603, 647]\n",
    "explode = (0, 0.1)\n",
    "\n",
    "fig1, ax1 = plt.subplots(figsize=(8,8))\n",
    "ax1.pie(sizes, explode=explode, labels=labels, autopct='%1.1f%%',\n",
    "        shadow=True, startangle=90)\n",
    "ax1.axis('equal')\n",
    "plt.title('Gender Breakdown')\n",
    "plt.show()"
   ]
  },
  {
   "cell_type": "markdown",
   "metadata": {},
   "source": [
    "As we can see from the above Pie Chart in precentage terms the breakdown for males and females in the sample set is 48.2% vs. 51.8% respectively. It should be noted that the breakdown is extremely close to the breakdown recored in the 2016 Census (males 49.55% vs. females 50.55%)."
   ]
  },
  {
   "cell_type": "markdown",
   "metadata": {},
   "source": [
    "As we can see above an array is produced stating if the gender is male or female. This array can also be produced numerically where 1 = male and 0 = female. "
   ]
  },
  {
   "cell_type": "code",
   "execution_count": 14,
   "metadata": {
    "scrolled": true
   },
   "outputs": [
    {
     "data": {
      "text/plain": [
       "array([1, 0, 1, ..., 0, 0, 0])"
      ]
     },
     "execution_count": 14,
     "metadata": {},
     "output_type": "execute_result"
    }
   ],
   "source": [
    "#Careate a numerical gender array. Set it that 1 = male and 0 = female.\n",
    "Gender_Num = [1, 0]\n",
    "num_gender = np.random.choice(Gender_Num, 1250, p=[0.495, 0.505])\n",
    "num_gender"
   ]
  },
  {
   "cell_type": "markdown",
   "metadata": {},
   "source": [
    "From this array we can also use the numpy.count_nonzero function<sup>[18]</sup> to count the number of 1 (male) and 0 (female) figures in the array. This will allow us to see the breakdown of males and females in the sample set. "
   ]
  },
  {
   "cell_type": "code",
   "execution_count": 15,
   "metadata": {
    "scrolled": false
   },
   "outputs": [
    {
     "name": "stdout",
     "output_type": "stream",
     "text": [
      "Number of Males:  616\n",
      "Number of Females:  634\n"
     ]
    }
   ],
   "source": [
    "print(\"Number of Males: \", np.count_nonzero(num_gender == 1))\n",
    "print(\"Number of Females: \", np.count_nonzero(num_gender == 0))"
   ]
  },
  {
   "cell_type": "markdown",
   "metadata": {},
   "source": [
    "As we can see above the breakdown of males and females in the sample set is 616 and 634 respectively. The author will again use the matplotlib.pyplot.pie function to view the breakdown visually.<sup>[19]</sup>"
   ]
  },
  {
   "cell_type": "code",
   "execution_count": 16,
   "metadata": {},
   "outputs": [
    {
     "data": {
      "image/png": "[encoded data removed]",
      "text/plain": [
       "<Figure size 576x576 with 1 Axes>"
      ]
     },
     "metadata": {},
     "output_type": "display_data"
    }
   ],
   "source": [
    "labels = 'Male', 'Female'\n",
    "sizes = [616, 634]\n",
    "explode = (0, 0.1)\n",
    "\n",
    "fig1, ax1 = plt.subplots(figsize=(8,8))\n",
    "ax1.pie(sizes, explode=explode, labels=labels, autopct='%1.1f%%',\n",
    "        shadow=True, startangle=90)\n",
    "ax1.axis('equal')\n",
    "plt.title('Gender Breakdown')\n",
    "plt.show()"
   ]
  },
  {
   "cell_type": "markdown",
   "metadata": {},
   "source": [
    "As we can see from the above Pie Chart in precentage terms the breakdown for males and females in the numerical sample set is 49.3% vs. 50.7% respectively. It should be noted that the breakdown is even closer to the breakdown recorded in the 2016 Census (males 49.55% vs. females 50.55%)."
   ]
  },
  {
   "cell_type": "markdown",
   "metadata": {},
   "source": [
    "### 3. Screen Time\n",
    "As stated earlier screen time has become a hot topic with regards to children. Even prior to COVID19 academics were conducting studies which pointed to the worrying effects of increased screen time.<sup>[20]</sup> Needless to say as a result of COVID and the move to online learning childrens screen time has increased, in some cases as much as 70%, during lockdown.<sup>[21]</sup>\n",
    "\n",
    "Due to the fluid nature of this area, the author for the purpose of this project will refer to four seperate studies which looked at the area of childrens screen time. The earlier mentioned Sellcell study<sup>[10]</sup> in it's analysis concluded that on average children are spending 30 hours a week on mobile devices. While a Childwise study<sup>[22]</sup> found that on average children spend about three hours and 20 minutes each day on mobile devices. A study by the Henry J. Kaiser Family Foundation<sup>[23]</sup> found the figure much higher at on average 7 hours 38 minutes a day. The American Heart Association<sup>[24]</sup> in their research found the figure similiar to the Henry J. Kaiser Family Foundation research at on average of seven hours a day. While the above studies have a large disparity in their calculations it should be noted that these studies were conducted in different countries (UK and USA), and were conducted at different periods e.g. American Heart Association 2018, Childwise 2020.\n",
    "\n",
    "In terms of the distribution the author feels that a childs screen time follows a normal distribution pattern. According to Weisstein<sup>[25]</sup> a normal distribution is a symmetric distribution where most of the observations cluster around the central peak and the probabilities for values further away from the mean taper off equally in both directions. This definition of a normal distribution fits into the criteria of childrens screen time where the central peak would be the average time a childs spends on mobile devices and distribution either side would cater for the childern who spend more or less time than the average on mobile devices.\n",
    "\n",
    "In order to ensure as broad a balanced calculation as possible the author will take an average of the above figures from the studies in thier calculations. This calculation, 38.9 hours a week, will be rounded up to 39 hours a week for ease of calculations. Also due to all of the above studies taking place prior to the COVID19 lockdowns (the Childwise study was undertaken in January 2020) the author will add 1 hour to the calculated average to account for the move to online learning during the lockdowns. This will give an average of 40 hours screen time a week for the purpose of the project. Through calculations and modeling<sup>[26]</sup> the author will apply a standard deviation of 10 which will ensure the averages from the above studies will be captured in the 68% of the area under the curve.\n"
   ]
  },
  {
   "cell_type": "code",
   "execution_count": 17,
   "metadata": {},
   "outputs": [
    {
     "data": {
      "text/plain": [
       "array([34.84051394, 40.14836977, 23.04153763, ..., 46.8704355 ,\n",
       "       46.28123057, 38.12661013])"
      ]
     },
     "execution_count": 17,
     "metadata": {},
     "output_type": "execute_result"
    }
   ],
   "source": [
    "#Construction of normal distribution, mean set to 40 and standard deviation set to 10\n",
    "screen_time = np.random.normal(40, 10, 1250)\n",
    "screen_time"
   ]
  },
  {
   "cell_type": "code",
   "execution_count": 18,
   "metadata": {},
   "outputs": [
    {
     "data": {
      "image/png": "[encoded data removed]",
      "text/plain": [
       "<Figure size 432x288 with 1 Axes>"
      ]
     },
     "metadata": {},
     "output_type": "display_data"
    }
   ],
   "source": [
    "sns.distplot(screen_time)\n",
    "plt.title('Childrens Screen Time')\n",
    "plt.xlabel('Hours a Week')\n",
    "plt.ylabel('Frequency')\n",
    "plt.show()"
   ]
  },
  {
   "cell_type": "markdown",
   "metadata": {},
   "source": [
    "As we can see above the screen time distribution follows the normal distribution Bell Curve shape and accounts for the small proportion of the sample who either spend minimial or no time on mobile devices and those who spend large quantities of time on mobile devices.  "
   ]
  },
  {
   "cell_type": "markdown",
   "metadata": {},
   "source": [
    "### 4. Number of Apps\n",
    "The number of apps a child uses on thier mobile device will play a crucial part in the amount of time they spend on it. Research has suggested a direct link between the amount of apps a child engages with on thier mobile device and the amount of screen time.<sup>[27]</sup> However, studies have also drawn very different conclusions with regards to the number of apps children interact with on thier mobile device. Ofcom in their Children and parents: Media use and attitudes report 2019<sup>[28]</sup> discovered that on average children engage with 8 apps. This figure was also backed up by Act for Youth research.<sup>[29]</sup> However Forresters research<sup>[30]</sup> suggets that figure is lower at 5 apps. Bentley et al.<sup>[31]</sup> placed the figure higher at 10 apps, and Madden et al.<sup>[32]</sup> place the figure as low as 3 apps. \n",
    "\n",
    "Similiar to the screen time studies it should be noted that the above studies were conducted over the period from 2013-2019. As a result of this, the author feels that perhaps the conclusions drawn in the 2013 research (3 apps) might not be fully indicative of todays tech reliant society. As a result the author will place greater weighting on the most recent studies (2019) which calculated the average number of apps at 8 and 10 respectively. The author feels this weighting will better reflect todays childerns interaction with apps.\n",
    "\n",
    "Similiar to the Gender distribution calculation, the author will implement the numpy.random.choice function to calculate the Number of Apps distribution. The author will set the range to between 1 and 10 to signify the amount of apps. Also due to the above observations with regards to the studies, the author increase the weighting the inline with the number of apps i.e. the probability of interacting with 2 apps will be lower than the probability of interacting with 8 apps. The author will also place the second highest weighting (0.17) to 8 apps and the highest (0.18) to 10 apps to reflect the 2019 studies."
   ]
  },
  {
   "cell_type": "code",
   "execution_count": 19,
   "metadata": {
    "scrolled": true
   },
   "outputs": [
    {
     "data": {
      "text/plain": [
       "array([ 9,  4,  9, ...,  6,  9, 10])"
      ]
     },
     "execution_count": 19,
     "metadata": {},
     "output_type": "execute_result"
    }
   ],
   "source": [
    "app_num = [1,2,3,4,5,6,7,8,9,10]\n",
    "apps = np.random.choice(app_num, 1250, p=[0.01,0.03,0.06,0.07,0.09,0.10,0.13,0.17,0.16,0.18])\n",
    "apps"
   ]
  },
  {
   "cell_type": "code",
   "execution_count": 20,
   "metadata": {
    "scrolled": false
   },
   "outputs": [
    {
     "data": {
      "image/png": "[encoded data removed]",
      "text/plain": [
       "<Figure size 432x288 with 1 Axes>"
      ]
     },
     "metadata": {},
     "output_type": "display_data"
    }
   ],
   "source": [
    "#Distribution Plot of the above calculation to identify the type of distribution\n",
    "sns.distplot(apps)\n",
    "plt.title('Childrens Number of Apps')\n",
    "plt.xlabel('Numbeer of Apps')\n",
    "plt.ylabel('Frequency')\n",
    "plt.show()"
   ]
  },
  {
   "cell_type": "markdown",
   "metadata": {},
   "source": [
    "From the above calculation and visulation through the seaborn.distplot function<sup>[33]</sup> it can be seen that the kernel density estimation (KDE) follows something of a binomial distribution. By definition a binomial distribution is a probability distribution that describes the outcome of *n* independent trials in an experiment. Each trial is assumed to have only two outcomes, either success or failure and have a probability associated with success and failure.<sup>[34]</sup> However as the above conditions do not fit the criteria for a binomial distribution i.e. the above calculation has ten different outcomes (1-10 apps) and would not be classed as success or failure, the author will investigate the calculations further.\n",
    "\n",
    "I allow for further calculations the author will first identify the total figure for each outcome e.g. total figure for number of children who interact with 2 Apps. The author will then plot these results on a bar chart. It is hoped plotting these results in the form of a bar chart will give a clearer picture to the type of distribution the calculations take. "
   ]
  },
  {
   "cell_type": "code",
   "execution_count": 21,
   "metadata": {},
   "outputs": [
    {
     "name": "stdout",
     "output_type": "stream",
     "text": [
      "Number of Children who interact with 1 App:  8\n",
      "Number of Children who interact with 2 Apps:  38\n",
      "Number of Children who interact with 3 Apps:  69\n",
      "Number of Children who interact with 4 Apps:  95\n",
      "Number of Children who interact with 5 Apps:  122\n",
      "Number of Children who interact with 6 Apps:  119\n",
      "Number of Children who interact with 7 Apps:  162\n",
      "Number of Children who interact with 8 Apps:  234\n",
      "Number of Children who interact with 9 Apps:  195\n",
      "Number of Children who interact with 10 Apps:  208\n"
     ]
    }
   ],
   "source": [
    "#Calculation of the total figures for each outcome\n",
    "print(\"Number of Children who interact with 1 App: \", np.count_nonzero(apps == 1))\n",
    "print(\"Number of Children who interact with 2 Apps: \", np.count_nonzero(apps == 2))\n",
    "print(\"Number of Children who interact with 3 Apps: \", np.count_nonzero(apps == 3))\n",
    "print(\"Number of Children who interact with 4 Apps: \", np.count_nonzero(apps == 4))\n",
    "print(\"Number of Children who interact with 5 Apps: \", np.count_nonzero(apps == 5))\n",
    "print(\"Number of Children who interact with 6 Apps: \", np.count_nonzero(apps == 6))\n",
    "print(\"Number of Children who interact with 7 Apps: \", np.count_nonzero(apps == 7))\n",
    "print(\"Number of Children who interact with 8 Apps: \", np.count_nonzero(apps == 8))\n",
    "print(\"Number of Children who interact with 9 Apps: \", np.count_nonzero(apps == 9))\n",
    "print(\"Number of Children who interact with 10 Apps: \", np.count_nonzero(apps == 10))"
   ]
  },
  {
   "cell_type": "code",
   "execution_count": 22,
   "metadata": {
    "scrolled": true
   },
   "outputs": [
    {
     "data": {
      "image/png": "[encoded data removed]",
      "text/plain": [
       "<Figure size 432x288 with 1 Axes>"
      ]
     },
     "metadata": {},
     "output_type": "display_data"
    }
   ],
   "source": [
    "#Plotting of the above figures on a bar chart\n",
    "fig = plt.figure()\n",
    "ax = fig.add_axes([0,0,1,1])\n",
    "app = ['1', '2', '3', '4', '5', '6', '7', '8', '9', '10']\n",
    "data= [12,42,70,97,111,134,159,200,200,225]\n",
    "ax.bar(app,data)\n",
    "plt.title('Number of Apps Children Interact With')\n",
    "plt.xlabel('Number of Apps')\n",
    "plt.ylabel('Total Number')\n",
    "plt.show()"
   ]
  },
  {
   "cell_type": "markdown",
   "metadata": {},
   "source": [
    "From further calculations and visulations it can be argued that the distribution for the number of apps children interact with follows a skewed distribution. A skewed distribution is a distribution where the data is not spread evenly (i.e. normally distributed) and is clustered at one end.<sup>[35]</sup> \n",
    "\n",
    "A skewed distribution can be either positively or negatively skewed depending on the shape of the distribution. This can be seen in the image below.\n",
    "\n",
    "<img align=\"centre\" width=\"550\" height=\"550\" img src=\"https://upload.wikimedia.org/wikipedia/commons/f/f8/Negative_and_positive_skew_diagrams_%28English%29.svg\">\n",
    "\n",
    "From comparing the distribution with the above image we can see the distribution for the number of apps children interact with follows a left (or negative) skewed distribution. In a negative skew the mass of the distribution is concentrated on the right of the figure, this means the left tail is longer.<sup>[36]</sup> Unlike normally distributed data where all measures of central tendency (mean and median) equal each other, with negatively skewed data, the measures are dispersed. The general relationship between the central tendency measures in a negatively skewed distribution is that the mean will be less than the median.<sup>[37]</sup> \n",
    "\n",
    "Negatively skewed distributions can be found in areas such as finance particulary returns on investments and income.<sup>[38]</sup>  The below image of US household income percentiles in 2019 follows a negatively skewed distribution:\n",
    "\n",
    "<img align=\"centre\" width=\"550\" height=\"550\" img src=\"https://fourpillarfreedom.com/wp-content/uploads/2019/12/incomePercentiles1.jpg\">\n",
    "\n",
    "The author will now calculate the mean and median of the number of apps children interact with."
   ]
  },
  {
   "cell_type": "code",
   "execution_count": 23,
   "metadata": {},
   "outputs": [
    {
     "data": {
      "text/plain": [
       "7.0688"
      ]
     },
     "execution_count": 23,
     "metadata": {},
     "output_type": "execute_result"
    }
   ],
   "source": [
    "#Average number of apps\n",
    "np.mean(apps)"
   ]
  },
  {
   "cell_type": "code",
   "execution_count": 24,
   "metadata": {},
   "outputs": [
    {
     "data": {
      "text/plain": [
       "8.0"
      ]
     },
     "execution_count": 24,
     "metadata": {},
     "output_type": "execute_result"
    }
   ],
   "source": [
    "#Median number of apps\n",
    "np.median(apps)"
   ]
  },
  {
   "cell_type": "markdown",
   "metadata": {},
   "source": [
    "As we can see from the above calculations the mean and median for the number of apps children interact with, follows the negatively skewed distribution. \n",
    "\n",
    "However, another distribution which personnel could argue the number of apps children interact with follows, is the power law distribution. This is due to the fact that as seen in the calculations below the power law distribution is exceptionally similiar to the negatively skewed distribution for the number of apps children interact with. "
   ]
  },
  {
   "cell_type": "code",
   "execution_count": 25,
   "metadata": {},
   "outputs": [
    {
     "data": {
      "image/png": "[encoded data removed]",
      "text/plain": [
       "<Figure size 432x288 with 1 Axes>"
      ]
     },
     "metadata": {},
     "output_type": "display_data"
    }
   ],
   "source": [
    "#Craton of a Power Law distribution for the number of apps children interact with\n",
    "power = np.random.power(10, size=1250)\n",
    "power\n",
    "\n",
    "#Visualation of the above Power Law distribution\n",
    "sns.distplot(power)\n",
    "plt.title('Power Law Distribution - Childrens Number of Apps')\n",
    "plt.xlabel('Frequency')\n",
    "plt.ylabel('Number of Apps')\n",
    "plt.show()"
   ]
  },
  {
   "cell_type": "markdown",
   "metadata": {},
   "source": [
    "It should be noted however, that by definition, the power law distribution is a distribution in which a relative change in one quantity gives rise to a proportional relative change in the other quantity, independent of the initial size of those quantities.<sup>[39]</sup> An example of this would be a square, where if you double the length of a side (from 2 to 4 inches) then the area will quadruple (from 4 to 16 inches squared).<sup>[40]</sup> This definition does not fit in with the distibution for the number of apps children interact with as the change in quantity is not proportional and is only the result of weightings determined by the author.\n",
    "\n",
    "Also a rule of thumb for the power law distribution is the Pareto Principle which states that \"20% of the input creates 80% of the result.\"<sup>[41]</sup> From calculation it can be seen that 20% of the input (8 or more apps) does not create 80% of the result (200+200+225=625, 625/1250=50%)."
   ]
  },
  {
   "cell_type": "markdown",
   "metadata": {},
   "source": [
    "## Construction of the Data Set and Analysis\n",
    "This section will focus on the construction of the data set and it's analysis. To do this the author will first create the data set using the Pandas DataFrame function with the four variables discussed above.<sup>[42]</sup>"
   ]
  },
  {
   "cell_type": "markdown",
   "metadata": {},
   "source": [
    "### Construction of the Data Set"
   ]
  },
  {
   "cell_type": "code",
   "execution_count": 26,
   "metadata": {
    "scrolled": false
   },
   "outputs": [
    {
     "data": {
      "text/html": [
       "<div>\n",
       "<style scoped>\n",
       "    .dataframe tbody tr th:only-of-type {\n",
       "        vertical-align: middle;\n",
       "    }\n",
       "\n",
       "    .dataframe tbody tr th {\n",
       "        vertical-align: top;\n",
       "    }\n",
       "\n",
       "    .dataframe thead th {\n",
       "        text-align: right;\n",
       "    }\n",
       "</style>\n",
       "<table border=\"1\" class=\"dataframe\">\n",
       "  <thead>\n",
       "    <tr style=\"text-align: right;\">\n",
       "      <th></th>\n",
       "      <th>Age</th>\n",
       "      <th>Gender</th>\n",
       "      <th>Screen Time</th>\n",
       "      <th>Number of Apps</th>\n",
       "    </tr>\n",
       "  </thead>\n",
       "  <tbody>\n",
       "    <tr>\n",
       "      <th>1</th>\n",
       "      <td>5</td>\n",
       "      <td>Female</td>\n",
       "      <td>34.840514</td>\n",
       "      <td>9</td>\n",
       "    </tr>\n",
       "    <tr>\n",
       "      <th>2</th>\n",
       "      <td>11</td>\n",
       "      <td>Female</td>\n",
       "      <td>40.148370</td>\n",
       "      <td>4</td>\n",
       "    </tr>\n",
       "    <tr>\n",
       "      <th>3</th>\n",
       "      <td>12</td>\n",
       "      <td>Female</td>\n",
       "      <td>23.041538</td>\n",
       "      <td>9</td>\n",
       "    </tr>\n",
       "    <tr>\n",
       "      <th>4</th>\n",
       "      <td>8</td>\n",
       "      <td>Female</td>\n",
       "      <td>35.111784</td>\n",
       "      <td>9</td>\n",
       "    </tr>\n",
       "    <tr>\n",
       "      <th>5</th>\n",
       "      <td>9</td>\n",
       "      <td>Male</td>\n",
       "      <td>39.167177</td>\n",
       "      <td>6</td>\n",
       "    </tr>\n",
       "    <tr>\n",
       "      <th>...</th>\n",
       "      <td>...</td>\n",
       "      <td>...</td>\n",
       "      <td>...</td>\n",
       "      <td>...</td>\n",
       "    </tr>\n",
       "    <tr>\n",
       "      <th>1246</th>\n",
       "      <td>4</td>\n",
       "      <td>Male</td>\n",
       "      <td>42.121697</td>\n",
       "      <td>7</td>\n",
       "    </tr>\n",
       "    <tr>\n",
       "      <th>1247</th>\n",
       "      <td>8</td>\n",
       "      <td>Female</td>\n",
       "      <td>26.812978</td>\n",
       "      <td>6</td>\n",
       "    </tr>\n",
       "    <tr>\n",
       "      <th>1248</th>\n",
       "      <td>16</td>\n",
       "      <td>Male</td>\n",
       "      <td>46.870436</td>\n",
       "      <td>6</td>\n",
       "    </tr>\n",
       "    <tr>\n",
       "      <th>1249</th>\n",
       "      <td>8</td>\n",
       "      <td>Female</td>\n",
       "      <td>46.281231</td>\n",
       "      <td>9</td>\n",
       "    </tr>\n",
       "    <tr>\n",
       "      <th>1250</th>\n",
       "      <td>6</td>\n",
       "      <td>Male</td>\n",
       "      <td>38.126610</td>\n",
       "      <td>10</td>\n",
       "    </tr>\n",
       "  </tbody>\n",
       "</table>\n",
       "<p>1250 rows × 4 columns</p>\n",
       "</div>"
      ],
      "text/plain": [
       "      Age  Gender  Screen Time  Number of Apps\n",
       "1       5  Female    34.840514               9\n",
       "2      11  Female    40.148370               4\n",
       "3      12  Female    23.041538               9\n",
       "4       8  Female    35.111784               9\n",
       "5       9    Male    39.167177               6\n",
       "...   ...     ...          ...             ...\n",
       "1246    4    Male    42.121697               7\n",
       "1247    8  Female    26.812978               6\n",
       "1248   16    Male    46.870436               6\n",
       "1249    8  Female    46.281231               9\n",
       "1250    6    Male    38.126610              10\n",
       "\n",
       "[1250 rows x 4 columns]"
      ]
     },
     "execution_count": 26,
     "metadata": {},
     "output_type": "execute_result"
    }
   ],
   "source": [
    "#Cretion of Data Set using the Four Variables\n",
    "data_set = pd.DataFrame({'Age': age, 'Gender': gender, 'Screen Time': screen_time, 'Number of Apps': apps})\n",
    "#Set numbering of Data Set to Start at 1\n",
    "data_set.index = np.arange(1, len(data_set) + 1)\n",
    "data_set"
   ]
  },
  {
   "cell_type": "markdown",
   "metadata": {},
   "source": [
    "As we can see the above data set includes the 1250 samples across the four variables. It can be seen however that the screen time results are displayed in results up to six decimal places. For ease of analysis and visualisations the author will use the numpy.around function<sup>[43]</sup> round the screen time results to two decimal places."
   ]
  },
  {
   "cell_type": "code",
   "execution_count": 27,
   "metadata": {
    "scrolled": true
   },
   "outputs": [
    {
     "data": {
      "text/plain": [
       "array([34.84, 40.15, 23.04, ..., 46.87, 46.28, 38.13])"
      ]
     },
     "execution_count": 27,
     "metadata": {},
     "output_type": "execute_result"
    }
   ],
   "source": [
    "#Rounding of the Screen Time results to two decimal places\n",
    "screen_time_round =np.around(screen_time, 2)\n",
    "screen_time_round"
   ]
  },
  {
   "cell_type": "markdown",
   "metadata": {},
   "source": [
    "These new results will now replace the original screen time results in the data set."
   ]
  },
  {
   "cell_type": "code",
   "execution_count": 28,
   "metadata": {
    "scrolled": false
   },
   "outputs": [
    {
     "data": {
      "text/html": [
       "<div>\n",
       "<style scoped>\n",
       "    .dataframe tbody tr th:only-of-type {\n",
       "        vertical-align: middle;\n",
       "    }\n",
       "\n",
       "    .dataframe tbody tr th {\n",
       "        vertical-align: top;\n",
       "    }\n",
       "\n",
       "    .dataframe thead th {\n",
       "        text-align: right;\n",
       "    }\n",
       "</style>\n",
       "<table border=\"1\" class=\"dataframe\">\n",
       "  <thead>\n",
       "    <tr style=\"text-align: right;\">\n",
       "      <th></th>\n",
       "      <th>Age</th>\n",
       "      <th>Gender</th>\n",
       "      <th>Screen Time</th>\n",
       "      <th>Number of Apps</th>\n",
       "    </tr>\n",
       "  </thead>\n",
       "  <tbody>\n",
       "    <tr>\n",
       "      <th>1</th>\n",
       "      <td>5</td>\n",
       "      <td>Female</td>\n",
       "      <td>34.84</td>\n",
       "      <td>9</td>\n",
       "    </tr>\n",
       "    <tr>\n",
       "      <th>2</th>\n",
       "      <td>11</td>\n",
       "      <td>Female</td>\n",
       "      <td>40.15</td>\n",
       "      <td>4</td>\n",
       "    </tr>\n",
       "    <tr>\n",
       "      <th>3</th>\n",
       "      <td>12</td>\n",
       "      <td>Female</td>\n",
       "      <td>23.04</td>\n",
       "      <td>9</td>\n",
       "    </tr>\n",
       "    <tr>\n",
       "      <th>4</th>\n",
       "      <td>8</td>\n",
       "      <td>Female</td>\n",
       "      <td>35.11</td>\n",
       "      <td>9</td>\n",
       "    </tr>\n",
       "    <tr>\n",
       "      <th>5</th>\n",
       "      <td>9</td>\n",
       "      <td>Male</td>\n",
       "      <td>39.17</td>\n",
       "      <td>6</td>\n",
       "    </tr>\n",
       "    <tr>\n",
       "      <th>...</th>\n",
       "      <td>...</td>\n",
       "      <td>...</td>\n",
       "      <td>...</td>\n",
       "      <td>...</td>\n",
       "    </tr>\n",
       "    <tr>\n",
       "      <th>1246</th>\n",
       "      <td>4</td>\n",
       "      <td>Male</td>\n",
       "      <td>42.12</td>\n",
       "      <td>7</td>\n",
       "    </tr>\n",
       "    <tr>\n",
       "      <th>1247</th>\n",
       "      <td>8</td>\n",
       "      <td>Female</td>\n",
       "      <td>26.81</td>\n",
       "      <td>6</td>\n",
       "    </tr>\n",
       "    <tr>\n",
       "      <th>1248</th>\n",
       "      <td>16</td>\n",
       "      <td>Male</td>\n",
       "      <td>46.87</td>\n",
       "      <td>6</td>\n",
       "    </tr>\n",
       "    <tr>\n",
       "      <th>1249</th>\n",
       "      <td>8</td>\n",
       "      <td>Female</td>\n",
       "      <td>46.28</td>\n",
       "      <td>9</td>\n",
       "    </tr>\n",
       "    <tr>\n",
       "      <th>1250</th>\n",
       "      <td>6</td>\n",
       "      <td>Male</td>\n",
       "      <td>38.13</td>\n",
       "      <td>10</td>\n",
       "    </tr>\n",
       "  </tbody>\n",
       "</table>\n",
       "<p>1250 rows × 4 columns</p>\n",
       "</div>"
      ],
      "text/plain": [
       "      Age  Gender  Screen Time  Number of Apps\n",
       "1       5  Female        34.84               9\n",
       "2      11  Female        40.15               4\n",
       "3      12  Female        23.04               9\n",
       "4       8  Female        35.11               9\n",
       "5       9    Male        39.17               6\n",
       "...   ...     ...          ...             ...\n",
       "1246    4    Male        42.12               7\n",
       "1247    8  Female        26.81               6\n",
       "1248   16    Male        46.87               6\n",
       "1249    8  Female        46.28               9\n",
       "1250    6    Male        38.13              10\n",
       "\n",
       "[1250 rows x 4 columns]"
      ]
     },
     "execution_count": 28,
     "metadata": {},
     "output_type": "execute_result"
    }
   ],
   "source": [
    "#Cretion of Data Set using the Four Variables (including rounded Screen Time figures)\n",
    "data_set_round = pd.DataFrame({'Age': age, 'Gender': gender, 'Screen Time': screen_time_round, 'Number of Apps': apps})\n",
    "#Set numbering of Data Set to Start at 1\n",
    "data_set_round.index = np.arange(1, len(data_set_round) + 1)\n",
    "data_set_round"
   ]
  },
  {
   "cell_type": "markdown",
   "metadata": {},
   "source": [
    "### Analysis of the Data Set"
   ]
  },
  {
   "cell_type": "markdown",
   "metadata": {},
   "source": [
    "Now that the data set has been constructed, the author will use the dataframe head, tail and describe commands to display the first 10 rows, last ten rows and the summary statistics of the data set.<sup>[44]</sup>"
   ]
  },
  {
   "cell_type": "code",
   "execution_count": 29,
   "metadata": {},
   "outputs": [
    {
     "name": "stdout",
     "output_type": "stream",
     "text": [
      "First 10 Rows of Data:\n",
      "    Age  Gender  Screen Time  Number of Apps\n",
      "1     5  Female        34.84               9\n",
      "2    11  Female        40.15               4\n",
      "3    12  Female        23.04               9\n",
      "4     8  Female        35.11               9\n",
      "5     9    Male        39.17               6\n",
      "6    11  Female        43.10               7\n",
      "7     5  Female        38.58              10\n",
      "8    15    Male        37.94               5\n",
      "9     0    Male        49.26               8\n",
      "10   16  Female        43.24               5 \n",
      "\n",
      "Last 10 Rows of Data:\n",
      "      Age  Gender  Screen Time  Number of Apps\n",
      "1241   17  Female        49.39               8\n",
      "1242   15  Female        41.42               3\n",
      "1243    4  Female        44.49              10\n",
      "1244    5  Female        32.62               7\n",
      "1245    9  Female        54.83               7\n",
      "1246    4    Male        42.12               7\n",
      "1247    8  Female        26.81               6\n",
      "1248   16    Male        46.87               6\n",
      "1249    8  Female        46.28               9\n",
      "1250    6    Male        38.13              10 \n",
      "\n",
      "Summary Statistics of the Data Set (Rounded to 2 Decimal Places):\n",
      "           Age  Screen Time  Number of Apps\n",
      "count  1250.00      1250.00         1250.00\n",
      "mean      8.89        40.24            7.07\n",
      "std       5.55        10.17            2.31\n",
      "min       0.00        -1.36            1.00\n",
      "25%       4.00        33.79            5.00\n",
      "50%       9.00        40.60            8.00\n",
      "75%      14.00        46.84            9.00\n",
      "max      18.00        78.82           10.00 \n",
      "\n"
     ]
    }
   ],
   "source": [
    "#Display the first 10 rows of data from the data set using the Pandas.DataFrame.head command\n",
    "print(\"First 10 Rows of Data:\")\n",
    "print(data_set_round.head(10), \"\\n\")\n",
    "#Display the last 10 rows of data from the data set using the Pandas.DataFrame.tail command\n",
    "print(\"Last 10 Rows of Data:\")\n",
    "print(data_set_round.tail(10), \"\\n\")\n",
    "#Display the summary statistics (rounded to 2 Decimal Places) from the data set using the Pandas.DataFrame.describe command\n",
    "print(\"Summary Statistics of the Data Set (Rounded to 2 Decimal Places):\")\n",
    "print(round(data_set_round.describe(),2),'\\n') "
   ]
  },
  {
   "cell_type": "markdown",
   "metadata": {},
   "source": [
    "Through the use of the dataframe head and tail commands the author is able to view the start and end of the data set to ensure there are no errors/missing data. Through the use of the describe command the author is able to view the numerical statistics of the data set such as the mean and standard deviation of the age, screen time and number of apps variables. \n",
    "\n",
    "While the above commands are useful, for the author to truly investigate the data set, the correlation, covariance  and the regression between the variables must be explored. "
   ]
  },
  {
   "cell_type": "markdown",
   "metadata": {},
   "source": [
    "### Correlation \n",
    "\n",
    "The term correlation refers to a statistical measure that expresses the strength of association between two or more variables and the direction of the relationships.<sup>[45]</sup> An example of a correlation would be between exercise and calories - the more time you spend exercising, the more calories you will burn. When measuring the correlation between variables it is assumed the association is linear, that one variable increases or decreases a fixed amount for a unit increase or decrease in the other.<sup>[46]</sup>\n",
    "\n",
    "The numerical correlation result is refered to as the correlation coefficient. The coefficient can take any values from -1 to 1. The interpretations of the values are:<sup>[47]</sup>\n",
    "\n",
    "* -1: Perfect negative correlation. The variables tend to move in opposite directions (i.e., when one variable increases, the other variable decreases).\n",
    "* 0: No correlation. The variables do not have a relationship with each other.\n",
    "* 1: Perfect positive correlation. The variables tend to move in the same direction (i.e., when one variable increases, the other variable also increases).\n",
    "\n",
    "Different correlation coefficient results can be seen in below image:\n",
    "\n",
    "<img align=\"centre\" width=\"550\" height=\"550\" img src=\"https://statistics.laerd.com/statistical-guides/img/pc/pearson-2-small.png\">\n",
    "\n",
    "It should also be noted that correlation is purely a mathematical calculation and does not imply causation between the variables.<sup>[48]</sup> \n",
    "\n",
    "In order to calculate the correlation coefficient of the variables in the data set the author will implement the pandas.DataFrame.corr function.<sup>[49]</sup> Due to it's common usage the author will use the Pearson’s correlation method in the calclations.<sup>[50]</sup>"
   ]
  },
  {
   "cell_type": "code",
   "execution_count": 30,
   "metadata": {
    "scrolled": true
   },
   "outputs": [
    {
     "name": "stdout",
     "output_type": "stream",
     "text": [
      "Correlation coefficient between the three numerical variables in the data set:\n"
     ]
    },
    {
     "data": {
      "text/html": [
       "<div>\n",
       "<style scoped>\n",
       "    .dataframe tbody tr th:only-of-type {\n",
       "        vertical-align: middle;\n",
       "    }\n",
       "\n",
       "    .dataframe tbody tr th {\n",
       "        vertical-align: top;\n",
       "    }\n",
       "\n",
       "    .dataframe thead th {\n",
       "        text-align: right;\n",
       "    }\n",
       "</style>\n",
       "<table border=\"1\" class=\"dataframe\">\n",
       "  <thead>\n",
       "    <tr style=\"text-align: right;\">\n",
       "      <th></th>\n",
       "      <th>Age</th>\n",
       "      <th>Screen Time</th>\n",
       "      <th>Number of Apps</th>\n",
       "    </tr>\n",
       "  </thead>\n",
       "  <tbody>\n",
       "    <tr>\n",
       "      <th>Age</th>\n",
       "      <td>1.000000</td>\n",
       "      <td>0.032182</td>\n",
       "      <td>-0.035140</td>\n",
       "    </tr>\n",
       "    <tr>\n",
       "      <th>Screen Time</th>\n",
       "      <td>0.032182</td>\n",
       "      <td>1.000000</td>\n",
       "      <td>-0.018862</td>\n",
       "    </tr>\n",
       "    <tr>\n",
       "      <th>Number of Apps</th>\n",
       "      <td>-0.035140</td>\n",
       "      <td>-0.018862</td>\n",
       "      <td>1.000000</td>\n",
       "    </tr>\n",
       "  </tbody>\n",
       "</table>\n",
       "</div>"
      ],
      "text/plain": [
       "                     Age  Screen Time  Number of Apps\n",
       "Age             1.000000     0.032182       -0.035140\n",
       "Screen Time     0.032182     1.000000       -0.018862\n",
       "Number of Apps -0.035140    -0.018862        1.000000"
      ]
     },
     "execution_count": 30,
     "metadata": {},
     "output_type": "execute_result"
    }
   ],
   "source": [
    "#Display the correlation coefficient of the three numerical variables in the data set\n",
    "print(\"Correlation coefficient between the three numerical variables in the data set:\")\n",
    "data_set_round.corr(method ='pearson')"
   ]
  },
  {
   "cell_type": "markdown",
   "metadata": {},
   "source": [
    "As we can see from the above correlation coefficient calculations, gender is not included. This is due to the fact that within the data set gender is classed verbally (Male or Female) and not numerically and the pandas.DataFrame.corr function only calculates numerical information.<sup>[51]</sup> Should the author wish for gender to be included they will have to create a new data set by replacing the verbal classification for gender (Male or Female), with the numberical classification (1 = Male, 0 = Female)."
   ]
  },
  {
   "cell_type": "code",
   "execution_count": 31,
   "metadata": {},
   "outputs": [
    {
     "data": {
      "text/html": [
       "<div>\n",
       "<style scoped>\n",
       "    .dataframe tbody tr th:only-of-type {\n",
       "        vertical-align: middle;\n",
       "    }\n",
       "\n",
       "    .dataframe tbody tr th {\n",
       "        vertical-align: top;\n",
       "    }\n",
       "\n",
       "    .dataframe thead th {\n",
       "        text-align: right;\n",
       "    }\n",
       "</style>\n",
       "<table border=\"1\" class=\"dataframe\">\n",
       "  <thead>\n",
       "    <tr style=\"text-align: right;\">\n",
       "      <th></th>\n",
       "      <th>Age</th>\n",
       "      <th>Gender</th>\n",
       "      <th>Screen Time</th>\n",
       "      <th>Number of Apps</th>\n",
       "    </tr>\n",
       "  </thead>\n",
       "  <tbody>\n",
       "    <tr>\n",
       "      <th>1</th>\n",
       "      <td>5</td>\n",
       "      <td>1</td>\n",
       "      <td>34.84</td>\n",
       "      <td>9</td>\n",
       "    </tr>\n",
       "    <tr>\n",
       "      <th>2</th>\n",
       "      <td>11</td>\n",
       "      <td>0</td>\n",
       "      <td>40.15</td>\n",
       "      <td>4</td>\n",
       "    </tr>\n",
       "    <tr>\n",
       "      <th>3</th>\n",
       "      <td>12</td>\n",
       "      <td>1</td>\n",
       "      <td>23.04</td>\n",
       "      <td>9</td>\n",
       "    </tr>\n",
       "    <tr>\n",
       "      <th>4</th>\n",
       "      <td>8</td>\n",
       "      <td>0</td>\n",
       "      <td>35.11</td>\n",
       "      <td>9</td>\n",
       "    </tr>\n",
       "    <tr>\n",
       "      <th>5</th>\n",
       "      <td>9</td>\n",
       "      <td>1</td>\n",
       "      <td>39.17</td>\n",
       "      <td>6</td>\n",
       "    </tr>\n",
       "    <tr>\n",
       "      <th>...</th>\n",
       "      <td>...</td>\n",
       "      <td>...</td>\n",
       "      <td>...</td>\n",
       "      <td>...</td>\n",
       "    </tr>\n",
       "    <tr>\n",
       "      <th>1246</th>\n",
       "      <td>4</td>\n",
       "      <td>0</td>\n",
       "      <td>42.12</td>\n",
       "      <td>7</td>\n",
       "    </tr>\n",
       "    <tr>\n",
       "      <th>1247</th>\n",
       "      <td>8</td>\n",
       "      <td>1</td>\n",
       "      <td>26.81</td>\n",
       "      <td>6</td>\n",
       "    </tr>\n",
       "    <tr>\n",
       "      <th>1248</th>\n",
       "      <td>16</td>\n",
       "      <td>0</td>\n",
       "      <td>46.87</td>\n",
       "      <td>6</td>\n",
       "    </tr>\n",
       "    <tr>\n",
       "      <th>1249</th>\n",
       "      <td>8</td>\n",
       "      <td>0</td>\n",
       "      <td>46.28</td>\n",
       "      <td>9</td>\n",
       "    </tr>\n",
       "    <tr>\n",
       "      <th>1250</th>\n",
       "      <td>6</td>\n",
       "      <td>0</td>\n",
       "      <td>38.13</td>\n",
       "      <td>10</td>\n",
       "    </tr>\n",
       "  </tbody>\n",
       "</table>\n",
       "<p>1250 rows × 4 columns</p>\n",
       "</div>"
      ],
      "text/plain": [
       "      Age  Gender  Screen Time  Number of Apps\n",
       "1       5       1        34.84               9\n",
       "2      11       0        40.15               4\n",
       "3      12       1        23.04               9\n",
       "4       8       0        35.11               9\n",
       "5       9       1        39.17               6\n",
       "...   ...     ...          ...             ...\n",
       "1246    4       0        42.12               7\n",
       "1247    8       1        26.81               6\n",
       "1248   16       0        46.87               6\n",
       "1249    8       0        46.28               9\n",
       "1250    6       0        38.13              10\n",
       "\n",
       "[1250 rows x 4 columns]"
      ]
     },
     "execution_count": 31,
     "metadata": {},
     "output_type": "execute_result"
    }
   ],
   "source": [
    "#Creation of a new data set with numberical classification for gender. Set it that 1 = Male, 0 = Female.\n",
    "data_set_gender = pd.DataFrame({'Age': age, 'Gender': num_gender, 'Screen Time': screen_time_round, 'Number of Apps': apps})\n",
    "#Set numbering of Data Set to Start at 1\n",
    "data_set_gender.index = np.arange(1, len(data_set_gender) + 1)\n",
    "data_set_gender"
   ]
  },
  {
   "cell_type": "markdown",
   "metadata": {},
   "source": [
    "As we can see the author has now created a new data set with the numerical classification (1 = Male, 0 = Female) for gender. It should be noted however that the gender breakdown in the new data set will be sightly different that the gender breakdown in the previous data set. This can be seen in the pie charts perviously constructed in the gender section of the project.\n",
    "\n",
    "The author will now rerun the pandas.DataFrame.corr function.<sup>[49]</sup> with the Pearson’s correlation method to calculate the gender correlation coefficient to the new data set."
   ]
  },
  {
   "cell_type": "code",
   "execution_count": 32,
   "metadata": {},
   "outputs": [
    {
     "name": "stdout",
     "output_type": "stream",
     "text": [
      "Correlation coefficient between the four variables in the new data set:\n"
     ]
    },
    {
     "data": {
      "text/html": [
       "<div>\n",
       "<style scoped>\n",
       "    .dataframe tbody tr th:only-of-type {\n",
       "        vertical-align: middle;\n",
       "    }\n",
       "\n",
       "    .dataframe tbody tr th {\n",
       "        vertical-align: top;\n",
       "    }\n",
       "\n",
       "    .dataframe thead th {\n",
       "        text-align: right;\n",
       "    }\n",
       "</style>\n",
       "<table border=\"1\" class=\"dataframe\">\n",
       "  <thead>\n",
       "    <tr style=\"text-align: right;\">\n",
       "      <th></th>\n",
       "      <th>Age</th>\n",
       "      <th>Gender</th>\n",
       "      <th>Screen Time</th>\n",
       "      <th>Number of Apps</th>\n",
       "    </tr>\n",
       "  </thead>\n",
       "  <tbody>\n",
       "    <tr>\n",
       "      <th>Age</th>\n",
       "      <td>1.000000</td>\n",
       "      <td>0.007496</td>\n",
       "      <td>0.032182</td>\n",
       "      <td>-0.035140</td>\n",
       "    </tr>\n",
       "    <tr>\n",
       "      <th>Gender</th>\n",
       "      <td>0.007496</td>\n",
       "      <td>1.000000</td>\n",
       "      <td>-0.029256</td>\n",
       "      <td>0.042640</td>\n",
       "    </tr>\n",
       "    <tr>\n",
       "      <th>Screen Time</th>\n",
       "      <td>0.032182</td>\n",
       "      <td>-0.029256</td>\n",
       "      <td>1.000000</td>\n",
       "      <td>-0.018862</td>\n",
       "    </tr>\n",
       "    <tr>\n",
       "      <th>Number of Apps</th>\n",
       "      <td>-0.035140</td>\n",
       "      <td>0.042640</td>\n",
       "      <td>-0.018862</td>\n",
       "      <td>1.000000</td>\n",
       "    </tr>\n",
       "  </tbody>\n",
       "</table>\n",
       "</div>"
      ],
      "text/plain": [
       "                     Age    Gender  Screen Time  Number of Apps\n",
       "Age             1.000000  0.007496     0.032182       -0.035140\n",
       "Gender          0.007496  1.000000    -0.029256        0.042640\n",
       "Screen Time     0.032182 -0.029256     1.000000       -0.018862\n",
       "Number of Apps -0.035140  0.042640    -0.018862        1.000000"
      ]
     },
     "execution_count": 32,
     "metadata": {},
     "output_type": "execute_result"
    }
   ],
   "source": [
    "#Display the correlation coefficient of the four variables in the new data set\n",
    "print(\"Correlation coefficient between the four variables in the new data set:\")\n",
    "data_set_gender.corr(method ='pearson')"
   ]
  },
  {
   "cell_type": "markdown",
   "metadata": {},
   "source": [
    "We can see now that gender has been included in the correlation coefficient calculations for the data set, while the previous coefficient calculations of the other variables has remained unchanged. \n",
    "\n",
    "In terms of analysis it can be seen that across the four variables there does not appear to be a strong correlation coefficient relationship. This is indicated by all the scores falling within the hundredths of a decimal place (positive or negative). \n",
    "\n",
    "It could be stated with confidence that no correlation exists between age and gender in the data set. This is due to the correlation coefficient calculation being expressed in the thousandths of a decimal place. This lack of correlation would hold true in reality as a change in age would not result in a change in gender or vice versa. \n",
    "\n",
    "The strongest correlation seems to exist between gender and the number of apps a child interacts with. However, even by the below guidelines this could not be classed as even a 'weak' relationship:<sup>[52]</sup>\n",
    "\n",
    "<img align=\"centre\" width=\"550\" height=\"550\" img src=\"https://image.slidesharecdn.com/guidelineforinterpretingcorrelationcoefficient-140705051726-phpapp02/95/guideline-for-interpreting-correlation-coefficient-2-638.jpg?cb=1404537512\">\n",
    "\n",
    "The author will however attempt to analyse the relationship between gender and the number of apps a child interacts with, and draw conclusions as to it's strength.\n",
    "\n",
    "Firstly the author will use the pandas.crosstab function to seperate the 'gender' and 'number of apps' information from the rest of the data set.<sup>[53]</sup> "
   ]
  },
  {
   "cell_type": "code",
   "execution_count": 33,
   "metadata": {
    "scrolled": true
   },
   "outputs": [
    {
     "name": "stdout",
     "output_type": "stream",
     "text": [
      "Breakdown of Gender and Number of Apps within the Data Set  (1 = Male, 0 = Female):\n"
     ]
    },
    {
     "data": {
      "text/html": [
       "<div>\n",
       "<style scoped>\n",
       "    .dataframe tbody tr th:only-of-type {\n",
       "        vertical-align: middle;\n",
       "    }\n",
       "\n",
       "    .dataframe tbody tr th {\n",
       "        vertical-align: top;\n",
       "    }\n",
       "\n",
       "    .dataframe thead th {\n",
       "        text-align: right;\n",
       "    }\n",
       "</style>\n",
       "<table border=\"1\" class=\"dataframe\">\n",
       "  <thead>\n",
       "    <tr style=\"text-align: right;\">\n",
       "      <th>Number of Apps</th>\n",
       "      <th>1</th>\n",
       "      <th>2</th>\n",
       "      <th>3</th>\n",
       "      <th>4</th>\n",
       "      <th>5</th>\n",
       "      <th>6</th>\n",
       "      <th>7</th>\n",
       "      <th>8</th>\n",
       "      <th>9</th>\n",
       "      <th>10</th>\n",
       "      <th>All</th>\n",
       "    </tr>\n",
       "    <tr>\n",
       "      <th>Gender</th>\n",
       "      <th></th>\n",
       "      <th></th>\n",
       "      <th></th>\n",
       "      <th></th>\n",
       "      <th></th>\n",
       "      <th></th>\n",
       "      <th></th>\n",
       "      <th></th>\n",
       "      <th></th>\n",
       "      <th></th>\n",
       "      <th></th>\n",
       "    </tr>\n",
       "  </thead>\n",
       "  <tbody>\n",
       "    <tr>\n",
       "      <th>0</th>\n",
       "      <td>5</td>\n",
       "      <td>20</td>\n",
       "      <td>37</td>\n",
       "      <td>46</td>\n",
       "      <td>63</td>\n",
       "      <td>72</td>\n",
       "      <td>84</td>\n",
       "      <td>113</td>\n",
       "      <td>99</td>\n",
       "      <td>95</td>\n",
       "      <td>634</td>\n",
       "    </tr>\n",
       "    <tr>\n",
       "      <th>1</th>\n",
       "      <td>3</td>\n",
       "      <td>18</td>\n",
       "      <td>32</td>\n",
       "      <td>49</td>\n",
       "      <td>59</td>\n",
       "      <td>47</td>\n",
       "      <td>78</td>\n",
       "      <td>121</td>\n",
       "      <td>96</td>\n",
       "      <td>113</td>\n",
       "      <td>616</td>\n",
       "    </tr>\n",
       "    <tr>\n",
       "      <th>All</th>\n",
       "      <td>8</td>\n",
       "      <td>38</td>\n",
       "      <td>69</td>\n",
       "      <td>95</td>\n",
       "      <td>122</td>\n",
       "      <td>119</td>\n",
       "      <td>162</td>\n",
       "      <td>234</td>\n",
       "      <td>195</td>\n",
       "      <td>208</td>\n",
       "      <td>1250</td>\n",
       "    </tr>\n",
       "  </tbody>\n",
       "</table>\n",
       "</div>"
      ],
      "text/plain": [
       "Number of Apps  1   2   3   4    5    6    7    8    9   10   All\n",
       "Gender                                                           \n",
       "0               5  20  37  46   63   72   84  113   99   95   634\n",
       "1               3  18  32  49   59   47   78  121   96  113   616\n",
       "All             8  38  69  95  122  119  162  234  195  208  1250"
      ]
     },
     "execution_count": 33,
     "metadata": {},
     "output_type": "execute_result"
    }
   ],
   "source": [
    "#Use the pandas.crosstab function to seperate the 'gender' and 'number of apps' information \n",
    "print(\"Breakdown of Gender and Number of Apps within the Data Set  (1 = Male, 0 = Female):\")\n",
    "pd.crosstab(index=data_set_gender['Gender'], columns=data_set_gender['Number of Apps'], margins=True)"
   ]
  },
  {
   "cell_type": "markdown",
   "metadata": {},
   "source": [
    "While capturing the information in table form is adequate, the author feels the best way conclusions can be drawn is through the use of visualtions. The author first felt the information could be best displayed using the seaborn.scatterplot function<sup>[54]</sup>. However as can be seen in the plot below due to thier being only two outcomes for the gender variable (male or femle) the result was essentially two straight lines and very little more insight could be assimilated."
   ]
  },
  {
   "cell_type": "code",
   "execution_count": 34,
   "metadata": {
    "scrolled": true
   },
   "outputs": [
    {
     "data": {
      "text/plain": [
       "Text(0.5, 0.98, 'Number of Apps vs. Gender (1 = Male, 0 = Female)')"
      ]
     },
     "execution_count": 34,
     "metadata": {},
     "output_type": "execute_result"
    },
    {
     "data": {
      "image/png": "[encoded data removed]",
      "text/plain": [
       "<Figure size 432x288 with 1 Axes>"
      ]
     },
     "metadata": {},
     "output_type": "display_data"
    }
   ],
   "source": [
    "sns.scatterplot(data=data_set_gender, x='Gender', y='Number of Apps', hue=\"Gender\",\n",
    "    sizes=(200, 200), legend=\"full\")\n",
    "plt. xlabel('Gender', fontsize=20)\n",
    "plt. ylabel('Number of Apps', fontsize=20)\n",
    "plt. suptitle('Number of Apps vs. Gender (1 = Male, 0 = Female)', fontsize=20)"
   ]
  },
  {
   "cell_type": "markdown",
   "metadata": {},
   "source": [
    "As a result the author decided to use the seaborn.countplot function.<sup>[55]</sup> The function displays the counts of observations in each categorical bin using bars.<sup>[56]</sup> While this plot may not be able to highlight the relationship between 'gender and 'number of apps' it does allow for some interesting observations to be made. "
   ]
  },
  {
   "cell_type": "code",
   "execution_count": 35,
   "metadata": {
    "scrolled": false
   },
   "outputs": [
    {
     "data": {
      "image/png": "[encoded data removed]",
      "text/plain": [
       "<Figure size 720x360 with 1 Axes>"
      ]
     },
     "metadata": {},
     "output_type": "display_data"
    }
   ],
   "source": [
    "#Creation of Countplot of the Gender and Number of Apps Relationship\n",
    "plt.figure(figsize=(10, 5))\n",
    "ax = sns.countplot(x=\"Number of Apps\", hue=\"Gender\", data=data_set_gender)\n",
    "plt. xlabel('Number of Apps', fontsize=20)\n",
    "plt. ylabel('Number of Participants', fontsize=20)\n",
    "plt. suptitle('Number of Apps vs. Gender (1 = Male, 0 = Female)', fontsize=20)\n",
    "plt.tight_layout()\n",
    "plt.show()"
   ]
  },
  {
   "cell_type": "markdown",
   "metadata": {},
   "source": [
    "The results of the countplot appear to indicate that females seem to exceed males in terms of children with between one to seven apps on thier mobile device. This is especially true for children with six apps. However, for children with between eight to ten apps on thier mobile device the trend is reversed particularly for children with eight and ten apps. One hypothesis for these trends could be the fact that male children tend to play far more games apps than their female counterparts,<sup>[57]</sup> and as a result would have more apps downloaded on thier mobile device.\n",
    "\n",
    "This type of insight would not have been apparent to the author if the seaborn.countplot function was not used to study this relationship and as a result should be considered for any future exploratory analysis."
   ]
  },
  {
   "cell_type": "markdown",
   "metadata": {},
   "source": [
    "It should also be worth noting that some of the other correlation coefficients are quite close to the relationship between gender and the number of apps a child interacts with e.g. age and number of apps. As a result, the author will attempt to visualise all the correlation coefficients within the data set. To do this the seaborn.heatmap function<sup>[58]</sup> will be applied to the correlation coefficient results for the data set. A heatmap is a two-dimensional graphical representation of data where the individual values that are contained in a matrix are represented as colors.<sup>[59]</sup> The author will apply the 'coolwarm' colour scheme for the heat map, with the strength of correlations ranging from 'hot' i.e. strong (dark red) to 'cold' i.e. weak (bark blue).<sup>[60]</sup> "
   ]
  },
  {
   "cell_type": "code",
   "execution_count": 36,
   "metadata": {
    "scrolled": false
   },
   "outputs": [
    {
     "data": {
      "image/png": "[encoded data removed]",
      "text/plain": [
       "<Figure size 1296x1296 with 2 Axes>"
      ]
     },
     "metadata": {},
     "output_type": "display_data"
    }
   ],
   "source": [
    "#Create a Heatmap to highlgiht the correlation coefficients across the four variables.\n",
    "#Set the size, title and date for the Heatmap\n",
    "plt.subplots(figsize=(18,18))\n",
    "plt. suptitle('Four Variables Correlation Coefficients', fontsize=20)\n",
    "sns.heatmap(data_set_gender.corr(method ='pearson'), annot=True, linewidths=.5, cmap='coolwarm',annot_kws={'size':14}, cbar_kws={'label': 'Correlation Coefficient'})\n",
    "plt.show()"
   ]
  },
  {
   "cell_type": "markdown",
   "metadata": {},
   "source": [
    "The heatmap confirms the observations made above with regards to the correlation coefficients and there classification not even falling within the 'weak' relationship category."
   ]
  },
  {
   "cell_type": "markdown",
   "metadata": {},
   "source": [
    "### Covariance \n",
    "\n",
    "Covariance provides a measure of the strength of the relationship between two or more sets of random variates.<sup>[61]</sup> It measures to what extent the variables change together.<sup>[62]</sup> \n",
    "\n",
    "Unlike the correlation coefficient described previously, covariance is measured in units. The units are computed by multiplying the units of the two variables. The variance can take any positive or negative values. The values are interpreted as follows:<sup>[63]</sup>\n",
    "\n",
    "* Positive covariance: Indicates that two variables tend to move in the same direction.\n",
    "* Negative covariance: Reveals that two variables tend to move in inverse directions.\n",
    "\n",
    "Covariance has many practical applications including in particular portfolio theory. By choosing assets that do not exhibit a high positive covariance with each other, the unsystematic risk can be partially eliminated within a given portfolio.<sup>[64]</sup> However, it should also be noted that covariance does not assess the dependency between variables.<sup>[65]</sup>\n",
    "\n",
    "While a large covariance can mean a strong relationship between variables. One of the key issues with covariance is that you can’t compare variances over data sets with different scales (like pounds and inches).<sup>[66]</sup> That is to say, covariance is not standardized and it’s interpretation is scale dependent.<sup>[67]</sup> Similarly, a weak covariance in one data set may be a strong one in a different data set with different scales.\n",
    "\n",
    "In order to calculate the covariance of the variables in the data set the author will implement the pandas.DataFrame.cov function.<sup>[68]</sup>"
   ]
  },
  {
   "cell_type": "code",
   "execution_count": 37,
   "metadata": {
    "scrolled": false
   },
   "outputs": [
    {
     "name": "stdout",
     "output_type": "stream",
     "text": [
      "Covariance between the four variables in the data set:\n"
     ]
    },
    {
     "data": {
      "text/html": [
       "<div>\n",
       "<style scoped>\n",
       "    .dataframe tbody tr th:only-of-type {\n",
       "        vertical-align: middle;\n",
       "    }\n",
       "\n",
       "    .dataframe tbody tr th {\n",
       "        vertical-align: top;\n",
       "    }\n",
       "\n",
       "    .dataframe thead th {\n",
       "        text-align: right;\n",
       "    }\n",
       "</style>\n",
       "<table border=\"1\" class=\"dataframe\">\n",
       "  <thead>\n",
       "    <tr style=\"text-align: right;\">\n",
       "      <th></th>\n",
       "      <th>Age</th>\n",
       "      <th>Gender</th>\n",
       "      <th>Screen Time</th>\n",
       "      <th>Number of Apps</th>\n",
       "    </tr>\n",
       "  </thead>\n",
       "  <tbody>\n",
       "    <tr>\n",
       "      <th>Age</th>\n",
       "      <td>30.773314</td>\n",
       "      <td>0.020799</td>\n",
       "      <td>1.816270</td>\n",
       "      <td>-0.450945</td>\n",
       "    </tr>\n",
       "    <tr>\n",
       "      <th>Gender</th>\n",
       "      <td>0.020799</td>\n",
       "      <td>0.250148</td>\n",
       "      <td>-0.148864</td>\n",
       "      <td>0.049335</td>\n",
       "    </tr>\n",
       "    <tr>\n",
       "      <th>Screen Time</th>\n",
       "      <td>1.816270</td>\n",
       "      <td>-0.148864</td>\n",
       "      <td>103.503773</td>\n",
       "      <td>-0.443932</td>\n",
       "    </tr>\n",
       "    <tr>\n",
       "      <th>Number of Apps</th>\n",
       "      <td>-0.450945</td>\n",
       "      <td>0.049335</td>\n",
       "      <td>-0.443932</td>\n",
       "      <td>5.351548</td>\n",
       "    </tr>\n",
       "  </tbody>\n",
       "</table>\n",
       "</div>"
      ],
      "text/plain": [
       "                      Age    Gender  Screen Time  Number of Apps\n",
       "Age             30.773314  0.020799     1.816270       -0.450945\n",
       "Gender           0.020799  0.250148    -0.148864        0.049335\n",
       "Screen Time      1.816270 -0.148864   103.503773       -0.443932\n",
       "Number of Apps  -0.450945  0.049335    -0.443932        5.351548"
      ]
     },
     "execution_count": 37,
     "metadata": {},
     "output_type": "execute_result"
    }
   ],
   "source": [
    "#Display the covariance of the four variables in the data set\n",
    "print(\"Covariance between the four variables in the data set:\")\n",
    "data_set_gender.cov()"
   ]
  },
  {
   "cell_type": "markdown",
   "metadata": {},
   "source": [
    "From the results it world appear that a positive covariance exists between age and screen time. This would indicate that an increse in a childs age leads to an increase in their screen time. This hypothesis would reinforce current academia thinking with regards to this area.<sup>[69]</sup> However the caveat to this result would be that, as mentioned earlier, as covariance is scale dependant questions would arise with regards to its validity.  \n",
    "\n",
    "One area in which the author feels the covariance calculation holds true is the relationship between the participants age and number of apps. It would appear that a negative covariance exists, that is to say, as the participants age increased the number of apps they interacted with decreased. The author finds this quite interesting as during the research stage the majority of the literature pointed to the opposite relationship.<sup>[70]</sup> \n",
    "\n",
    "With regards to covariance results interpretation special mention shold also be given to Weisstein who states that: \"The main problem with interpretation is that the wide range of results that it takes on makes it hard to interpret. For example, your data set could return a value of 3, or 3,000. This wide range of values is cause by a simple fact; The larger the X and Y values, the larger the covariance. A value of 300 tells us that the variables are correlated, but unlike the correlation coefficient, that number doesn’t tell us exactly how strong that relationship is.'<sup>[62]</sup> \n",
    "\n",
    "From the observations of the covariance results the author will futher examine the relationship between participants age and number of apps they interact with. "
   ]
  },
  {
   "cell_type": "markdown",
   "metadata": {},
   "source": [
    "Firstly, similiar to the examination of the gender and the number of apps relationship the author will isolate the \n",
    "'age' and 'number of apps' information from the rest of the data set using the pandas.crosstab function.<sup>[53]</sup>"
   ]
  },
  {
   "cell_type": "code",
   "execution_count": 38,
   "metadata": {
    "scrolled": false
   },
   "outputs": [
    {
     "name": "stdout",
     "output_type": "stream",
     "text": [
      "Breakdown of Age and Number of Apps within the Data Set:\n"
     ]
    },
    {
     "data": {
      "text/html": [
       "<div>\n",
       "<style scoped>\n",
       "    .dataframe tbody tr th:only-of-type {\n",
       "        vertical-align: middle;\n",
       "    }\n",
       "\n",
       "    .dataframe tbody tr th {\n",
       "        vertical-align: top;\n",
       "    }\n",
       "\n",
       "    .dataframe thead th {\n",
       "        text-align: right;\n",
       "    }\n",
       "</style>\n",
       "<table border=\"1\" class=\"dataframe\">\n",
       "  <thead>\n",
       "    <tr style=\"text-align: right;\">\n",
       "      <th>Age</th>\n",
       "      <th>0</th>\n",
       "      <th>1</th>\n",
       "      <th>2</th>\n",
       "      <th>3</th>\n",
       "      <th>4</th>\n",
       "      <th>5</th>\n",
       "      <th>6</th>\n",
       "      <th>7</th>\n",
       "      <th>8</th>\n",
       "      <th>9</th>\n",
       "      <th>10</th>\n",
       "      <th>11</th>\n",
       "      <th>12</th>\n",
       "      <th>13</th>\n",
       "      <th>14</th>\n",
       "      <th>15</th>\n",
       "      <th>16</th>\n",
       "      <th>17</th>\n",
       "      <th>18</th>\n",
       "      <th>All</th>\n",
       "    </tr>\n",
       "    <tr>\n",
       "      <th>Number of Apps</th>\n",
       "      <th></th>\n",
       "      <th></th>\n",
       "      <th></th>\n",
       "      <th></th>\n",
       "      <th></th>\n",
       "      <th></th>\n",
       "      <th></th>\n",
       "      <th></th>\n",
       "      <th></th>\n",
       "      <th></th>\n",
       "      <th></th>\n",
       "      <th></th>\n",
       "      <th></th>\n",
       "      <th></th>\n",
       "      <th></th>\n",
       "      <th></th>\n",
       "      <th></th>\n",
       "      <th></th>\n",
       "      <th></th>\n",
       "      <th></th>\n",
       "    </tr>\n",
       "  </thead>\n",
       "  <tbody>\n",
       "    <tr>\n",
       "      <th>1</th>\n",
       "      <td>0</td>\n",
       "      <td>0</td>\n",
       "      <td>0</td>\n",
       "      <td>0</td>\n",
       "      <td>1</td>\n",
       "      <td>0</td>\n",
       "      <td>0</td>\n",
       "      <td>1</td>\n",
       "      <td>0</td>\n",
       "      <td>1</td>\n",
       "      <td>1</td>\n",
       "      <td>0</td>\n",
       "      <td>1</td>\n",
       "      <td>1</td>\n",
       "      <td>1</td>\n",
       "      <td>0</td>\n",
       "      <td>0</td>\n",
       "      <td>0</td>\n",
       "      <td>1</td>\n",
       "      <td>8</td>\n",
       "    </tr>\n",
       "    <tr>\n",
       "      <th>2</th>\n",
       "      <td>4</td>\n",
       "      <td>2</td>\n",
       "      <td>2</td>\n",
       "      <td>2</td>\n",
       "      <td>3</td>\n",
       "      <td>1</td>\n",
       "      <td>0</td>\n",
       "      <td>3</td>\n",
       "      <td>2</td>\n",
       "      <td>1</td>\n",
       "      <td>1</td>\n",
       "      <td>2</td>\n",
       "      <td>5</td>\n",
       "      <td>1</td>\n",
       "      <td>0</td>\n",
       "      <td>1</td>\n",
       "      <td>1</td>\n",
       "      <td>5</td>\n",
       "      <td>2</td>\n",
       "      <td>38</td>\n",
       "    </tr>\n",
       "    <tr>\n",
       "      <th>3</th>\n",
       "      <td>6</td>\n",
       "      <td>2</td>\n",
       "      <td>3</td>\n",
       "      <td>1</td>\n",
       "      <td>2</td>\n",
       "      <td>5</td>\n",
       "      <td>6</td>\n",
       "      <td>5</td>\n",
       "      <td>5</td>\n",
       "      <td>2</td>\n",
       "      <td>2</td>\n",
       "      <td>8</td>\n",
       "      <td>1</td>\n",
       "      <td>4</td>\n",
       "      <td>2</td>\n",
       "      <td>3</td>\n",
       "      <td>2</td>\n",
       "      <td>4</td>\n",
       "      <td>6</td>\n",
       "      <td>69</td>\n",
       "    </tr>\n",
       "    <tr>\n",
       "      <th>4</th>\n",
       "      <td>4</td>\n",
       "      <td>4</td>\n",
       "      <td>7</td>\n",
       "      <td>7</td>\n",
       "      <td>3</td>\n",
       "      <td>5</td>\n",
       "      <td>6</td>\n",
       "      <td>3</td>\n",
       "      <td>3</td>\n",
       "      <td>4</td>\n",
       "      <td>10</td>\n",
       "      <td>4</td>\n",
       "      <td>3</td>\n",
       "      <td>6</td>\n",
       "      <td>8</td>\n",
       "      <td>6</td>\n",
       "      <td>5</td>\n",
       "      <td>3</td>\n",
       "      <td>4</td>\n",
       "      <td>95</td>\n",
       "    </tr>\n",
       "    <tr>\n",
       "      <th>5</th>\n",
       "      <td>6</td>\n",
       "      <td>6</td>\n",
       "      <td>2</td>\n",
       "      <td>4</td>\n",
       "      <td>6</td>\n",
       "      <td>7</td>\n",
       "      <td>10</td>\n",
       "      <td>9</td>\n",
       "      <td>4</td>\n",
       "      <td>3</td>\n",
       "      <td>4</td>\n",
       "      <td>6</td>\n",
       "      <td>5</td>\n",
       "      <td>8</td>\n",
       "      <td>9</td>\n",
       "      <td>7</td>\n",
       "      <td>6</td>\n",
       "      <td>8</td>\n",
       "      <td>12</td>\n",
       "      <td>122</td>\n",
       "    </tr>\n",
       "    <tr>\n",
       "      <th>6</th>\n",
       "      <td>6</td>\n",
       "      <td>5</td>\n",
       "      <td>5</td>\n",
       "      <td>8</td>\n",
       "      <td>8</td>\n",
       "      <td>5</td>\n",
       "      <td>4</td>\n",
       "      <td>13</td>\n",
       "      <td>8</td>\n",
       "      <td>7</td>\n",
       "      <td>7</td>\n",
       "      <td>4</td>\n",
       "      <td>3</td>\n",
       "      <td>8</td>\n",
       "      <td>7</td>\n",
       "      <td>8</td>\n",
       "      <td>4</td>\n",
       "      <td>2</td>\n",
       "      <td>7</td>\n",
       "      <td>119</td>\n",
       "    </tr>\n",
       "    <tr>\n",
       "      <th>7</th>\n",
       "      <td>14</td>\n",
       "      <td>8</td>\n",
       "      <td>9</td>\n",
       "      <td>12</td>\n",
       "      <td>9</td>\n",
       "      <td>7</td>\n",
       "      <td>5</td>\n",
       "      <td>7</td>\n",
       "      <td>3</td>\n",
       "      <td>9</td>\n",
       "      <td>14</td>\n",
       "      <td>8</td>\n",
       "      <td>7</td>\n",
       "      <td>12</td>\n",
       "      <td>10</td>\n",
       "      <td>12</td>\n",
       "      <td>6</td>\n",
       "      <td>3</td>\n",
       "      <td>7</td>\n",
       "      <td>162</td>\n",
       "    </tr>\n",
       "    <tr>\n",
       "      <th>8</th>\n",
       "      <td>20</td>\n",
       "      <td>15</td>\n",
       "      <td>8</td>\n",
       "      <td>12</td>\n",
       "      <td>11</td>\n",
       "      <td>9</td>\n",
       "      <td>11</td>\n",
       "      <td>15</td>\n",
       "      <td>10</td>\n",
       "      <td>9</td>\n",
       "      <td>15</td>\n",
       "      <td>17</td>\n",
       "      <td>12</td>\n",
       "      <td>8</td>\n",
       "      <td>15</td>\n",
       "      <td>8</td>\n",
       "      <td>8</td>\n",
       "      <td>13</td>\n",
       "      <td>18</td>\n",
       "      <td>234</td>\n",
       "    </tr>\n",
       "    <tr>\n",
       "      <th>9</th>\n",
       "      <td>18</td>\n",
       "      <td>10</td>\n",
       "      <td>11</td>\n",
       "      <td>10</td>\n",
       "      <td>9</td>\n",
       "      <td>8</td>\n",
       "      <td>11</td>\n",
       "      <td>9</td>\n",
       "      <td>11</td>\n",
       "      <td>10</td>\n",
       "      <td>11</td>\n",
       "      <td>10</td>\n",
       "      <td>6</td>\n",
       "      <td>9</td>\n",
       "      <td>13</td>\n",
       "      <td>8</td>\n",
       "      <td>12</td>\n",
       "      <td>6</td>\n",
       "      <td>13</td>\n",
       "      <td>195</td>\n",
       "    </tr>\n",
       "    <tr>\n",
       "      <th>10</th>\n",
       "      <td>9</td>\n",
       "      <td>14</td>\n",
       "      <td>11</td>\n",
       "      <td>10</td>\n",
       "      <td>10</td>\n",
       "      <td>11</td>\n",
       "      <td>13</td>\n",
       "      <td>13</td>\n",
       "      <td>12</td>\n",
       "      <td>11</td>\n",
       "      <td>11</td>\n",
       "      <td>6</td>\n",
       "      <td>15</td>\n",
       "      <td>16</td>\n",
       "      <td>10</td>\n",
       "      <td>9</td>\n",
       "      <td>9</td>\n",
       "      <td>9</td>\n",
       "      <td>9</td>\n",
       "      <td>208</td>\n",
       "    </tr>\n",
       "    <tr>\n",
       "      <th>All</th>\n",
       "      <td>87</td>\n",
       "      <td>66</td>\n",
       "      <td>58</td>\n",
       "      <td>66</td>\n",
       "      <td>62</td>\n",
       "      <td>58</td>\n",
       "      <td>66</td>\n",
       "      <td>78</td>\n",
       "      <td>58</td>\n",
       "      <td>57</td>\n",
       "      <td>76</td>\n",
       "      <td>65</td>\n",
       "      <td>58</td>\n",
       "      <td>73</td>\n",
       "      <td>75</td>\n",
       "      <td>62</td>\n",
       "      <td>53</td>\n",
       "      <td>53</td>\n",
       "      <td>79</td>\n",
       "      <td>1250</td>\n",
       "    </tr>\n",
       "  </tbody>\n",
       "</table>\n",
       "</div>"
      ],
      "text/plain": [
       "Age              0   1   2   3   4   5   6   7   8   9  10  11  12  13  14  \\\n",
       "Number of Apps                                                               \n",
       "1                0   0   0   0   1   0   0   1   0   1   1   0   1   1   1   \n",
       "2                4   2   2   2   3   1   0   3   2   1   1   2   5   1   0   \n",
       "3                6   2   3   1   2   5   6   5   5   2   2   8   1   4   2   \n",
       "4                4   4   7   7   3   5   6   3   3   4  10   4   3   6   8   \n",
       "5                6   6   2   4   6   7  10   9   4   3   4   6   5   8   9   \n",
       "6                6   5   5   8   8   5   4  13   8   7   7   4   3   8   7   \n",
       "7               14   8   9  12   9   7   5   7   3   9  14   8   7  12  10   \n",
       "8               20  15   8  12  11   9  11  15  10   9  15  17  12   8  15   \n",
       "9               18  10  11  10   9   8  11   9  11  10  11  10   6   9  13   \n",
       "10               9  14  11  10  10  11  13  13  12  11  11   6  15  16  10   \n",
       "All             87  66  58  66  62  58  66  78  58  57  76  65  58  73  75   \n",
       "\n",
       "Age             15  16  17  18   All  \n",
       "Number of Apps                        \n",
       "1                0   0   0   1     8  \n",
       "2                1   1   5   2    38  \n",
       "3                3   2   4   6    69  \n",
       "4                6   5   3   4    95  \n",
       "5                7   6   8  12   122  \n",
       "6                8   4   2   7   119  \n",
       "7               12   6   3   7   162  \n",
       "8                8   8  13  18   234  \n",
       "9                8  12   6  13   195  \n",
       "10               9   9   9   9   208  \n",
       "All             62  53  53  79  1250  "
      ]
     },
     "execution_count": 38,
     "metadata": {},
     "output_type": "execute_result"
    }
   ],
   "source": [
    "#Use the pandas.crosstab function to seperate the 'age' and 'number of apps' information \n",
    "print(\"Breakdown of Age and Number of Apps within the Data Set:\")\n",
    "pd.crosstab(index=data_set_gender['Number of Apps'], columns=data_set_gender['Age'], margins=True)"
   ]
  },
  {
   "cell_type": "markdown",
   "metadata": {},
   "source": [
    "From isolating the 'age' and 'number of apps' information a number of interesting observations have become apparent.\n",
    "* 54% participants aged under 1 interact with 8 or more apps (47/87).\n",
    "* 18 year olds are the highest users of 5 apps (12).\n",
    "* More 3 year olds interact with 7 apps than 16 and 17 year olds (2 vs. 6 vs. 3).\n",
    "\n",
    "The author wil now visually represent the above information using the seaborn.countplot function.<sup>[55]</sup> The author feels this will give the best visual representation of the relationship and allow for scrutiny of the above observations. "
   ]
  },
  {
   "cell_type": "code",
   "execution_count": 39,
   "metadata": {
    "scrolled": false
   },
   "outputs": [
    {
     "data": {
      "image/png": "[encoded data removed]",
      "text/plain": [
       "<Figure size 1440x1080 with 1 Axes>"
      ]
     },
     "metadata": {},
     "output_type": "display_data"
    }
   ],
   "source": [
    "#Creation of Countplot of the Age and Number of Apps Relationship\n",
    "plt.figure(figsize=(20, 15))\n",
    "ax = sns.countplot(x=\"Age\", hue=\"Number of Apps\", data=data_set_gender)\n",
    "plt. xlabel('Age of Participants', fontsize=20)\n",
    "plt. ylabel('Frequency', fontsize=20)\n",
    "plt. suptitle('Age of Participants vs. Number of Apps', fontsize=20)\n",
    "plt.legend(loc='best', title='Number of Apps')\n",
    "plt.show()"
   ]
  },
  {
   "cell_type": "markdown",
   "metadata": {},
   "source": [
    "From the countplot visualisation it can be seen that in general the covariance result for the participants age and number of apps relationship holds true. This can particularly be seen with regards to the age categories who interact with 8 (grey) and 9 (yellow) apps. For both sets of apps the highest users are those aged under 1. As the age of the participants increases the number of participants who interact with 8 and 9 apps broadly decreases until those aged 11 and 18 (for 8 apps) and those aged 14 and 18 (for 9 apps). The visualisation also highlights the high number of apps those aged under 1 interact with. This is particularly striking when compared to 18 year olds who research suggests are the most interactive with mobile devices.<sup>[71]</sup>\n",
    "\n",
    "To further analyse this phenomenon the author will filter the data set to just participants aged under 1 and 18 years old using the pandas.DataFrame.loc function.<sup>[72]</sup> The author will then concentrate the results using the pandas.concat function.<sup>[73]</sup>  Finally the author will create a data set with just the Age and Number of Apps columns."
   ]
  },
  {
   "cell_type": "code",
   "execution_count": 40,
   "metadata": {
    "scrolled": false
   },
   "outputs": [
    {
     "data": {
      "text/html": [
       "<div>\n",
       "<style scoped>\n",
       "    .dataframe tbody tr th:only-of-type {\n",
       "        vertical-align: middle;\n",
       "    }\n",
       "\n",
       "    .dataframe tbody tr th {\n",
       "        vertical-align: top;\n",
       "    }\n",
       "\n",
       "    .dataframe thead th {\n",
       "        text-align: right;\n",
       "    }\n",
       "</style>\n",
       "<table border=\"1\" class=\"dataframe\">\n",
       "  <thead>\n",
       "    <tr style=\"text-align: right;\">\n",
       "      <th></th>\n",
       "      <th>Age</th>\n",
       "      <th>Number of Apps</th>\n",
       "    </tr>\n",
       "  </thead>\n",
       "  <tbody>\n",
       "    <tr>\n",
       "      <th>9</th>\n",
       "      <td>0</td>\n",
       "      <td>8</td>\n",
       "    </tr>\n",
       "    <tr>\n",
       "      <th>26</th>\n",
       "      <td>0</td>\n",
       "      <td>7</td>\n",
       "    </tr>\n",
       "    <tr>\n",
       "      <th>32</th>\n",
       "      <td>0</td>\n",
       "      <td>8</td>\n",
       "    </tr>\n",
       "    <tr>\n",
       "      <th>53</th>\n",
       "      <td>0</td>\n",
       "      <td>7</td>\n",
       "    </tr>\n",
       "    <tr>\n",
       "      <th>66</th>\n",
       "      <td>0</td>\n",
       "      <td>8</td>\n",
       "    </tr>\n",
       "    <tr>\n",
       "      <th>...</th>\n",
       "      <td>...</td>\n",
       "      <td>...</td>\n",
       "    </tr>\n",
       "    <tr>\n",
       "      <th>1139</th>\n",
       "      <td>18</td>\n",
       "      <td>3</td>\n",
       "    </tr>\n",
       "    <tr>\n",
       "      <th>1153</th>\n",
       "      <td>18</td>\n",
       "      <td>9</td>\n",
       "    </tr>\n",
       "    <tr>\n",
       "      <th>1158</th>\n",
       "      <td>18</td>\n",
       "      <td>10</td>\n",
       "    </tr>\n",
       "    <tr>\n",
       "      <th>1175</th>\n",
       "      <td>18</td>\n",
       "      <td>3</td>\n",
       "    </tr>\n",
       "    <tr>\n",
       "      <th>1237</th>\n",
       "      <td>18</td>\n",
       "      <td>5</td>\n",
       "    </tr>\n",
       "  </tbody>\n",
       "</table>\n",
       "<p>166 rows × 2 columns</p>\n",
       "</div>"
      ],
      "text/plain": [
       "      Age  Number of Apps\n",
       "9       0               8\n",
       "26      0               7\n",
       "32      0               8\n",
       "53      0               7\n",
       "66      0               8\n",
       "...   ...             ...\n",
       "1139   18               3\n",
       "1153   18               9\n",
       "1158   18              10\n",
       "1175   18               3\n",
       "1237   18               5\n",
       "\n",
       "[166 rows x 2 columns]"
      ]
     },
     "execution_count": 40,
     "metadata": {},
     "output_type": "execute_result"
    }
   ],
   "source": [
    "#Filtering of Data Set to those aged under 1\n",
    "a = data_set_gender.loc[data_set_gender['Age'] == 0]\n",
    "#Filtering of Data Set to those aged 18\n",
    "b = data_set_gender.loc[data_set_gender['Age'] == 18]\n",
    "\n",
    "#Concatenation of the Results\n",
    "frames = [a,b]\n",
    "result = pd.concat(frames)\n",
    "\n",
    "#Filtering of the results to just the Age and Number of Apps columns\n",
    "data_set_zero = result[[\"Age\", \"Number of Apps\"]]\n",
    "data_set_zero"
   ]
  },
  {
   "cell_type": "markdown",
   "metadata": {},
   "source": [
    "Once the data set has been created the author will once again visualise the results using the seaborn.countplot function.<sup>[55]</sup> However, due to the smaller sample size and to allow for ease of analysis the author will this time plot the data horizontally. "
   ]
  },
  {
   "cell_type": "code",
   "execution_count": 41,
   "metadata": {
    "scrolled": false
   },
   "outputs": [
    {
     "data": {
      "image/png": "[encoded data removed]",
      "text/plain": [
       "<Figure size 1080x720 with 1 Axes>"
      ]
     },
     "metadata": {},
     "output_type": "display_data"
    }
   ],
   "source": [
    "#Creation of Countplot of the Age and Number of Apps Relationship\n",
    "plt.figure(figsize=(15, 10))\n",
    "ax = sns.countplot(y=\"Age\", hue=\"Number of Apps\", data=data_set_zero)\n",
    "plt. xlabel('Frequency', fontsize=20)\n",
    "plt. ylabel('Age of Participants', fontsize=20)\n",
    "plt. suptitle('Age of Participants vs. Number of Apps', fontsize=20)\n",
    "plt.legend(loc='best', title='Number of Apps')\n",
    "plt.show()"
   ]
  },
  {
   "cell_type": "markdown",
   "metadata": {},
   "source": [
    "When the data set is filtered down and the results for the participants aged under 1 and 18 year olds are placed side by side the results are evident. Those under 1 years old favour interacting with a greater number of apps than those aged 18. This can be seen by the fact that no participant under the age of 1 inteacts with 1 app. While also a higher proportion of those aged under 1 interect with 7 or more apps compared to those aged 18.\n",
    "\n",
    "While the cause and effect behind the results could be speculated, such as, those under the age of 1 having lower concentration levels than those aged 18, and as a result requiring interaction with a greater number apps for stimulation. In reality further investigation is required, possibly in the form of a dedicated study. "
   ]
  },
  {
   "cell_type": "markdown",
   "metadata": {},
   "source": [
    "### Regression\n",
    "\n",
    "According to Beers<sup>[74]</sup> regression is: \"a statistical method that attempts to determine the strength and character of the relationship between one dependent variable and a series of other variables\". Regression is used in many areas including the business world where it helps companies understand the relationships between variables, such as marketing campaigns and product sales.<sup>[75]</sup> Within regression, regression analysis is concerned with \"helping us to analyse and understand the relationship between two or more variables of interest.\"<sup>[76]</sup> This includes identifying which factors are important, which factors can be ignored and how they influence each other.<sup>[77]</sup> Regression analysis can also highlight trends such as, the connection between how much you eat and how much you weigh.<sup>[78]</sup>\n",
    "\n",
    "The author in their regression analysis will examine applying linear regression to the data set, specifically simple linear regression.  Linear regression is focused on modeling the relationship between two variables by fitting a linear equation to observed data.<sup>[79]</sup> Simple linear regression, a subset of linear regression, uses one independent variable to explain or predict the outcome of the other dependent variable.<sup>[80]</sup> In the case of the data set the author will examine the realtionship between screen time and the number of apps. As a reslult the author will set screen time as the independent variable and number of apps as the dependent variable.\n",
    "\n",
    "To calculate simple linear regression the formula $y = mx + c$ is used, which is the general equation of a straight line.<sup>[81]</sup> Where $m$ is the gradient, representing the rate of change i.e. how much $y$ increases by when $x$ is increased by 1.0 and $c$ is the intercept on the y-axis i.e. the value of $y$ when $x$ is 0.<sup>[82]</sup>\n",
    "\n",
    "To fit a straight line to the data set, values for $m$ and $c$ must be selected. These values (or parameters as they are also known<sup>[83]</sup>) ideally would represent the best possible values in terms of reflection of the data set i.e. as close as possible to the data set results. In order to select the values for $m$ and $c$ the author will employ the numpy.polyfit<sup>[84]</sup> function. This function utilises the least squares method to calculate the $m$ and $c$ results i.e. employes the Gauss–Markov theorem<sup>[85]</sup> to minimizes the variance of the unbiased estimators of the coefficients.<sup>[86]</sup>"
   ]
  },
  {
   "cell_type": "code",
   "execution_count": 42,
   "metadata": {},
   "outputs": [
    {
     "data": {
      "text/plain": [
       "array([-4.28904086e-03,  7.24137110e+00])"
      ]
     },
     "execution_count": 42,
     "metadata": {},
     "output_type": "execute_result"
    }
   ],
   "source": [
    "#Calculation of Simple Linear Regression figures using the numpy.polyfit function\n",
    "coeffs1 = np.polyfit(data_set_gender['Screen Time'], data_set_gender['Number of Apps'], 1)\n",
    "coeffs1"
   ]
  },
  {
   "cell_type": "code",
   "execution_count": 43,
   "metadata": {},
   "outputs": [
    {
     "data": {
      "text/plain": [
       "Text(0.5, 0.98, 'Screen Time vs. Number of Apps')"
      ]
     },
     "execution_count": 43,
     "metadata": {},
     "output_type": "execute_result"
    },
    {
     "data": {
      "image/png": "[encoded data removed]",
      "text/plain": [
       "<Figure size 1080x720 with 1 Axes>"
      ]
     },
     "metadata": {},
     "output_type": "display_data"
    }
   ],
   "source": [
    "# Plotting of the Simple Linear Regression calculation over the Screen Time vs. Number of Apps Relationship\n",
    "plt.figure(figsize=(15, 10))\n",
    "plt.plot(data_set_gender['Screen Time'], data_set_gender['Number of Apps'], 'k.', label='Data');\n",
    "plt.plot(data_set_gender['Screen Time'], coeffs1[0] * data_set_gender['Number of Apps'] + coeffs1[1], 'r-', label='Simple Linear Regression')\n",
    "plt. xlabel('Screen Time', fontsize=25)\n",
    "plt. ylabel('Number of Apps', fontsize=25)\n",
    "plt.legend()\n",
    "plt. suptitle('Screen Time vs. Number of Apps', fontsize=30)"
   ]
  },
  {
   "cell_type": "markdown",
   "metadata": {},
   "source": [
    "Yale states that: \"if there appears to be no association between the proposed explanatory and dependent variables (i.e. the scatterplot does not indicate any increasing or decreasing trends), then fitting a simple linear regression model to the data probably will not provide a useful model\".<sup>[87]</sup> This hypothesis holds very true for the screen time and number of apps relationship in which no further insight was ascertained, as seen from the results. The earlier calculated correlation coefficient score of -0.018862 also reinforces no association between screen time and the number of apps a participant interacts with. \n",
    "\n",
    "Through analysis of the previous correlation coefficient scores for the variables of the data set the author feels that perhaps simple linear regression is not the ideal regression analysis tool to employ. Instead the author will attempt to gain a better understanding of the data set through the use of the linear_model.LinearRegression() function in the sklearn (Machine Learning) library.<sup>[88]</sup>\n",
    "\n",
    "The linear_model.LinearRegression() function fits a linear model with coefficients to minimize the residual sum of squares between the observed targets in the dataset, and the targets predicted by the linear approximation, which in essence, can allow for amoung other things the approximate value for one variable to be calculated.<sup>[89]</sup>\n",
    "\n",
    "The author will now attempt to predict the age of a participant using the linear_model.LinearRegression() function by asking the user to input a gender (1 = Male, 0 = Female) for the participant and the number of apps the participant interacts with (Range 1-10). \n",
    "\n",
    "When constructing and implementating the code below the author used the works of Scott Robinson,<sup>[90]</sup> Adarsh Menon<sup>[91]</sup> and Mirko Stojiljković<sup>[92]</sup> as inspirations.\n",
    "\n",
    "It should also be noted that scikit-learn needs to be installed on your machine for the below code to operate successfully. If you do not have scikit-learn please follow the instruction at the following [link](https://scikit-learn.org/stable/install.html).<sup>[93]</sup> While to ensure you have the latest version of scikit-learn (Version  0.24.0 at time of writing) follow this [link](https://datatofish.com/scikit-learn-version-installed/).<sup>[94]</sup>"
   ]
  },
  {
   "cell_type": "code",
   "execution_count": 44,
   "metadata": {},
   "outputs": [
    {
     "name": "stdout",
     "output_type": "stream",
     "text": [
      "Please enter a Gender for the participant (1 = Male, 0 = Female): 1\n",
      "Please enter a figure for the Number of Apps the participant interacts with (Range 1-10): 7\n",
      "Based on your input for Gender and Number of Apps the predicted age of the participant is 8.94 Years Old\n"
     ]
    }
   ],
   "source": [
    "#Impor linear_model from the sklearn library\n",
    "from sklearn import linear_model\n",
    "\n",
    "#Set the parameters for the x and y values\n",
    "x = data_set_gender[['Gender', 'Number of Apps']]\n",
    "y = data_set_gender['Age']\n",
    "\n",
    "#Fit the linear_model.LinearRegression to the x and y values\n",
    "regr = linear_model.LinearRegression()\n",
    "regr.fit(x, y)\n",
    "\n",
    "gen = float(input(\"Please enter a Gender for the participant (1 = Male, 0 = Female): \"))\n",
    "app_num = float(input(\"Please enter a figure for the Number of Apps the participant interacts with (Range 1-10): \"))\n",
    "\n",
    "\n",
    "#Predict the Age of a participant where the Gender and the Number of Apps is selected by the user\n",
    "predictedAge = regr.predict([[gen,app_num]])\n",
    "\n",
    "#Round the prediction to 2 decimal places\n",
    "predictedAge_round = np.around(predictedAge, 2)\n",
    "\n",
    "#Remove the Square Bracket from the list\n",
    "predictedAge_round = str(predictedAge_round)[1:-1] \n",
    "\n",
    "#Print the prediction\n",
    "print(\"Based on your input for Gender and Number of Apps the predicted age of the participant is\", predictedAge_round, \"Years Old\")"
   ]
  },
  {
   "cell_type": "markdown",
   "metadata": {},
   "source": [
    "From the above example it can be seen that the linear_model.LinearRegression() function was able to predict for a \n",
    "male participant who interacts with seven apps an age of 8.94 years old.\n",
    "\n",
    "It should be noted that the above is a very simple basic example and only really scratches the surface with regards to the capability of the linear_model.LinearRegression() function. The author feels that to fully investigate and appreciate the functions power on the data set extensive further investigation would be required."
   ]
  },
  {
   "cell_type": "markdown",
   "metadata": {},
   "source": [
    "### Implementation of Machine Learning - KNeighborsRegressor (KNR)\n",
    "\n",
    "Machine learning is one area which has seen an explosion in recent years thanks to advances in technology. Machine learning is defined as an application of artificial intelligence (AI) that provides systems the ability to automatically learn and improve from experience without being explicitly programmed. Machine learning focuses on the development of computer programs that can access data and use it learn for themselves.<sup>[95]</sup> As seen in the article by Dan Shewan<sup>[96]</sup> a number of the top companies are beginning to employ machine learning into their operations. Within machine learning, the primary aim is to allow the computers learn automatically without human intervention or assistance and adjust actions accordingly. An example of the types of uses of machine learning can be seen below:\n",
    "\n",
    "<img align=\"centre\" width=\"600\" height=\"600\" img src=\"https://miro.medium.com/max/2796/0*QYxNNYh6W9jO1b_-.png\">\n",
    "\n",
    "The author feels that within the data set there is the potential to explore the possibilities machine learning can offer and will highlight this using the KNeighborsRegressor (KNR) algorithm. A subset of K-Nearest Neighbors (KNN), which is a supervised machine learning algorithm that can be used to solve both classification and regression problems.<sup>[97]</sup> KNN is a non-parametric method, where an unknown sample is classified according to a class belonging to the majority of its neighbors, i.e. if K (Number selected for nearest neighbors) = 1, then the case is simply assigned to the class of its nearest neighbor.<sup>[97]</sup> \n",
    "\n",
    "KNR deals particularly with regression predictive problems, that is to say, it investigates the relationship between a dependent (target) and independent variable(s) (predictor).<sup>[98]</sup> KNR can be used for situations such as; forecasting, time series modelling and finding the causal effect relationship between the variables.<sup>[99]</sup> \n",
    "\n",
    "Within KNR calculations, the target is predicted by local interpolation of the targets associated of the nearest neighbors in the training set.<sup>[100]</sup> Interpolation is a statistical method by which related known values are used to estimate an unknown price or potential yield of a security. Interpolation is achieved by using other established values that are located in sequence with the unknown value.<sup>[101]</sup> While interpolation allows for predictions to be made it should be caveated by the fact that it does at times come with a high degree of uncertainty.<sup>[102]</sup> The dangers of the use of interpolation can be seen in the image below:\n",
    "\n",
    "<img align=\"centre\" width=\"600\" height=\"600\" img src=\"https://onlinelibrary.wiley.com/cms/asset/73b90bd9-40a2-4e90-8ddf-95ee33b8df43/ejss_501_f2.gif\">\n",
    "\n",
    "\n",
    "Dhilip Subramanian in his article<sup>[103]</sup> highlights the importance for selecting the right value for K within a model. Choosing too small of a value: \"can be noisy and will have a higher influence on the result\", while a higher values will: \"mean lower variance but increased bias\" and also is \"computationally expensive.\" The ideal figure he suggest when choosing the value of K is: \"K = sqrt(N) where N stands for the number of samples in your training dataset\". While also ensuring: \"the value of K is odd in order to avoid confusion between two classes of data.\"\n",
    "\n",
    "As we have 1250 samples of data (N), K is the sqrt(1250), which is 35.3553390. The author will round this down to 35 to ensure an odd figure.\n",
    "\n",
    "To ensure standardisation accross the data set the author has also implemented the sklearn.preprocessing.StandardScaler function.<sup>[104]</sup> This function standardises features by removing the mean and scaling to unit variance i.e. it transforms the data in such a manner that it has mean as 0 and standard deviation as 1.<sup>[105]</sup> This can useful when dealing with data which has negative values. \n",
    "\n",
    "The work of Krunal Lathiya highlights the use of the sklearn.preprocessing.StandardScaler function. Within his calculations Lathiya states: \"In a general scenario, machine learning is based on Euclidean Distance. Here for the column Albumin and Age column has an entirely different range of values. So we need to convert those values and make it under the range of values. That is why this is called feature scaling. We need to scale the values for the Age column.\"<sup>[106]</sup>\n",
    "\n",
    "The author will implement the KNeighborsRegressor (KNR) algorithm to predict a particpants screen time score (hours a week) based on user inputs of the participants age (Range 0-18), gender (1 = Male, 0 = Female) and number of Apps the participant interacts with (Range 1-10).\n",
    "\n",
    "The issue of increased screen time across children in recent times has caused concern with parents. Alasdair et al. in their research discovered that: \"earlier studies indicate that children today spend only 15 to 25 minutes daily in outdoor play and sports, that nature-based recreation has declined for 30 years, and that the average 8- to 18-year old spends more than 7.5 hours a day using media such as TV, cell phones and computers. Creative thinking and problem solving are believed to arise in the same prefrontal cortex area of the brain that is overtaxed by constant demands on our attention in our technological environment.\"<sup>[69]</sup> This is on foot of other studies which have associated screen time to a rise in mental health issues in children<sup>[107]</sup> and also negative performance in \n",
    "academic tests.<sup>[108]</sup> Further research has also linked childrens screen time to potential radiation of the brain as seen in the image below:\n",
    "\n",
    "\n",
    "<img align=\"centre\" width=\"800\" height=\"800\" img src=\"https://www.brightsandz.co/wp-content/uploads/2017/03/Childs-Skull-and-Radiation.jpg\">\n",
    "\n",
    "\n",
    "The author will also return a message based on the screen time score whether or not this score is above the recommended weekly amount. The author will apply the latest recommendations from the American Academy of Pediatrics which advise that: \"no child should spend no more than 6 hours a day (42 hours a week) watching or using screens.\"<sup>[109]</sup>\n",
    "\n",
    "When constructing and implementating the code below the author used the work of Singh<sup>[110]</sup> as inspiration."
   ]
  },
  {
   "cell_type": "code",
   "execution_count": 45,
   "metadata": {},
   "outputs": [
    {
     "name": "stdout",
     "output_type": "stream",
     "text": [
      "Please enter an Age for the participant (Range 0-18): 15\n",
      "Please enter a Gender for the participant (1 = Male, 0 = Female): 0\n",
      "Please enter a Number of Apps the participant interacts with (Range 1-10): 6\n",
      "Based on your input the predicted Screen Time is: 40.71 Hours a Week\n",
      "This result is within the recommended weekly screen time allotment for a child\n"
     ]
    }
   ],
   "source": [
    "#Import Train Test Split module from the Scikit-learn library to split the Data Set\n",
    "from sklearn.model_selection import train_test_split\n",
    "\n",
    "#Import KNeighborsRegressor module from the Scikit-learn library to implement the K-Nearest Neighbor approach to Machine Learning\n",
    "from sklearn.neighbors import KNeighborsRegressor\n",
    "\n",
    "#Instantiate the learning model (K = 35)\n",
    "knn = KNeighborsRegressor(n_neighbors=35)\n",
    "\n",
    "#Slice the Data Set up to inlcuding the first, second and last column (i.e. Age, Gender and Number of Apps)\n",
    "x = data_set_gender.iloc[:, [0,1,3]].values\n",
    "\n",
    "#Slice the Data Set to inlcude the second column only (i.e. Screen Time)\n",
    "y = data_set_gender.iloc[:, 2].values \n",
    "\n",
    "#Divide the Data Set into two subsets; a Training and Test set (75% training, 25% test), set the Random State at 1\n",
    "x_train, x_test, y_train, y_test = train_test_split(x, y, test_size=0.25, random_state=1)\n",
    "\n",
    "#StandardScaler imported to implement feature scaling accross the Data Set\n",
    "from sklearn.preprocessing import StandardScaler\n",
    "sc_x = StandardScaler()\n",
    "x_train = sc_x.fit_transform(x_train)\n",
    "x_test = sc_x.transform(x_test)\n",
    "\n",
    "#The knn.fit function is used to train the model.\n",
    "knn.fit(x_train, y_train)\n",
    "\n",
    "#The user is asked to enter a value for the Sepal Length, Sepal Width, Petal Length and Petal Width\n",
    "a = float(input(\"Please enter an Age for the participant (Range 0-18): \"))\n",
    "b = float(input(\"Please enter a Gender for the participant (1 = Male, 0 = Female): \"))\n",
    "c = float(input(\"Please enter a Number of Apps the participant interacts with (Range 1-10): \"))\n",
    "\n",
    "#The users inputs are grouped \n",
    "x_new = np.array([[a, b, c]])\n",
    "\n",
    "#A prediction is made based on the users inputs\n",
    "prediction = (knn.predict(x_new))\n",
    "\n",
    "#Round the prediction to 2 decimal places\n",
    "prediction_round = np.around((prediction),2)\n",
    "\n",
    "#Remove the Square Bracket from the list\n",
    "prediction_round = str(prediction_round)[1:-1] \n",
    "\n",
    "#The result of the prediction is displayed\n",
    "print(\"Based on your input the predicted Screen Time is:\", prediction_round, \"Hours a Week\")\n",
    "\n",
    "#The mean accuracy of the predicted result is calculated and rounded to 3 decimal places\n",
    "Accuracy = np.around(knn.score(x_test, y_test),3)\n",
    "\n",
    "if float(prediction_round) > 42: print('Please be advised this screen time is above the recommended weekly allotment for a child')\n",
    "else: print('This result is within the recommended weekly screen time allotment for a child')"
   ]
  },
  {
   "cell_type": "markdown",
   "metadata": {},
   "source": [
    "It can be seen from the above example that a fifteen year old female who interacts with six apps, falls just inside the recommended weekly screen time allotment at 40.71 hours a week.\n",
    "\n",
    "It should be noted that similiar to the linear_model.LinearRegression() function example previously, this is a very basic example and does not fully highlight the capabilities the KNR algorithm has to offer. To fully investigate and appreciate the algorithm on the data set it is recommended further investigation should take place. \n",
    "\n",
    "The author does feel though that the above example would be useful to parents who are concious their children may perhaps be spending too much time on mobile devices."
   ]
  },
  {
   "cell_type": "markdown",
   "metadata": {},
   "source": [
    "## Summary, Conclusion and Future Analysis of the Simulated Data Set\n",
    "In summary, the author chose to create a data set based around the the use of mobile devices by children. The author chose this for personal reasons as it was an area close to thier heart. The author selected gender, age, screen time (hours a week) and number of apps interacted with as the four variables and chose a sample size of 1250. The author then attempted to model each variable as closely as possible to real-world conditions by referencing a multitude of sources including acamedic papers, studies and media reports. The author then merged the four variables into a data set and analysed the relationships of variables in terms of correlation, covariance and regression. Each area was discussed in detail and observations and potential areas for further exploratory analysis were highlighted. Finally, the possibility of implementing machine learning on the data set and the opportunities it can create were observed through the use of a simplistic example. \n",
    "\n",
    "In conclusion the author is of the opinion that the project was a very worthwile and rewarding experience. While the project at times pushed the author outside their comfort zome, it allowed for an experience and an appreciation for the construction and simulation of data sets to be gained. This the author feels can only benefit them as they continue thier studies. While the jupyter notebook created the author feels will become a valuable learning aid into the future. \n",
    "\n",
    "In terms of future analysis of the simulated data set the possibilities are limitless. As the name suggests, the simulated data set has the potential to be reanalysed and reassessed using entirely different distributions for the variables, as well as, completely different exploratory functions. The author also in their research identified some relationships which could benefit from further exploratory analysis and alluded to them in the notebook. The author would also feel that the machine learning examples demonstrated in the notebook could certainly benefit from further analysis."
   ]
  },
  {
   "cell_type": "markdown",
   "metadata": {},
   "source": [
    "## References\n",
    "----------------------------------------------------"
   ]
  },
  {
   "cell_type": "markdown",
   "metadata": {},
   "source": [
    "<a name=\"myfootnote1\">1</a>: Stack Overflow - Purpose of “%matplotlib inline”, <https://stackoverflow.com/questions/43027980/purpose-of-matplotlib-inline/43028034>\n",
    "\n",
    "<a name=\"myfootnote2\">2</a>: The Python Graph Gallery - 104 Seaborn Themes, <https://python-graph-gallery.com/104-seaborn-themes/>\n",
    "\n",
    "<a name=\"myfootnote3\">3</a>: Seaborn - Choosing color palettes, <https://seaborn.pydata.org/tutorial/color_palettes.html>\n",
    "\n",
    "<a name=\"myfootnote4\">4</a>: Stack Overflow - What does numpy.random.seed(0) do?, <https://stackoverflow.com/questions/21494489/what-does-numpy-random-seed0-do>\n",
    "\n",
    "<a name=\"myfootnote5\">5</a>: Debanjona Bhattacharjya - NumPy.Random.Seed(101) Explained, <https://medium.com/@debanjana.bhattacharyya9818/numpy-random-seed-101-explained-2e96ee3fd90b>\n",
    "\n",
    "<a name=\"myfootnote6\">6</a>: Department of Education - Covid-19 - Statement from the Department of Education and Skills, <https://www.education.ie/en/Press-Events/Press-Releases/2020-press-releases/12-march-2020-statement-from-the-department-of-education-and-skills.html>\n",
    "\n",
    "<a name=\"myfootnote7\">7</a>: C. Wong et al. - Digital Screen Time During COVID-19 Pandemic: Risk for a Further Myopia Boom?, <https://www.ncbi.nlm.nih.gov/pmc/articles/PMC7390728/>\n",
    "\n",
    "<a name=\"myfootnote8\">8</a>: Suzanne M. Egan and Chloe Beatty - How much screen time is too much for young children?, <https://www.rte.ie/brainstorm/2020/0518/1139039-children-screen-time/>\n",
    "\n",
    "<a name=\"myfootnote9\">9</a>: A. E. Simmons - The Disadvantages of a Small Sample Size, <https://sciencing.com/disadvantages-small-sample-size-8448532.html>\n",
    "\n",
    "<a name=\"myfootnote10\">10</a>: Sellcell - Kids Cell Phone Use Survey 2019 – Truth About Kids & Phones, <https://www.sellcell.com/blog/kids-cell-phone-use-survey-2019/>\n",
    "\n",
    "<a name=\"myfootnote11\">11</a>: GSMA - Children’s use of mobile phones - An international comparison 2013, <https://www.gsma.com/publicpolicy/wp-content/uploads/2016/09/GSMA2013_Report_ChildrensUseOfMobilePhones.pdf>\n",
    "\n",
    "<a name=\"myfootnote12\">12</a>: Rikuya Hosokawa - Association between mobile technology use and child adjustment in early elementary school age, <https://www.ncbi.nlm.nih.gov/pmc/articles/PMC6059409/>\n",
    "\n",
    "<a name=\"myfootnote13\">13</a>: Peter Cullen - Age Definition of Child Sought by Doctors at Conference, <https://www.irishtimes.com/news/health/age-definition-of-child-sought-by-doctors-at-conference-1.3056713>\n",
    "\n",
    "<a name=\"myfootnote14\">14</a>: CSO - Census of Population 2016 - Age Groups, <https://www.cso.ie/en/releasesandpublications/ep/p-cp3oy/cp3/agr/>\n",
    "\n",
    "<a name=\"myfootnote15\">15</a>: Numpy Manual Version 1.19 - numpy.random.randint, <https://numpy.org/doc/stable/reference/random/generated/numpy.random.randint.html>\n",
    "\n",
    "<a name=\"myfootnote16\">16</a>: Numpy Manual Version 1.19 - numpy.random.choice, <https://het.as.utexas.edu/HET/Software/Numpy/reference/generated/numpy.random.choice.html>\n",
    "\n",
    "<a name=\"myfootnote17\">17</a>: CSO - Census of Population 2016 - Age Structure and Sex Ration, <https://www.cso.ie/en/releasesandpublications/ep/p-cp3oy/cp3/assr/>\n",
    "\n",
    "<a name=\"myfootnote18\">18</a>: Numpy Manual Version 1.19 - numpy.count_nonzero, <https://numpy.org/doc/stable/reference/generated/numpy.count_nonzero.html>\n",
    "\n",
    "<a name=\"myfootnote19\">19</a>: Matplotlib Manual Version 3.3.3 - Basic Pie Chart, <https://matplotlib.org/3.3.3/gallery/pie_and_polar_charts/pie_features.html#sphx-glr-gallery-pie-and-polar-charts-pie-features-py>\n",
    "<a name=\"myfootnote20\">20</a>: Christine Carter - Is Screen Time Toxic for Teenagers?,<https://greatergood.berkeley.edu/article/item/is_screen_time_toxic_for_teenagers>\n",
    "\n",
    "<a name=\"myfootnote21\">21</a>: Cianan Brennan - Children's Screen Time and Social Media use up more than 70% during Pandemic, <https://www.irishexaminer.com/news/arid-40040207.html>\n",
    "\n",
    "<a name=\"myfootnote22\">22</a>: Childwise - Most children own mobile phone by age of seven, study finds, <https://www.theguardian.com/society/2020/jan/30/most-children-own-mobile-phone-by-age-of-seven-study-finds>\n",
    "\n",
    "<a name=\"myfootnote23\">23</a>: V. Rideout et al. - Generation M2: Media in the Lives of 8-18 Year Olds, <https://www.kff.org/wp-content/uploads/2013/01/8010.pdf>\n",
    "\n",
    "<a name=\"myfootnote24\">24</a>: Ashley Welch - Health experts say parents need to drastically cut kids' screen time, <https://www.cbsnews.com/news/parents-need-to-drastically-cut-kids-screen-time-devices-american-heart-association/>\n",
    "\n",
    "<a name=\"myfootnote25\">25</a>: EW Weisstein - What is a Normal distribution?, https://www.statisticshowto.com/probability-and-statistics/normal-distributions/\n",
    "\n",
    "<a name=\"myfootnote26\">26</a>: David Lane - Normal Distribution Calculator, <http://onlinestatbook.com/2/calculators/normal_dist.html> \n",
    "\n",
    "<a name=\"myfootnote27\">27</a>: Ciara O'Brien - How to limit your child’s screentime, <https://www.irishtimes.com/life-and-style/health-family/how-to-limit-your-child-s-screentime-1.3998606>\n",
    "\n",
    "<a name=\"myfootnote28\">28</a>: Ofcom - Children and parents: Media use and attitudes report 2019, <https://www.ofcom.org.uk/__data/assets/pdf_file/0023/190616/children-media-use-attitudes-2019-report.pdf>\n",
    "\n",
    "<a name=\"myfootnote29\">29</a>: Act for Youth - Youth Statistics: Internet & Social Media, <http://actforyouth.net/adolescence/demographics/internet.cfm>\n",
    "\n",
    "<a name=\"myfootnote30\">30</a>: Forrester - Mobile App Marketing Trends: Orchestrate Your Brand Presence, Beyond Your Own Apps, By Borrowing Mobile Moments 2015, <https://www.marketingdive.com/ex/mobilemarketer/cms/news/research/19673.html>\n",
    "\n",
    "<a name=\"myfootnote31\">31</a>: Bentley et al. - Three Hours a Day: Understanding Current Teen Practices of Smartphone Application Use, <https://arxiv.org/pdf/1510.05192.pdf>\n",
    "\n",
    "<a name=\"myfootnote32\">32</a>: Madden et al. - Teens and Mobile Apps Privacy: Main Findings, <https://www.pewresearch.org/internet/2013/08/22/main-findings-3/>\n",
    "\n",
    "<a name=\"myfootnote33\">33</a>: Seaborn Manual Version 0.11.1 - seaborn.distplot, <https://seaborn.pydata.org/generated/seaborn.distplot.html>\n",
    "\n",
    "<a name=\"myfootnote34\">34</a>: R Tutorial - Binomial Distribution, <http://www.r-tutor.com/elementary-statistics/probability-distributions/binomial-distribution>\n",
    "\n",
    "<a name=\"myfootnote35\">35</a>: Tutor2U - Skewed Distribution, <https://www.tutor2u.net/psychology/topics/skewed-distribution>\n",
    "\n",
    "<a name=\"myfootnote36\">36</a>: Stephanie Glen - Skewed Distribution: left skewed vs right skewed, <https://www.youtube.com/watch?v=24YCewQ8s3M>\n",
    "\n",
    "<a name=\"myfootnote37\">37</a>: Corporate Finance Institute - Negatively Skewed Distribution, <https://corporatefinanceinstitute.com/resources/knowledge/other/negatively-skewed-distribution/>\n",
    "\n",
    "<a name=\"myfootnote38\">38</a>: EW Weisstein - Skewed Distribution: Definition, Examples, <https://www.statisticshowto.com/probability-and-statistics/skewed-distribution/>\n",
    "\n",
    "<a name=\"myfootnote39\">39</a>: New England Complex Systems Institute - Concepts: Power Law, <https://necsi.edu/power-law>\n",
    "\n",
    "<a name=\"myfootnote40\">40</a>: EW Weisstein - Power Law and Power Law Distribution, <https://www.statisticshowto.com/power-law/>\n",
    "\n",
    "<a name=\"myfootnote41\">41</a>: Better Explained - Understanding the Pareto Principle (The 80/20 Rule), <https://betterexplained.com/articles/understanding-the-pareto-principle-the-8020-rule/>\n",
    "\n",
    "<a name=\"myfootnote42\">42</a>: Data to Fish - How to Create Pandas DataFrame in Python, <https://datatofish.com/create-pandas-dataframe/>\n",
    "\n",
    "<a name=\"myfootnote43\">43</a>: Numpy Manual Version 1.19 - numpy.around, <https://numpy.org/doc/stable/reference/generated/numpy.around.html>\n",
    "\n",
    "<a name=\"myfootnote44\">44</a>: Tutorials Point - Python Pandas: Basic Functionality, <https://www.tutorialspoint.com/python_pandas/python_pandas_basic_functionality.htm>\n",
    "\n",
    "<a name=\"myfootnote45\">45</a>: Statistics Solutions - Correlation (Pearson, Kendall, Spearman), <https://www.statisticssolutions.com/correlation-pearson-kendall-spearman/>\n",
    "\n",
    "<a name=\"myfootnote46\">46</a>: The BMJ - Correlation and regression, <https://www.bmj.com/about-bmj/resources-readers/publications/statistics-square-one/11-correlation-and-regression>\n",
    "\n",
    "<a name=\"myfootnote47\">47</a>: Corporate Finance Institute - Correlation, <https://corporatefinanceinstitute.com/resources/knowledge/finance/correlation/>\n",
    "\n",
    "<a name=\"myfootnote48\">48</a>: The BMJ - Correlation vs. Causation, <https://www.jmp.com/en_au/statistics-knowledge-portal/what-is-correlation/correlation-vs-causation.html>\n",
    "\n",
    "<a name=\"myfootnote49\">49</a>: Pandas Manual Version 1.2.0 - pandas.DataFrame.corr, <https://pandas.pydata.org/pandas-docs/stable/reference/api/pandas.DataFrame.corr.html>\n",
    "\n",
    "<a name=\"myfootnote50\">50</a>: Geeks for Geeks - Python | Pandas dataframe.corr(), <https://www.geeksforgeeks.org/python-pandas-dataframe-corr/>\n",
    "\n",
    "<a name=\"myfootnote51\">51</a>: w3resource - Pandas DataFrame: corr() function, <https://www.w3resource.com/pandas/dataframe/dataframe-corr.php>\n",
    "\n",
    "<a name=\"myfootnote52\">52</a>: Laerd Statistics - Pearson Product-Moment Correlation, <https://statistics.laerd.com/statistical-guides/pearson-correlation-coefficient-statistical-guide.php>\n",
    "\n",
    "<a name=\"myfootnote53\">53</a>: Pandas Manual Version 1.2.0 - pandas.crosstab, <https://pandas.pydata.org/pandas-docs/stable/reference/api/pandas.crosstab.html>\n",
    "\n",
    "<a name=\"myfootnote54\">54</a>: Seaborn Manual Version 0.11.1 - seaborn.scatterplot, <https://seaborn.pydata.org/generated/seaborn.scatterplot.html>\n",
    "\n",
    "<a name=\"myfootnote55\">55</a>: Seaborn Manual Version 0.11.1 - seaborn.countplot, <https://seaborn.pydata.org/generated/seaborn.countplot.html?highlight=countplot#seaborn.countplot>\n",
    "\n",
    "<a name=\"myfootnote55\">56</a>: Geeks for Geeks - Countplot using seaborn in Python, <https://www.geeksforgeeks.org/countplot-using-seaborn-in-python/>\n",
    "\n",
    "<a name=\"myfootnote57\">57</a>: Noorhidawati et al. - How do young children engage with mobile apps? Cognitive, psychomotor, and affective perspective, <https://www.researchgate.net/profile/Ghazal_Ghalebandi/publication/280696834_How_Do_Young_Children_Engage_with_Mobile_Apps_Cognitive_Psychomotor_and_Affective_Perspective/links/5a1aaf794585155c26ac8b91/How-Do-Young-Children-Engage-with-Mobile-Apps-Cognitive-Psychomotor-and-Affective-Perspective.pdf>\n",
    "\n",
    "<a name=\"myfootnote58\">58</a>: Seaborn Manual Version 0.11.1 - seaborn.heatmap, <https://seaborn.pydata.org/generated/seaborn.heatmap.html>\n",
    "\n",
    "<a name=\"myfootnote59\">59</a>: A portfolio by AJ Pryor - seaborn.heatmap, <http://alanpryorjr.com/visualizations/seaborn/heatmap/heatmap/>\n",
    "\n",
    "<a name=\"myfootnote60\">60</a>: Data to Fish - How to Create a Correlation Matrix using Pandas, <https://datatofish.com/correlation-matrix-pandas/>\n",
    "\n",
    "<a name=\"myfootnote61\">61</a>: Wolfram Mathworld - Covariance, <https://mathworld.wolfram.com/Covariance.html>\n",
    "\n",
    "<a name=\"myfootnote62\">62</a>: EW Weisstein - Covariance in Statistics, <https://www.statisticshowto.com/covariance/>\n",
    "\n",
    "<a name=\"myfootnote63\">63</a>: Corporate Finance Institute - Covariance, <https://corporatefinanceinstitute.com/resources/knowledge/finance/covariance/>\n",
    "\n",
    "<a name=\"myfootnote64\">64</a>: Investopedia - How Does Covariance Affect Portfolio Risk and Return?, <https://www.investopedia.com/ask/answers/040315/how-does-covariance-impact-portfolio-risk-and-return.asp>\n",
    "\n",
    "<a name=\"myfootnote65\">65</a>: Will Monroe - Covariance and Correlation, <https://web.stanford.edu/class/archive/cs/cs109/cs109.1178/lectureHandouts/150-covariance.pdf>\n",
    "\n",
    "<a name=\"myfootnote66\">66</a>: Stack Exchange - What is covariance in plain language?, <https://stats.stackexchange.com/questions/29713/what-is-covariance-in-plain-language>\n",
    "\n",
    "<a name=\"myfootnote67\">67</a>: Ausero et al. - The Correlation Coefficient: An Overview, <https://www.tandfonline.com/doi/abs/10.1080/10408340500526766?src=recsys&journalCode=batc20>\n",
    "\n",
    "<a name=\"myfootnote68\">68</a>: Pandas Manual Version 1.2.0 - pandas.DataFrame.cov, <https://pandas.pydata.org/pandas-docs/stable/reference/api/pandas.DataFrame.cov.html>\n",
    "\n",
    "<a name=\"myfootnote69\">69</a>: Alasdair et al. - Children, young people and Mobile Phones, <https://www.powerwatch.org.uk/library/downloads/children-phones-3-research-2019-03.pdf>\n",
    "\n",
    "<a name=\"myfootnote70\">70</a>: Hardell, L. - Effects of mobile phones on children's and adolescents’ health: A commentary, <https://www.researchgate.net/profile/Lennart-Hardell/publication/316974592_Effects_of_Mobile_Phones_on_Children%27s_and_Adolescents%27_Health_A_Commentary/links/5b89167192851c1e123d7ec0/Effects-of-Mobile-Phones-on-Childrens-and-Adolescents-Health-A-Commentary.pdf>\n",
    "\n",
    "<a name=\"myfootnote71\">71</a>: Common Sense Media - The Common Sense Census: Media Use by Tweens and Teens, 2019, <https://www.commonsensemedia.org/research/the-common-sense-census-media-use-by-tweens-and-teens-2019>\n",
    "\n",
    "<a name=\"myfootnote72\">72</a>: Pandas Manual Version 1.2.0 - pandas.DataFrame.loc, <https://pandas.pydata.org/pandas-docs/stable/reference/api/pandas.DataFrame.loc.html>\n",
    "\n",
    "<a name=\"myfootnote73\">73</a>: Pandas Manual Version 1.2.0 - pandas.concat, <https://pandas.pydata.org/pandas-docs/stable/reference/api/pandas.concat.html>\n",
    "\n",
    "<a name=\"myfootnote74\">74</a>: Brian Beers - Regression Definition, <https://www.investopedia.com/terms/r/regression.asp>\n",
    "\n",
    "<a name=\"myfootnote75\">75</a>: Packt - Regression in the real world, <https://subscription.packtpub.com/book/big_data_and_business_intelligence/9781788627306/1/ch01lvl1sec11/regression-in-the-real-world>\n",
    "\n",
    "<a name=\"myfootnote76\">76</a>: Prashanth Ashok - What is Regression? Definition of Regression?, <https://www.mygreatlearning.com/blog/what-is-regression/>\n",
    "\n",
    "<a name=\"myfootnote77\">77</a>: Coporate Finance Institute - Regression Analysis, <https://corporatefinanceinstitute.com/resources/knowledge/finance/regression-analysis/>\n",
    "\n",
    "<a name=\"myfootnote78\">78</a>: Stephanie Glen - Regression Analysis, <https://www.statisticshowto.com/probability-and-statistics/regression-analysis/>\n",
    "\n",
    "<a name=\"myfootnote79\">79</a>: Science Direct - Linear Regression, <https://www.sciencedirect.com/topics/mathematics/linear-regression>\n",
    "\n",
    "<a name=\"myfootnote80\">80</a>: Penn State - What is Simple Linear Regression?, <https://online.stat.psu.edu/stat462/node/91/>\n",
    "\n",
    "<a name=\"myfootnote81\">81</a>: BBC - Straight line graphs, <https://www.bbc.co.uk/bitesize/guides/z9387p3/revision/3>\n",
    "\n",
    "<a name=\"myfootnote82\">82</a>: Math Centre - Equations of straight lines, <https://www.mathcentre.ac.uk/resources/uploaded/mc-ty-strtlines-2009-1.pdf>\n",
    "\n",
    "<a name=\"myfootnote83\">83</a>: Jason Brownlee - What is the Difference Between a Parameter and a Hyperparameter?, <https://machinelearningmastery.com/difference-between-a-parameter-and-a-hyperparameter/>\n",
    "\n",
    "<a name=\"myfootnote84\">84</a>: Numpy Manual Version 1.19 - numpy.polyfit, <https://numpy.org/doc/stable/reference/generated/numpy.polyfit.html>\n",
    "\n",
    "<a name=\"myfootnote85\">85</a>: Econometrics - The Gauss-Markov Theorem, <https://www.econometrics-with-r.org/5-5-the-gauss-markov-theorem.html>\n",
    "\n",
    "<a name=\"myfootnote86\">86</a>: Neutrium - Fitting of a Polynomial Using Least Squares Method, <https://neutrium.net/mathematics/least-squares-fitting-of-a-polynomial/>\n",
    "\n",
    "<a name=\"myfootnote87\">87</a>: Yale - Linear Regression, <http://www.stat.yale.edu/Courses/1997-98/101/linreg.htm>\n",
    "\n",
    "<a name=\"myfootnote88\">88</a>: Scikit-learn Maual Version  0.24.0 - sklearn.linear_model.LinearRegression, <https://scikit-learn.org/stable/modules/generated/sklearn.linear_model.LinearRegression.html>\n",
    "\n",
    "<a name=\"myfootnote89\">89</a>: Adi Bronshtein - Simple and Multiple Linear Regression in Python, <https://towardsdatascience.com/simple-and-multiple-linear-regression-in-python-c928425168f9>\n",
    "\n",
    "<a name=\"myfootnote90\">90</a>: Scott Robinson - Linear Regression in Python with Scikit-Learn, <https://stackabuse.com/linear-regression-in-python-with-scikit-learn/>\n",
    "\n",
    "<a name=\"myfootnote91\">91</a>: Adarsh Menon - Linear Regression in 6 lines of Python, <https://towardsdatascience.com/linear-regression-in-6-lines-of-python-5e1d0cd05b8d>\n",
    "\n",
    "<a name=\"myfootnote92\">92</a>: Mirko Stojiljković - Linear Regression in Python, <https://realpython.com/linear-regression-in-python/>\n",
    "\n",
    "<a name=\"myfootnote93\">93</a>: Scikit-learn Maual Version  0.24.0 - Installing scikit-learn, <https://scikit-learn.org/stable/install.html>\n",
    "\n",
    "<a name=\"myfootnote94\">94</a>: Data to Fish - How to Check the Scikit-Learn Version Installed, <https://datatofish.com/scikit-learn-version-installed/>\n",
    "\n",
    "<a name=\"myfootnote95\">95</a>: Expert System - What is Machine Learning? A definition, <https://expertsystem.com/machine-learning-definition>\n",
    "\n",
    "<a name=\"myfootnote96\">96</a>: Dan Shewan - 10 Companies Using Machine Learning in Cool Ways, <https://www.wordstream.com/blog/ws/2017/07/28/machine-learning-applications>\n",
    "\n",
    "<a name=\"myfootnote97\">97</a>: Python Basics - k-Nearest Neighbors, <https://pythonbasics.org/k-nearest-neighbors/>\n",
    "\n",
    "<a name=\"myfootnote98\">98</a>: Science Direct - K Nearest Neighbor Definition, <https://www.sciencedirect.com/topics/immunology-and-microbiology/k-nearest-neighbor>\n",
    "\n",
    "<a name=\"myfootnote99\">99</a>: Tavish Srivastva - Introduction to k-Nearest Neighbors, <https://www.analyticsvidhya.com/blog/2018/03/introduction-k-neighbours-algorithm-clustering/>\n",
    "\n",
    "<a name=\"myfootnote100\">100</a>: Kite - KNeighborsRegressor, <https://www.kite.com/python/docs/sklearn.neighbors.KNeighborsRegressor>\n",
    "\n",
    "<a name=\"myfootnote101\">101</a>: Investopedia - Interpolation, <https://www.investopedia.com/terms/i/interpolation.asp>\n",
    "\n",
    "<a name=\"myfootnote102\">102</a>: EW Weisstein - Extrapolation & Interpolation: What are they?, <https://www.statisticshowto.com/probability-and-statistics/statistics-definitions/extrapolation/>\n",
    "\n",
    "<a name=\"myfootnote103\">103</a>: Dhilip Subramanian - A Simple Introduction to K-Nearest Neighbors Algorithm, https://towardsdatascience.com/a-simple-introduction-to-k-nearest-neighbors-algorithm-b3519ed98e\n",
    "\n",
    "<a name=\"myfootnote104\">104</a>: Scikit-learn Maual Version  0.24.0 - sklearn.preprocessing.StandardScaler function, <<https://scikit-learn.org/stable/modules/generated/sklearn.preprocessing.StandardScaler.html>>\n",
    "\n",
    "<a name=\"myfootnote105\">105</a>: Data Seience - When to use Standard Scaler and when Normalizer?, <https://datascience.stackexchange.com/questions/45900/when-to-use-standard-scaler-and-when-normalizer>\n",
    "\n",
    "<a name=\"myfootnote106\">106</a>: Krunal Lathiya - How To Prepare Your Dataset For Machine Learning In Python, <https://appdividend.com/2018/07/23/prepare-dataset-for-machine-learning-in-python/>\n",
    "\n",
    "<a name=\"myfootnote107\">107</a>: Mark Hilliard - Screen time linked to rising mental health issues in children – study, <https://www.irishtimes.com/news/health/screen-time-linked-to-rising-mental-health-issues-in-children-study-1.4360883>\n",
    "\n",
    "<a name=\"myfootnote108\">108</a>: Carl O'Brien - Children who own mobile phones at age nine ‘perform less well’ in academic tests, <https://www.irishtimes.com/news/education/children-who-own-mobile-phones-at-age-nine-perform-less-well-in-academic-tests-1.3758724>\n",
    "\n",
    "<a name=\"myfootnote109\">109</a>: American Academy of Pediatrics (AAP) - Screen Time and Children, <https://www.aacap.org/AACAP/Families_and_Youth/Facts_for_Families/FFF-Guide/Children-And-Watching-TV-054.aspx>\n",
    "\n",
    "<a name=\"myfootnote110\">110</a>: Aishwarya Singh - A Practical Introduction to K-Nearest Neighbors Algorithm for Regression (with Python code), <https://www.analyticsvidhya.com/blog/2018/08/k-nearest-neighbor-introduction-regression-python/>"
   ]
  },
  {
   "cell_type": "markdown",
   "metadata": {},
   "source": [
    "## Bibliography\n",
    "----------------------------------------------------"
   ]
  },
  {
   "cell_type": "markdown",
   "metadata": {},
   "source": [
    "Within the course of this project the following sources were also used for research purposes:\n",
    "\n",
    "* Analytics Vidhya - 6 Common Probability Distributions every data science professional should know, <https://www.analyticsvidhya.com/blog/2017/09/6-probability-distributions-data-science/>\n",
    "\n",
    "* Audrey Conklin - People spending 3.1 hours a day on smartphone apps: Study, <https://www.foxbusiness.com/technology/average-time-spent-phone-apps> \n",
    "\n",
    "* BC Campus - The Exponential Distribution, <https://opentextbc.ca/introstatopenstax/chapter/the-exponential-distribution/>\n",
    "\n",
    "* Bee Guan Teo - Hands-On Python Data Visualization — Seaborn Count Plot, <https://towardsdatascience.com/hands-on-python-data-visualization-seaborn-count-plot-90e823599012>\n",
    "\n",
    "* Catherine Scruggs - How to Determine the Sample Size in a Quantitative Research Study, <https://sciencing.com/determine-size-quantitative-research-study-8072459.html>\n",
    "\n",
    "* Charlie Custer - How to Analyze Survey Data with Python for Beginners, <https://www.dataquest.io/blog/how-to-analyze-survey-data-python-beginner/>\n",
    "\n",
    "* Christopher Bratkovics - Exploratory Data Analysis Tutorial in Python, <https://towardsdatascience.com/exploratory-data-analysis-tutorial-in-python-15602b417445>\n",
    "\n",
    "* Coursera - Getting Started Analyzing Data in Python, <https://www.coursera.org/lecture/data-analysis-with-python/getting-started-analyzing-data-in-python-236Ip>\n",
    "\n",
    "* Data Science - make seaborn heatmap bigger, <https://datascience.stackexchange.com/questions/17540/make-seaborn-heatmap-bigger>\n",
    "\n",
    "* David Amos - How to Round Numbers in Python, <https://realpython.com/python-rounding/>\n",
    "\n",
    "* Edureka - How to fix this ValueError invalid literal for int with base 10 error in Python, <https://www.edureka.co/community/30685/this-valueerror-invalid-literal-for-with-base-error-python>\n",
    "\n",
    "* ESRI - Growing Up in Ireland: National Longitudinal Study of Children, <https://www.esri.ie/system/files?file=media/file-uploads/2015-07/BKMNEXT284.pdf>\n",
    "\n",
    "* ESRI - Later is Better: Mobile Phone Ownership and Child Academic Development, <https://www.esri.ie/system/files/publications/RB201903_01.pdf>\n",
    "\n",
    "* EW Weisstein - Beta Distribution: Definition, Calculation, <https://www.statisticshowto.com/beta-distribution/>\n",
    "\n",
    "* EW Weisstein - Correlation Coefficient: Simple Definition, Formula, Easy Steps, <https://www.statisticshowto.com/probability-and-statistics/correlation-coefficient-formula/>\n",
    "\n",
    "* EW Weisstein - Exponential Distribution / Negative Exponential: Definition, Examples, <https://www.statisticshowto.com/exponential-distribution/>\n",
    "\n",
    "* Geeks for Geeks - Python | Remove square brackets from list, <https://www.geeksforgeeks.org/python-remove-square-brackets-from-list/>\n",
    "\n",
    "* Grepper - Create Age-Groups in Pandas, <https://www.codegrepper.com/code-examples/python/create+age-groups+in+pandas>\n",
    "\n",
    "* Hossein Pishro-Nik - Exponential Distribution, <https://www.probabilitycourse.com/chapter4/4_2_2_exponential.php>\n",
    "\n",
    "* Hosokawa et al. - Association between mobile technology use and child adjustment in early elementary school age, <https://www.ncbi.nlm.nih.gov/pmc/articles/PMC6059409/>\n",
    "\n",
    "* Investopedia - How do you interpret the magnitude of the covariance between two variables?, <https://www.investopedia.com/ask/answers/041515/how-do-you-interpret-magnitude-covariance-between-two-variables.asp>\n",
    "\n",
    "* Janux - 3.7.1. Discrete Uniform Probability Distribution, <https://www.youtube.com/watch?v=pc92J_DIwZo>\n",
    "\n",
    "* James Chen - Skewness, <https://www.investopedia.com/terms/s/skewness.asp>\n",
    "\n",
    "* Jim Frost - How to Identify the Distribution of Your Data, <https://statisticsbyjim.com/hypothesis-testing/identify-distribution-data/>\n",
    "\n",
    "* Jim Frost - Interpreting Correlation Coefficients, <https://statisticsbyjim.com/basics/correlations/>\n",
    "\n",
    "* Jim Frost - Regression Analysis, <https://statisticsbyjim.com/glossary/regression-analysis/>\n",
    "\n",
    "* Jim Frost - When Should I Use Regression Analysis?, <https://statisticsbyjim.com/regression/when-use-regression-analysis/>\n",
    "\n",
    "* JMP - Correlation, <https://www.jmp.com/en_au/statistics-knowledge-portal/what-is-correlation.html>\n",
    "\n",
    "* Joshua Ebner - How To Use Numpy Random Choice, <https://www.sharpsightlabs.com/blog/numpy-random-choice/>\n",
    "\n",
    "* Jupyter Notebook - Markdown Cells, https://jupyter-notebook.readthedocs.io/en/stable/examples/Notebook/Working%20With%20Markdown%20Cells.html\n",
    "\n",
    "* Kaggle - Detailed exploratory data analysis with python, <https://www.kaggle.com/ekami66/detailed-exploratory-data-analysis-with-python>\n",
    "\n",
    "* KDnuggets - Probability Distributions in Data Science , <https://www.kdnuggets.com/2020/02/probability-distributions-data-science.html>\n",
    "\n",
    "* Keith Galli - Generating Mock Data with Python! (NumPy, Pandas, & Datetime Libraries), <https://www.youtube.com/watch?v=VJBY2eVtf7o>\n",
    "\n",
    "* KidsHealth Medical Experts - Screen Time Guidelines for Teens, <https://kidshealth.org/en/parents/screentime-teens.html>\n",
    "\n",
    "* Laerd Statistics - Linear Regression Analysis using SPSS Statistics, <https://statistics.laerd.com/spss-tutorials/linear-regression-using-spss-statistics.php>\n",
    "\n",
    "* Learning about Electronics - How to Create a Countplot in Seaborn with Python, <http://www.learningaboutelectronics.com/Articles/How-to-create-a-countplot-in-seaborn-with-Python.php>\n",
    "\n",
    "* Lumen - The Exponential Distribution, <https://courses.lumenlearning.com/introstats1/chapter/the-exponential-distribution/>\n",
    "\n",
    "* Manu Jeevan - Step by step approach to perform data analysis using Python, <https://bigdata-madesimple.com/step-by-step-approach-to-perform-data-analysis-using-python/>\n",
    "\n",
    "* Margriet Groenendijk - Analyze open data sets using pandas in a Python notebook, <https://medium.com/@MargrietGr/analyze-open-data-sets-using-pandas-in-a-python-notebook-64e93776370a>\n",
    "\n",
    "* Matplotlib Manual Version 3.1.2 - matplotlib.axes.Axes.hist, <https://matplotlib.org/3.1.1/api/_as_gen/matplotlib.axes.Axes.hist.html>\n",
    "\n",
    "* Minitab - Interpret the key results for Covariance, <https://support.minitab.com/en-us/minitab-express/1/help-and-how-to/modeling-statistics/regression/how-to/covariance/interpret-the-results/>\n",
    "\n",
    "* Mirko Stojiljković - NumPy, SciPy, and Pandas: Correlation With Python, <https://realpython.com/numpy-scipy-pandas-correlation-python/#linear-regression-scipy-implementation>\n",
    "\n",
    "* Natassha Selvaraj - A Beginner’s Guide to Data Analysis in Python, <https://towardsdatascience.com/a-beginners-guide-to-data-analysis-in-python-188706df5447>\n",
    "\n",
    "* OpenStax - Descriptive Statistics: Skewness and the Mean, Median, and Mode, <https://cnx.org/contents/bE-w34Vi@9/Descriptive-Statistics-Skewness-and-the-Mean-Median-and-Mode>\n",
    "\n",
    "* Pandas Manual Version 1.2.0 - How do I select a subset of a DataFrame?, <https://pandas.pydata.org/docs/getting_started/intro_tutorials/03_subset_data.html>\n",
    "\n",
    "* Pandas Manual Version 1.2.0 - Merge, join, concatenate and compare, <https://pandas.pydata.org/pandas-docs/stable/user_guide/merging.html>\n",
    "\n",
    "* Primary Times - I’ve Got Your Number: Mobile Phones and kids, <https://www.primarytimes.ie/news/2017/03/i-ve-got-your-number-mobile-phones-and-kids>\n",
    "\n",
    "* Psycom.net – Teenage Cell Phone Addiction: Are You Worried About Your Child?, <https://www.psycom.net/cell-phone-internet-addiction>\n",
    "\n",
    "* Python-course.eu - Synthetical Test Data With Python,<https://www.python-course.eu/synthetical_test_data_with_python.php>\n",
    "\n",
    "* Rebecca Vickery - Tips and Tricks for Fast Data Analysis in Python, <https://towardsdatascience.com/tips-and-tricks-for-fast-data-analysis-in-python-f108ad32fa90>\n",
    "\n",
    "* Ritika Singh - Exploratory Data Analysis(EDA) in Python!, <https://www.analyticsvidhya.com/blog/2020/08/exploratory-data-analysiseda-from-scratch-in-python/>\n",
    "\n",
    "* Ruth et al. - U.S. High School Teenager Mobile App Usage, <https://askwonder.com/research/customer-demographics-u-s-high-school-teenager-mobile-app-usage-jvhvea91v>\n",
    "\n",
    "* Sachin Date - Assumptions of Linear Regression, <https://towardsdatascience.com/assumptions-of-linear-regression-5d87c347140>\n",
    "\n",
    "* Sarah Littler - The Importance and Effect of Sample Size, <https://select-statistics.co.uk/blog/importance-effect-sample-size/>\n",
    "\n",
    "* Sarah Perez - Time Spent In Apps Up 63 Percent Over Past Two Years, But Apps Used Monthly Show Little Change, <https://techcrunch.com/2015/06/11/time-spent-in-apps-up-63-percent-over-past-two-years-but-apps-used-monthly-shows-little-change/?_ga=2.136615664.1796286822.1608671755-1393211290.1608671755>\n",
    "\n",
    "* Science Direct - Power Law Distribution, <https://www.sciencedirect.com/topics/mathematics/power-law-distribution>\n",
    "\n",
    "* Seaborn Manual Version 0.11.1 - Scatterplot with varying point sizes and hues, <https://seaborn.pydata.org/examples/scatter_bubbles.html>\n",
    "\n",
    "* Shane Lynn - Using iloc, loc, & ix to select rows and columns in Pandas DataFrames, <https://www.shanelynn.ie/select-pandas-dataframe-rows-and-columns-using-iloc-loc-and-ix/>\n",
    "\n",
    "* Srishti Saha - Baffled by Covariance and Correlation??? Get the Math and the Application in Analytics for both the terms, <https://towardsdatascience.com/let-us-understand-the-correlation-matrix-and-covariance-matrix-d42e6b643c22>\n",
    "\n",
    "* Stack Exchange - Logistic regression score is negative, <https://datascience.stackexchange.com/questions/40670/logistic-regression-score-is-negative>\n",
    "\n",
    "* Stack Overflow - Determine Whether Integer Is Between Two Other Integers?, <https://stackoverflow.com/questions/13628791/determine-whether-integer-is-between-two-other-integers?\n",
    "\n",
    "* Stack Overflow - How to map numeric data into categories / bins in Pandas dataframe, <https://stackoverflow.com/questions/49382207/how-to-map-numeric-data-into-categories-bins-in-pandas-dataframe>\n",
    "\n",
    "* Stack Overflow - How to select rows from a DataFrame based on column values, <https://stackoverflow.com/questions/17071871/how-to-select-rows-from-a-dataframe-based-on-column-values>\n",
    "\n",
    "* Stack Overflow - In Python pandas, start row index from 1 instead of zero without creating additional column, <https://stackoverflow.com/questions/32249960/in-python-pandas-start-row-index-from-1-instead-of-zero-without-creating-additi/32249984>\n",
    "\n",
    "* Stack Overflow - matplotlib: Controlling pie chart font color, line width, <https://stackoverflow.com/questions/1915871/matplotlib-controlling-pie-chart-font-color-line-width?lq=1>\n",
    "\n",
    "* Stack Overflow - Random experiment of Binomial distribution using stats in python, <https://stackoverflow.com/questions/55113404/random-experiment-of-binomial-distribution-using-stats-in-python>\n",
    "\n",
    "* Stan Brown - Measures of Shape: Skewness and Kurtosis, <https://brownmath.com/stat/shape.htm>\n",
    "\n",
    "* Statistics Solutions - Pearson’s Correlation Coefficient, <https://www.statisticssolutions.com/pearsons-correlation-coefficient/>\n",
    "\n",
    "* Statista - Population of Ireland by age group in 2019, <https://www.statista.com/statistics/710767/irish-population-by-age/>\n",
    "\n",
    "* Study.com - Skewed Distribution: Examples & Definition, <https://study.com/academy/lesson/skewed-distribution-examples-definition-quiz.html>\n",
    "\n",
    "* Vlad Bezden - How to set seaborn plot size in Jupyter Notebook, <https://medium.com/@vladbezden/how-to-set-seaborn-plot-size-in-jupyter-notebook-63ffb1415431>\n",
    "\n",
    "* Walum, H. and De Leon, D. - A tale of two variables: Covariance and Correlation, <https://tinystats.github.io/teacups-giraffes-and-statistics/05_correlation.html#covariance>\n",
    "\n",
    "* Wolfram Mathworld - Exponential Distribution, <https://mathworld.wolfram.com/ExponentialDistribution.html>\n",
    "\n",
    "* Wolfram Mathworld - Normal Distribution, <https://mathworld.wolfram.com/NormalDistribution.html>"
   ]
  }
 ],
 "metadata": {
  "kernelspec": {
   "display_name": "Python 3",
   "language": "python",
   "name": "python3"
  },
  "language_info": {
   "codemirror_mode": {
    "name": "ipython",
    "version": 3
   },
   "file_extension": ".py",
   "mimetype": "text/x-python",
   "name": "python",
   "nbconvert_exporter": "python",
   "pygments_lexer": "ipython3",
   "version": "3.8.2"
  }
 },
 "nbformat": 4,
 "nbformat_minor": 4
}
