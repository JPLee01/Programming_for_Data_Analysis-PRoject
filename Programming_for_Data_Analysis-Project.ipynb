{
 "cells": [
  {
   "cell_type": "markdown",
   "metadata": {},
   "source": [
    "<img align=\"centre\" width=\"750\" height=\"750\" img src=\"https://i0.wp.com/www.creatingentrepreneursinfood.eu/wp-content/uploads/2017/02/GMIT-logo.png\">"
   ]
  },
  {
   "cell_type": "markdown",
   "metadata": {},
   "source": [
    "# Project - Programming for Data Analysis \n",
    "\n",
    "* **Author:** John Paul Lee\n",
    "* **Github:** JPLee01\n",
    "* **Email:** G00387906@gmit.ie\n",
    "* **Created:** 26-11-2020, **Last update:** 21-12-2020\n",
    "* Programming of Data Analysis: Simulation of real-world data using *numpy.random* package Project 2020\n",
    "****\n",
    "This Jupyter Notebook has been created to simulate a data set of real-world data using the *numpy.random* packge in Python. This notebook will investigate the types of variables involved, their likely distributions, and their relationships with each other. While also synthesising/simulating the data set as closely matching the properties as possible.\n",
    "\n",
    "**Lecturer:** Dr. Brian McGinley\n",
    "\n",
    "The Project instructions can be found [here](https://github.com/JPLee01/Programming_for_Data_Analysis-Project/blob/main/Project%20Instructions.pdf)\n",
    "****"
   ]
  },
  {
   "cell_type": "markdown",
   "metadata": {},
   "source": [
    "As part of the project this notebook will deal with four main tasks:\n",
    "1. Choose a real-world phenomenon that can be measured and for which you could collect at least one-hundred data points across at least four different variables.\n",
    "2. Investigate the types of variables involved, their likely distributions, and their relationships with each other.\n",
    "3. Synthesise/simulate a data set as closely matching their properties as possible.\n",
    "4. Detail your research and implement the simulation in a Jupyter notebook – the data set itself can simply be displayed in an output cell within the notebook."
   ]
  },
  {
   "cell_type": "markdown",
   "metadata": {},
   "source": [
    "## Preliminaries\n",
    "Prior to dealing with each task we first need to import a number of libraries. We need to import the NumPy library as it is essential to synthesise the data set. The Pandas libary will also be imported to allow for analysis of the dat set. The matplotlib and seaborn libaries will also need to be imported to allow for the creation of visualisations in the notebook."
   ]
  },
  {
   "cell_type": "code",
   "execution_count": 1,
   "metadata": {},
   "outputs": [],
   "source": [
    "# Import numpy to allow for simulation of the data set.\n",
    "# Import pandas to allow for analysis of the dat set. \n",
    "# Import matplotlib.pyplot and seaborn for the creation of visualisations\n",
    "import numpy as np\n",
    "import pandas as pd\n",
    "import matplotlib.pyplot as plt\n",
    "import seaborn as sns"
   ]
  },
  {
   "cell_type": "markdown",
   "metadata": {},
   "source": [
    "Also as we will be displaying Plots in this Jupyter Notebook we will implement the *inline* magic command to allow the Plots to be rendered inline within the Notebook.<sup>[1]</sup>"
   ]
  },
  {
   "cell_type": "code",
   "execution_count": 2,
   "metadata": {},
   "outputs": [],
   "source": [
    "#Inline Magic command implemented to ensure that the Plots are rendered inline\n",
    "%matplotlib inline"
   ]
  },
  {
   "cell_type": "markdown",
   "metadata": {},
   "source": [
    "To ensure uniformity throughout the Juypter Notebook in terms of the the Seaborn Plots display the *style* and *palette* fuction will be set.\n",
    "\n",
    "The *style* function will be set to *darkgrid*. This will allow for optimal measurments of Plots as the darkened background with the built in grid lines will be best displayed against the white background of the Juypter Notebook.<sup>[2]</sup> \n",
    "\n",
    "The *palette* fuction will be set to *bright* as it will allow for clear distinction of multiple outputs within one Plot.<sup>[3]</sup> "
   ]
  },
  {
   "cell_type": "code",
   "execution_count": 3,
   "metadata": {},
   "outputs": [],
   "source": [
    "#Setting of Seaborn dispays to enure uniformity throughout the Juypter Notebook\n",
    "#Darkplot style selected to allow for optimal measurments of Plots\n",
    "sns.set_style(\"darkgrid\")\n",
    "#Bright colour palette selected to allow for clear distinction of multiple outputs within one Plot \n",
    "sns.set_palette(\"bright\")"
   ]
  },
  {
   "cell_type": "markdown",
   "metadata": {},
   "source": [
    "To ensure the random arrays produced throughout the project will not change after every iteration of the designated cell or kernel the pseudo random number generator will be seeded.<sup>[4]</sup> While some may argue this results in the pseudo-random numbers becoming pre-determined, this consistency is important as it ensures the data entered in several plots throughout the project remains correct after every iteration.<sup>[5]</sup> It should also be noted that the number 111 for the seed has been chosen at random. "
   ]
  },
  {
   "cell_type": "code",
   "execution_count": 4,
   "metadata": {},
   "outputs": [],
   "source": [
    "np.random.seed(111)"
   ]
  },
  {
   "cell_type": "markdown",
   "metadata": {},
   "source": [
    "<img align=\"centre\" width=\"550\" height=\"450\" img src=\"https://vosizneias.com/wp-content/uploads/2020/05/now-BBDPGmkv-screentime1jpg-1210-680.jpg\">"
   ]
  },
  {
   "cell_type": "markdown",
   "metadata": {},
   "source": [
    "## Background\n",
    "This project will focus on the real-world phenomenon of the use of mobile devices by children. With the recent closures of Irish National Schools due to COVID19<sup>[6]</sup> childrens classes were moved online with resulted in their scren time increasing greatly.<sup>[7]</sup> This increase in screen time garnered alot of attention and provoked debate on the potential negative long term effects it may have on children.<sup>[8]</sup>\n",
    "\n",
    "This project aims to explore the relationships between a childs age, gender, screen time and the number of apps they use. The project will also attempt to be able to predict if a childs screen time will effect their long term health. As a result the four variables the project will focus on will be:\n",
    "1. Childs Age\n",
    "2. Gender\n",
    "3. Screen Time\n",
    "4. Number of Apps\n",
    "\n",
    "As this topic is a relatively new phenomenon and new research is being produced regurarly, the author will not base the project soley around one single source of infomration but will instead draw on a wide array of literature (journals, articles, studies etc.) to shape and influence the variables and the data set. \n",
    "\n",
    "The reason this topic was chosen by the author is that it is an area in which the author is activly interested in. As an expectant father, the author is acutely aware that todays generation are exposed to more mobile devices at a younger age than ever before. The author is conscious that while there are benefits to children using mobile devices, there are also potential negative effects and it is something which the author would like to explore. "
   ]
  },
  {
   "cell_type": "markdown",
   "metadata": {},
   "source": [
    "## Construction of Variables\n",
    "This section will focus on the construction of the variables chosen for the data set. \n",
    "\n",
    "While the instructions for the project state that the real-world phenomenon should contain at least one-hundred data points, the author feels that given the topics wide range of childrens ages, one-hundred data points is perhaps too small a sample size and may lead to an increase the margin of error or variability of the data set.<sup>[9]</sup> As a result, the author will draw inspiration from the Sellcell<sup>[10]</sup>, GSMA (Global System for Mobile Communications Association)<sup>[11]</sup> and Hosokawa<sup>[12]</sup> studies into this area which used samples sizes of 1135, 890 (average per country) and 1642 respectively. The result will mean that the a sample size of 1250 (the average of the above three studies rounded up) will be used for the project. It is hope this sample size will be able to offer confidence in the findings and also redue the margin of error."
   ]
  },
  {
   "cell_type": "markdown",
   "metadata": {},
   "source": [
    "### 1. Age\n",
    "While it should be assumed that the age category for a person to be classed as a child is common knowledge, in realtiy it is quiet different. As seen in Paul Cullens article<sup>[13]</sup> difference of opinion exisits on when a person is classified as a child and adult. In order to avoid confusion the project will use the Central Statistics Office's (CSO) age groups from the 2016 Census<sup>[14]</sup> (most recent) in it's age category for children. This will result in persons under the age of 18 being classed as childern with three further sub-categories being employed to differentiate the children based on their stage of education; Pre-school (0-5 years), Primary (5-13 years) and Secondary (13-18 years). \n",
    "\n",
    "As the author wishes for the project to remain as unbiased as possible, the distribution of the ages across the sample size will be determined by the numpy.random.randint function. This function is chosen as it returns random integers from the discrete uniform distribution, therefore ensuring each age has the same likelihhod of occuring.<sup>[15]</sup> This distribution the author feels is very important as it will ensure the data set is not dominated by one particular age."
   ]
  },
  {
   "cell_type": "code",
   "execution_count": 5,
   "metadata": {
    "scrolled": true
   },
   "outputs": [
    {
     "data": {
      "text/plain": [
       "array([12,  9,  2, ..., 17,  9, 15])"
      ]
     },
     "execution_count": 5,
     "metadata": {},
     "output_type": "execute_result"
    }
   ],
   "source": [
    "#Generate the random set of ages for the project (19 is entered into the code to allow for the distribution to be between 0 and 18, inclusive) \n",
    "age = np.random.randint(0,19, 1250)\n",
    "age"
   ]
  },
  {
   "cell_type": "code",
   "execution_count": 6,
   "metadata": {},
   "outputs": [
    {
     "data": {
      "text/plain": [
       "8.9536"
      ]
     },
     "execution_count": 6,
     "metadata": {},
     "output_type": "execute_result"
    }
   ],
   "source": [
    "#Average age of the sample\n",
    "np.mean(age)"
   ]
  },
  {
   "cell_type": "code",
   "execution_count": 7,
   "metadata": {},
   "outputs": [
    {
     "data": {
      "text/plain": [
       "9.0"
      ]
     },
     "execution_count": 7,
     "metadata": {},
     "output_type": "execute_result"
    }
   ],
   "source": [
    "#Median age of the sample\n",
    "np.median(age)"
   ]
  },
  {
   "cell_type": "code",
   "execution_count": 8,
   "metadata": {},
   "outputs": [
    {
     "data": {
      "image/png": "[encoded data removed]",
      "text/plain": [
       "<Figure size 432x288 with 1 Axes>"
      ]
     },
     "metadata": {},
     "output_type": "display_data"
    }
   ],
   "source": [
    "plt.hist(age)\n",
    "plt.title('Age')\n",
    "plt.xlabel('Age in years')\n",
    "plt.ylabel('Number')\n",
    "plt.grid()"
   ]
  },
  {
   "cell_type": "code",
   "execution_count": 9,
   "metadata": {
    "scrolled": true
   },
   "outputs": [
    {
     "data": {
      "image/png": "[encoded data removed]",
      "text/plain": [
       "<Figure size 432x288 with 1 Axes>"
      ]
     },
     "metadata": {},
     "output_type": "display_data"
    }
   ],
   "source": [
    "#Plotting of the Age Distribution by Sub-Categories\n",
    "plt.hist(age, bins= [0,5,13,18])\n",
    "plt.title('Age by Sub-Categories')\n",
    "plt.xlabel('Age in years')\n",
    "plt.ylabel('Number')\n",
    "plt.grid()"
   ]
  },
  {
   "cell_type": "markdown",
   "metadata": {},
   "source": [
    "As we can see from the above first plot, the distribution of the ages accross the sample size quiet even apart from the 6-8 age caregory which seems to include on average 40 respondents less than the other age ranges. When the ages are further divided into the sub-catergories we see in the second plot that the Primary (5-13 years) contains the majority of respondents (500) versus the other two sub-catergories; Pre-school (0-5 years) (300) and Secondary (13-18 years) (400).\n",
    "\n",
    "While the above two plots may appear to show bias towards or against a certain age range this in fact purley the result of the visualtion in which the bins are displayed. This hypothecial bias can be seen to take a different turn when the age range is displayed with a bin representing every year (i.e 1,2,3 etc). In the below plot we can see that now it appreas there is a \n",
    "\n",
    "This can also be seen by the average age of the sample being 9.0632 which exceptionally close to the median age of the sample (9). \n"
   ]
  },
  {
   "cell_type": "code",
   "execution_count": 10,
   "metadata": {},
   "outputs": [
    {
     "data": {
      "image/png": "[encoded data removed]",
      "text/plain": [
       "<Figure size 432x288 with 1 Axes>"
      ]
     },
     "metadata": {},
     "output_type": "display_data"
    }
   ],
   "source": [
    "#Plotting of the Age Distribution by Sub-Categories\n",
    "plt.hist(age, bins= [0,1,2,3,4,5,6,7,8,9,10,11,12,13,14,15,16,17,18])\n",
    "plt.title('Age by Sub-Categories')\n",
    "plt.xlabel('Age in years')\n",
    "plt.ylabel('Number')\n",
    "plt.grid()"
   ]
  },
  {
   "cell_type": "markdown",
   "metadata": {},
   "source": [
    "### 2. Gender\n",
    "For the purpose of this project the author will treat gender as a binary categorical variable, i.e. a varible that has two values, male and female. It should be noted that categorical data can also take on numerical values, this could be for example 0 = female and 1 = male.\n",
    "\n",
    "The distribution for this variable will be calculated using the numpy.random.choice function. This function returns a returns a randomly selected sample from the specified sequence.<sup>[16]</sup> The specified sequence for the numpy.random.choice function will be the choice between the two genders i.e. Male or Female. In order to ensure realism, the gender breakdown for the project will follow the same breakdown as the 2016 census. According to the 2016 census there were 978 males for every 1,000 females.<sup>[17]</sup> This gives a probability for the numpy.random.choice function as male = .495 (49.55) and female = .505 (50.55)."
   ]
  },
  {
   "cell_type": "code",
   "execution_count": 11,
   "metadata": {
    "scrolled": true
   },
   "outputs": [
    {
     "name": "stdout",
     "output_type": "stream",
     "text": [
      "['Male' 'Male' 'Female' ... 'Male' 'Female' 'Male']\n"
     ]
    }
   ],
   "source": [
    "Gender = ['Male', 'Female'] \n",
    "g = np.random.choice(Gender, 1250, p=[0.495, 0.505])\n",
    "\n",
    "print(g)"
   ]
  },
  {
   "cell_type": "markdown",
   "metadata": {},
   "source": [
    "As we can see above an array is produced stating if the gender is male or female. This array can also be produced numerically where 1 = Male and 0 = Female. "
   ]
  },
  {
   "cell_type": "code",
   "execution_count": 12,
   "metadata": {
    "scrolled": true
   },
   "outputs": [
    {
     "name": "stdout",
     "output_type": "stream",
     "text": [
      "[0 1 0 ... 1 0 0]\n"
     ]
    }
   ],
   "source": [
    "Gender_Num = [1, 0]\n",
    "w = np.random.choice(Gender_Num, 1250, p=[0.495, 0.505])\n",
    "print(w)"
   ]
  },
  {
   "cell_type": "markdown",
   "metadata": {},
   "source": [
    "From this array we can implement the the numpy.count_nonzero function<sup>[18]</sup> to count the number of 1 (Male) and 0 (Female) figures in the array. This will allow us to see the breakdown of Males and Females in the sample set. "
   ]
  },
  {
   "cell_type": "code",
   "execution_count": 13,
   "metadata": {
    "scrolled": false
   },
   "outputs": [
    {
     "name": "stdout",
     "output_type": "stream",
     "text": [
      "Number of Males:  617\n",
      "Number of Females:  633\n"
     ]
    }
   ],
   "source": [
    "print(\"Number of Males: \", np.count_nonzero(w == 1))\n",
    "print(\"Number of Females: \", np.count_nonzero(w == 0))"
   ]
  },
  {
   "cell_type": "markdown",
   "metadata": {},
   "source": [
    "As we can see above the breakdown of Males and Females in the sample set is 622 and 628 respectively. This can be visually represented using the matplotlib.pyplot.pie function.<sup>[19]</sup>"
   ]
  },
  {
   "cell_type": "code",
   "execution_count": 21,
   "metadata": {},
   "outputs": [
    {
     "data": {
      "image/png": "[encoded data removed]",
      "text/plain": [
       "<Figure size 576x576 with 1 Axes>"
      ]
     },
     "metadata": {},
     "output_type": "display_data"
    }
   ],
   "source": [
    "labels = 'Male', 'Female'\n",
    "sizes = [617, 633]\n",
    "explode = (0, 0.1)\n",
    "\n",
    "fig1, ax1 = plt.subplots(figsize=(8,8))\n",
    "ax1.pie(sizes, explode=explode, labels=labels, autopct='%1.1f%%',\n",
    "        shadow=True, startangle=90)\n",
    "ax1.axis('equal')\n",
    "plt.title('Gender Breakdown')\n",
    "plt.show()"
   ]
  },
  {
   "cell_type": "markdown",
   "metadata": {},
   "source": [
    "As we can see from the above Pie Chart in precentage terms the breakdown for Males and Females in the sample set is 49.4% vs. 50.6% respectively. It should be noted that the breakdown is extremely close to the breakdown recored in the 2016 Census (Males 49.55% vs. Females 50.55%)."
   ]
  },
  {
   "cell_type": "markdown",
   "metadata": {},
   "source": [
    "### 3. Screen Time"
   ]
  },
  {
   "cell_type": "code",
   "execution_count": null,
   "metadata": {},
   "outputs": [],
   "source": []
  },
  {
   "cell_type": "code",
   "execution_count": null,
   "metadata": {},
   "outputs": [],
   "source": []
  },
  {
   "cell_type": "code",
   "execution_count": null,
   "metadata": {},
   "outputs": [],
   "source": []
  },
  {
   "cell_type": "code",
   "execution_count": 15,
   "metadata": {
    "scrolled": true
   },
   "outputs": [
    {
     "data": {
      "text/html": [
       "<div>\n",
       "<style scoped>\n",
       "    .dataframe tbody tr th:only-of-type {\n",
       "        vertical-align: middle;\n",
       "    }\n",
       "\n",
       "    .dataframe tbody tr th {\n",
       "        vertical-align: top;\n",
       "    }\n",
       "\n",
       "    .dataframe thead th {\n",
       "        text-align: right;\n",
       "    }\n",
       "</style>\n",
       "<table border=\"1\" class=\"dataframe\">\n",
       "  <thead>\n",
       "    <tr style=\"text-align: right;\">\n",
       "      <th></th>\n",
       "      <th>Age</th>\n",
       "    </tr>\n",
       "  </thead>\n",
       "  <tbody>\n",
       "    <tr>\n",
       "      <th>1</th>\n",
       "      <td>12</td>\n",
       "    </tr>\n",
       "    <tr>\n",
       "      <th>2</th>\n",
       "      <td>9</td>\n",
       "    </tr>\n",
       "    <tr>\n",
       "      <th>3</th>\n",
       "      <td>2</td>\n",
       "    </tr>\n",
       "    <tr>\n",
       "      <th>4</th>\n",
       "      <td>18</td>\n",
       "    </tr>\n",
       "    <tr>\n",
       "      <th>5</th>\n",
       "      <td>8</td>\n",
       "    </tr>\n",
       "    <tr>\n",
       "      <th>...</th>\n",
       "      <td>...</td>\n",
       "    </tr>\n",
       "    <tr>\n",
       "      <th>1246</th>\n",
       "      <td>2</td>\n",
       "    </tr>\n",
       "    <tr>\n",
       "      <th>1247</th>\n",
       "      <td>18</td>\n",
       "    </tr>\n",
       "    <tr>\n",
       "      <th>1248</th>\n",
       "      <td>17</td>\n",
       "    </tr>\n",
       "    <tr>\n",
       "      <th>1249</th>\n",
       "      <td>9</td>\n",
       "    </tr>\n",
       "    <tr>\n",
       "      <th>1250</th>\n",
       "      <td>15</td>\n",
       "    </tr>\n",
       "  </tbody>\n",
       "</table>\n",
       "<p>1250 rows × 1 columns</p>\n",
       "</div>"
      ],
      "text/plain": [
       "      Age\n",
       "1      12\n",
       "2       9\n",
       "3       2\n",
       "4      18\n",
       "5       8\n",
       "...   ...\n",
       "1246    2\n",
       "1247   18\n",
       "1248   17\n",
       "1249    9\n",
       "1250   15\n",
       "\n",
       "[1250 rows x 1 columns]"
      ]
     },
     "execution_count": 15,
     "metadata": {},
     "output_type": "execute_result"
    }
   ],
   "source": [
    "a = pd.DataFrame(age, columns=['Age'])\n",
    "a.index = np.arange(1, len(a) + 1)\n",
    "a"
   ]
  },
  {
   "cell_type": "markdown",
   "metadata": {},
   "source": [
    "## References\n",
    "----------------------------------------------------"
   ]
  },
  {
   "cell_type": "markdown",
   "metadata": {},
   "source": [
    "<a name=\"myfootnote1\">1</a>: Stack Overflow - Purpose of “%matplotlib inline”, <https://stackoverflow.com/questions/43027980/purpose-of-matplotlib-inline/43028034>\n",
    "\n",
    "<a name=\"myfootnote2\">2</a>: The Python Graph Gallery - 104 Seaborn Themes, <https://python-graph-gallery.com/104-seaborn-themes/>\n",
    "\n",
    "<a name=\"myfootnote3\">3</a>: Seaborn - Choosing color palettes, <https://seaborn.pydata.org/tutorial/color_palettes.html>\n",
    "\n",
    "<a name=\"myfootnote4\">4</a>: Stack Overflow - What does numpy.random.seed(0) do?, <https://stackoverflow.com/questions/21494489/what-does-numpy-random-seed0-do>\n",
    "\n",
    "<a name=\"myfootnote5\">5</a>: Debanjona Bhattacharjya - NumPy.Random.Seed(101) Explained, <https://medium.com/@debanjana.bhattacharyya9818/numpy-random-seed-101-explained-2e96ee3fd90b>\n",
    "\n",
    "<a name=\"myfootnote6\">6</a>: Department of Education - Covid-19 - Statement from the Department of Education and Skills, <https://www.education.ie/en/Press-Events/Press-Releases/2020-press-releases/12-march-2020-statement-from-the-department-of-education-and-skills.html>\n",
    "\n",
    "<a name=\"myfootnote7\">7</a>: Wong et al. - Digital Screen Time During COVID-19 Pandemic: Risk for a Further Myopia Boom?, <https://www.ncbi.nlm.nih.gov/pmc/articles/PMC7390728/>\n",
    "\n",
    "<a name=\"myfootnote8\">8</a>: Suzanne M. Egan and Chloe Beatty - How much screen time is too much for young children?, <https://www.rte.ie/brainstorm/2020/0518/1139039-children-screen-time/>\n",
    "\n",
    "<a name=\"myfootnote9\">9</a>: A. E. Simmons - The Disadvantages of a Small Sample Size, <https://sciencing.com/disadvantages-small-sample-size-8448532.html>\n",
    "\n",
    "<a name=\"myfootnote10\">10</a>: Sellcell - Kids Cell Phone Use Survey 2019 – Truth About Kids & Phones, <https://www.sellcell.com/blog/kids-cell-phone-use-survey-2019/>\n",
    "\n",
    "<a name=\"myfootnote11\">11</a>: GSMA - Children’s use of mobile phones - An international comparison 2013, <https://www.gsma.com/publicpolicy/wp-content/uploads/2016/09/GSMA2013_Report_ChildrensUseOfMobilePhones.pdf>\n",
    "\n",
    "<a name=\"myfootnote12\">12</a>: Rikuya Hosokawa - Association between mobile technology use and child adjustment in early elementary school age, <https://www.ncbi.nlm.nih.gov/pmc/articles/PMC6059409/>\n",
    "\n",
    "<a name=\"myfootnote13\">13</a>: Peter Cullen - Age Definition of Child Sought by Doctors at Conference, <https://www.irishtimes.com/news/health/age-definition-of-child-sought-by-doctors-at-conference-1.3056713>\n",
    "\n",
    "<a name=\"myfootnote14\">14</a>: CSO - Census of Population 2016 - Age Groups, <https://www.cso.ie/en/releasesandpublications/ep/p-cp3oy/cp3/agr/>\n",
    "\n",
    "<a name=\"myfootnote15\">15</a>: Numpy Manual Version 1.19 - numpy.random.randint, <https://numpy.org/doc/stable/reference/random/generated/numpy.random.randint.html>\n",
    "\n",
    "<a name=\"myfootnote16\">16</a>: Numpy Manual Version 1.19 - numpy.random.choice, <https://het.as.utexas.edu/HET/Software/Numpy/reference/generated/numpy.random.choice.html>\n",
    "\n",
    "<a name=\"myfootnote17\">17</a>: CSO - Census of Population 2016 - Age Structure and Sex Ration, <https://www.cso.ie/en/releasesandpublications/ep/p-cp3oy/cp3/assr/>\n",
    "\n",
    "<a name=\"myfootnote18\">18</a>: Numpy Manual Version 1.19 - numpy.count_nonzero, <https://numpy.org/doc/stable/reference/generated/numpy.count_nonzero.html>\n",
    "\n",
    "<a name=\"myfootnote19\">19</a>: "
   ]
  },
  {
   "cell_type": "markdown",
   "metadata": {},
   "source": [
    "## Bibliography\n",
    "----------------------------------------------------"
   ]
  },
  {
   "cell_type": "markdown",
   "metadata": {},
   "source": [
    "Within the course of this project the following sources were also used for research purposes:\n",
    "\n",
    "* Keith Galli - Generating Mock Data with Python! (NumPy, Pandas, & Datetime Libraries), <https://www.youtube.com/watch?v=VJBY2eVtf7o>\n",
    "\n",
    "* Python-course.eu - Synthetical Test Data With Python,<https://www.python-course.eu/synthetical_test_data_with_python.php>\n",
    "\n",
    "* Catherine Scruggs - How to Determine the Sample Size in a Quantitative Research Study, <https://sciencing.com/determine-size-quantitative-research-study-8072459.html>\n",
    "\n",
    "* Sarah Littler - The Importance and Effect of Sample Size, <https://select-statistics.co.uk/blog/importance-effect-sample-size/>\n",
    "\n",
    "* Janux - 3.7.1. Discrete Uniform Probability Distribution, <https://www.youtube.com/watch?v=pc92J_DIwZo>\n",
    "\n",
    "* Grepper - Create Age-Groups in Pandas, <https://www.codegrepper.com/code-examples/python/create+age-groups+in+pandas>\n",
    "\n",
    "* Stack Overflow - How to map numeric data into categories / bins in Pandas dataframe, <https://stackoverflow.com/questions/49382207/how-to-map-numeric-data-into-categories-bins-in-pandas-dataframe>\n",
    "\n",
    "* Stack Overflow - In Python pandas, start row index from 1 instead of zero without creating additional column, <https://stackoverflow.com/questions/32249960/in-python-pandas-start-row-index-from-1-instead-of-zero-without-creating-additi/32249984>\n",
    "\n",
    "* Matplotlib Manual Version 3.1.2 - matplotlib.axes.Axes.hist, <https://matplotlib.org/3.1.1/api/_as_gen/matplotlib.axes.Axes.hist.html>\n",
    "\n",
    "* Statista - Population of Ireland by age group in 2019, <https://www.statista.com/statistics/710767/irish-population-by-age/>\n",
    "\n",
    "* Joshua Ebner - How To Use Numpy Random Choice, <https://www.sharpsightlabs.com/blog/numpy-random-choice/>\n",
    "\n",
    "* Stack Overflow - matplotlib: Controlling pie chart font color, line width, <https://stackoverflow.com/questions/1915871/matplotlib-controlling-pie-chart-font-color-line-width?lq=1>"
   ]
  }
 ],
 "metadata": {
  "kernelspec": {
   "display_name": "Python 3",
   "language": "python",
   "name": "python3"
  },
  "language_info": {
   "codemirror_mode": {
    "name": "ipython",
    "version": 3
   },
   "file_extension": ".py",
   "mimetype": "text/x-python",
   "name": "python",
   "nbconvert_exporter": "python",
   "pygments_lexer": "ipython3",
   "version": "3.8.2"
  }
 },
 "nbformat": 4,
 "nbformat_minor": 4
}
